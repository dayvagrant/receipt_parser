{
 "cells": [
  {
   "cell_type": "code",
   "execution_count": 12,
   "metadata": {},
   "outputs": [],
   "source": [
    "import pandas as pd\n",
    "import numpy as np"
   ]
  },
  {
   "cell_type": "code",
   "execution_count": 8,
   "metadata": {},
   "outputs": [],
   "source": [
    "df = pd.read_excel('data/data.xlsx')"
   ]
  },
  {
   "cell_type": "code",
   "execution_count": 9,
   "metadata": {},
   "outputs": [],
   "source": [
    "target_shops = [\n",
    "    'АО \"ТОРГОВЫЙ ДОМ \"ПЕРЕКРЕСТОК\"', 'ООО \"АГРОТОРГ\"', 'ООО \"ЛЕНТА\"',\n",
    "   'АО \"ДИКСИ ЮГ\"', 'ООО \"АШАН\"', 'АО \"ТАНДЕР\"', 'ООО \"БИЛЛА\"', 'ООО \"О`КЕЙ\"',\n",
    "    'ООО \"АГРОАСПЕКТ\"', 'ООО \"АТАК\"'\n",
    "]\n",
    "\n",
    "shops_rename = {\n",
    "    'АО \"ТОРГОВЫЙ ДОМ \"ПЕРЕКРЕСТОК\"': 'ПЕРЕКРЕСТОК',\n",
    "    'ООО \"АГРОТОРГ\"': 'ПЯТЕРОЧКА',\n",
    "    'ООО \"ЛЕНТА\"': 'ЛЕНТА',\n",
    "    'АО \"ДИКСИ ЮГ\"': 'ДИКСИ',\n",
    "    'ООО \"АШАН\"': 'АШАН',\n",
    "    'АО \"ТАНДЕР\"': 'МАГНИТ',\n",
    "    'ООО \"БИЛЛА\"': 'БИЛЛА',\n",
    "    'ООО \"О`КЕЙ\"': 'О`КЕЙ',\n",
    "    'ООО \"АГРОАСПЕКТ\"': 'ПЯТЕРОЧКА',\n",
    "    'ООО \"АТАК\"': 'АТАК'\n",
    "}\n",
    "\n",
    "df = df[df['shop_name'].isin(target_shops)].copy()\n",
    "df['shop_name'] = df['shop_name'].apply(lambda x: shops_rename[x])"
   ]
  },
  {
   "cell_type": "code",
   "execution_count": 10,
   "metadata": {},
   "outputs": [
    {
     "data": {
      "text/html": [
       "<div>\n",
       "<style scoped>\n",
       "    .dataframe tbody tr th:only-of-type {\n",
       "        vertical-align: middle;\n",
       "    }\n",
       "\n",
       "    .dataframe tbody tr th {\n",
       "        vertical-align: top;\n",
       "    }\n",
       "\n",
       "    .dataframe thead th {\n",
       "        text-align: right;\n",
       "    }\n",
       "</style>\n",
       "<table border=\"1\" class=\"dataframe\">\n",
       "  <thead>\n",
       "    <tr style=\"text-align: right;\">\n",
       "      <th></th>\n",
       "      <th>shop_name</th>\n",
       "      <th>name</th>\n",
       "      <th>quantity</th>\n",
       "      <th>price</th>\n",
       "      <th>sum</th>\n",
       "    </tr>\n",
       "  </thead>\n",
       "  <tbody>\n",
       "    <tr>\n",
       "      <th>19</th>\n",
       "      <td>ДИКСИ</td>\n",
       "      <td>МИНТАЙ ФИЛЕ Б/К СВ/МОР П/ПАК 8</td>\n",
       "      <td>1.0</td>\n",
       "      <td>199.90</td>\n",
       "      <td>199.90</td>\n",
       "    </tr>\n",
       "    <tr>\n",
       "      <th>20</th>\n",
       "      <td>ДИКСИ</td>\n",
       "      <td>БЗМЖ МОЛОКО СТРАНА ВАСИЛЬКИ У/</td>\n",
       "      <td>1.0</td>\n",
       "      <td>49.99</td>\n",
       "      <td>49.99</td>\n",
       "    </tr>\n",
       "    <tr>\n",
       "      <th>21</th>\n",
       "      <td>ДИКСИ</td>\n",
       "      <td>СУШКИ ТАРАЛЛИНИ С ЧЕСНОКОМ 180</td>\n",
       "      <td>1.0</td>\n",
       "      <td>29.99</td>\n",
       "      <td>29.99</td>\n",
       "    </tr>\n",
       "    <tr>\n",
       "      <th>22</th>\n",
       "      <td>ДИКСИ</td>\n",
       "      <td>ЯЙЦО КУРИНОЕ СТОЛОВОЕ 1КАТЕГОР</td>\n",
       "      <td>1.0</td>\n",
       "      <td>63.99</td>\n",
       "      <td>63.99</td>\n",
       "    </tr>\n",
       "    <tr>\n",
       "      <th>23</th>\n",
       "      <td>ДИКСИ</td>\n",
       "      <td>ПЕЧЕНЬЕ ЮБИЛЕЙНОЕ ВИТАМИНИЗИРО</td>\n",
       "      <td>2.0</td>\n",
       "      <td>29.99</td>\n",
       "      <td>59.98</td>\n",
       "    </tr>\n",
       "  </tbody>\n",
       "</table>\n",
       "</div>"
      ],
      "text/plain": [
       "   shop_name                            name  quantity   price     sum\n",
       "19     ДИКСИ  МИНТАЙ ФИЛЕ Б/К СВ/МОР П/ПАК 8       1.0  199.90  199.90\n",
       "20     ДИКСИ  БЗМЖ МОЛОКО СТРАНА ВАСИЛЬКИ У/       1.0   49.99   49.99\n",
       "21     ДИКСИ  СУШКИ ТАРАЛЛИНИ С ЧЕСНОКОМ 180       1.0   29.99   29.99\n",
       "22     ДИКСИ  ЯЙЦО КУРИНОЕ СТОЛОВОЕ 1КАТЕГОР       1.0   63.99   63.99\n",
       "23     ДИКСИ  ПЕЧЕНЬЕ ЮБИЛЕЙНОЕ ВИТАМИНИЗИРО       2.0   29.99   59.98"
      ]
     },
     "execution_count": 10,
     "metadata": {},
     "output_type": "execute_result"
    }
   ],
   "source": [
    "df.head()"
   ]
  },
  {
   "cell_type": "code",
   "execution_count": 23,
   "metadata": {},
   "outputs": [],
   "source": [
    "benchmarks = pd.DataFrame(columns=['shop_name', 'name'])"
   ]
  },
  {
   "cell_type": "code",
   "execution_count": 24,
   "metadata": {},
   "outputs": [],
   "source": [
    "for shop in np.unique(list(shops_rename.values())):\n",
    "    benchmarks = pd.concat([benchmarks, df[df['shop_name'] == shop].sample(5)[['shop_name', 'name']]])"
   ]
  },
  {
   "cell_type": "code",
   "execution_count": 61,
   "metadata": {},
   "outputs": [
    {
     "data": {
      "text/html": [
       "<div>\n",
       "<style scoped>\n",
       "    .dataframe tbody tr th:only-of-type {\n",
       "        vertical-align: middle;\n",
       "    }\n",
       "\n",
       "    .dataframe tbody tr th {\n",
       "        vertical-align: top;\n",
       "    }\n",
       "\n",
       "    .dataframe thead th {\n",
       "        text-align: right;\n",
       "    }\n",
       "</style>\n",
       "<table border=\"1\" class=\"dataframe\">\n",
       "  <thead>\n",
       "    <tr style=\"text-align: right;\">\n",
       "      <th></th>\n",
       "      <th>shop_name</th>\n",
       "      <th>name</th>\n",
       "    </tr>\n",
       "  </thead>\n",
       "  <tbody>\n",
       "    <tr>\n",
       "      <th>41261</th>\n",
       "      <td>АТАК</td>\n",
       "      <td>ЖЕЛУДКИ 500Г/ПОДЛ/ТР</td>\n",
       "    </tr>\n",
       "    <tr>\n",
       "      <th>41677</th>\n",
       "      <td>АТАК</td>\n",
       "      <td>СОК ЯБЛ/БАНАН 6М 0,2</td>\n",
       "    </tr>\n",
       "    <tr>\n",
       "      <th>42169</th>\n",
       "      <td>АТАК</td>\n",
       "      <td>ТОМАТ БАКИНСКИЙ ВЕС</td>\n",
       "    </tr>\n",
       "    <tr>\n",
       "      <th>41432</th>\n",
       "      <td>АТАК</td>\n",
       "      <td>ЙОГ ВИШНЯ 250ГР</td>\n",
       "    </tr>\n",
       "    <tr>\n",
       "      <th>42541</th>\n",
       "      <td>АТАК</td>\n",
       "      <td>СР-ВО АНТИЖИР 500МЛ</td>\n",
       "    </tr>\n",
       "  </tbody>\n",
       "</table>\n",
       "</div>"
      ],
      "text/plain": [
       "      shop_name                   name\n",
       "41261      АТАК   ЖЕЛУДКИ 500Г/ПОДЛ/ТР\n",
       "41677      АТАК   СОК ЯБЛ/БАНАН 6М 0,2\n",
       "42169      АТАК    ТОМАТ БАКИНСКИЙ ВЕС\n",
       "41432      АТАК        ЙОГ ВИШНЯ 250ГР\n",
       "42541      АТАК    СР-ВО АНТИЖИР 500МЛ"
      ]
     },
     "execution_count": 61,
     "metadata": {},
     "output_type": "execute_result"
    }
   ],
   "source": [
    "benchmarks.head()"
   ]
  },
  {
   "cell_type": "code",
   "execution_count": null,
   "metadata": {},
   "outputs": [],
   "source": [
    "Красота, гигиена, бытовая химия\n",
    "Хлеб, сладости, снеки\n",
    "Молоко, сыр, яйца\n",
    "Соусы, орехи, консервы\n",
    "Макароны, крупы, специи\n",
    "Другое\n",
    "Воды, соки, напитки\n",
    "Рыба, икра\n",
    "Чай, кофе, сахар\n",
    "Замороженные продукты\n",
    "Товары для мам и детей\n",
    "Птица, мясо, деликатесы\n",
    "Посуда\n",
    "Овощи, фрукты, ягоды\n",
    "Товары для дома и дачи\n",
    "Подборки и готовые блюда\n",
    "Зоотовары\n",
    "Бытовая техника\n",
    "Дача и гриль\n",
    "Алкоголь\n",
    "Постные продукты"
   ]
  },
  {
   "cell_type": "code",
   "execution_count": 67,
   "metadata": {},
   "outputs": [],
   "source": [
    "from IPython.display import clear_output\n",
    "\n",
    "names = []\n",
    "brands = []\n",
    "category = []\n",
    "\n",
    "for name in benchmarks['name']:\n",
    "    print(name)\n",
    "    names.append(input('Продукт:'))\n",
    "    brands.append(input('Бренд:'))\n",
    "    category.append(input('Категория:'))\n",
    "    clear_output"
   ]
  },
  {
   "cell_type": "code",
   "execution_count": 68,
   "metadata": {},
   "outputs": [],
   "source": [
    "benchmarks['product'] = names\n",
    "benchmarks['brand'] = brands\n",
    "benchmarks['category'] = category"
   ]
  },
  {
   "cell_type": "code",
   "execution_count": 70,
   "metadata": {},
   "outputs": [],
   "source": [
    "benchmarks['product'] = benchmarks['product'].str.lower()\n",
    "benchmarks['brand'] = benchmarks['brand'].str.lower()\n",
    "benchmarks['product'] = benchmarks['product'].str.lower()"
   ]
  },
  {
   "cell_type": "code",
   "execution_count": 71,
   "metadata": {},
   "outputs": [
    {
     "data": {
      "text/html": [
       "<div>\n",
       "<style scoped>\n",
       "    .dataframe tbody tr th:only-of-type {\n",
       "        vertical-align: middle;\n",
       "    }\n",
       "\n",
       "    .dataframe tbody tr th {\n",
       "        vertical-align: top;\n",
       "    }\n",
       "\n",
       "    .dataframe thead th {\n",
       "        text-align: right;\n",
       "    }\n",
       "</style>\n",
       "<table border=\"1\" class=\"dataframe\">\n",
       "  <thead>\n",
       "    <tr style=\"text-align: right;\">\n",
       "      <th></th>\n",
       "      <th>shop_name</th>\n",
       "      <th>name</th>\n",
       "      <th>product</th>\n",
       "      <th>brand</th>\n",
       "      <th>category</th>\n",
       "    </tr>\n",
       "  </thead>\n",
       "  <tbody>\n",
       "    <tr>\n",
       "      <th>41261</th>\n",
       "      <td>АТАК</td>\n",
       "      <td>ЖЕЛУДКИ 500Г/ПОДЛ/ТР</td>\n",
       "      <td>желудки</td>\n",
       "      <td>троекурово</td>\n",
       "      <td>Птица, мясо, деликатесы</td>\n",
       "    </tr>\n",
       "    <tr>\n",
       "      <th>41677</th>\n",
       "      <td>АТАК</td>\n",
       "      <td>СОК ЯБЛ/БАНАН 6М 0,2</td>\n",
       "      <td>сок</td>\n",
       "      <td>-</td>\n",
       "      <td>Воды, соки, напитки</td>\n",
       "    </tr>\n",
       "    <tr>\n",
       "      <th>42169</th>\n",
       "      <td>АТАК</td>\n",
       "      <td>ТОМАТ БАКИНСКИЙ ВЕС</td>\n",
       "      <td>томат</td>\n",
       "      <td>-</td>\n",
       "      <td>Овощи, фрукты, ягоды</td>\n",
       "    </tr>\n",
       "    <tr>\n",
       "      <th>41432</th>\n",
       "      <td>АТАК</td>\n",
       "      <td>ЙОГ ВИШНЯ 250ГР</td>\n",
       "      <td>йогурт</td>\n",
       "      <td>-</td>\n",
       "      <td>Молоко, сыр, яйца</td>\n",
       "    </tr>\n",
       "    <tr>\n",
       "      <th>42541</th>\n",
       "      <td>АТАК</td>\n",
       "      <td>СР-ВО АНТИЖИР 500МЛ</td>\n",
       "      <td>средство антижир</td>\n",
       "      <td>-</td>\n",
       "      <td>Красота, гигиена, бытовая химия</td>\n",
       "    </tr>\n",
       "  </tbody>\n",
       "</table>\n",
       "</div>"
      ],
      "text/plain": [
       "      shop_name                   name           product       brand  \\\n",
       "41261      АТАК   ЖЕЛУДКИ 500Г/ПОДЛ/ТР           желудки  троекурово   \n",
       "41677      АТАК   СОК ЯБЛ/БАНАН 6М 0,2               сок           -   \n",
       "42169      АТАК    ТОМАТ БАКИНСКИЙ ВЕС             томат           -   \n",
       "41432      АТАК        ЙОГ ВИШНЯ 250ГР            йогурт           -   \n",
       "42541      АТАК    СР-ВО АНТИЖИР 500МЛ  средство антижир           -   \n",
       "\n",
       "                              category  \n",
       "41261          Птица, мясо, деликатесы  \n",
       "41677              Воды, соки, напитки  \n",
       "42169             Овощи, фрукты, ягоды  \n",
       "41432                Молоко, сыр, яйца  \n",
       "42541  Красота, гигиена, бытовая химия  "
      ]
     },
     "execution_count": 71,
     "metadata": {},
     "output_type": "execute_result"
    }
   ],
   "source": [
    "benchmarks.head()"
   ]
  },
  {
   "cell_type": "code",
   "execution_count": 74,
   "metadata": {},
   "outputs": [
    {
     "data": {
      "text/plain": [
       "Овощи, фрукты, ягоды               11\n",
       "Молоко, сыр, яйца                  10\n",
       "Хлеб, сладости, снеки               6\n",
       "Птица, мясо, деликатесы             4\n",
       "Товары для дома и дачи              3\n",
       "Соусы, орехи, консервы              3\n",
       "Воды, соки, напитки                 2\n",
       "Замороженные продукты               1\n",
       "Красота, гигиена, бытовая химия     1\n",
       "Другое                              1\n",
       "Макароны, крупы, специи             1\n",
       "Алкоголь                            1\n",
       "Чай, кофе, сахар                    1\n",
       "Name: category, dtype: int64"
      ]
     },
     "execution_count": 74,
     "metadata": {},
     "output_type": "execute_result"
    }
   ],
   "source": [
    "benchmarks.category.value_counts()"
   ]
  },
  {
   "cell_type": "code",
   "execution_count": 75,
   "metadata": {},
   "outputs": [],
   "source": [
    "benchmarks.rename(columns={'name': 'Название'}, inplace=True)"
   ]
  },
  {
   "cell_type": "code",
   "execution_count": null,
   "metadata": {},
   "outputs": [],
   "source": [
    "benchmarks.to_csv(be)"
   ]
  },
  {
   "cell_type": "code",
   "execution_count": null,
   "metadata": {},
   "outputs": [],
   "source": []
  }
 ],
 "metadata": {
  "kernelspec": {
   "display_name": "Python 3",
   "language": "python",
   "name": "python3"
  },
  "language_info": {
   "codemirror_mode": {
    "name": "ipython",
    "version": 3
   },
   "file_extension": ".py",
   "mimetype": "text/x-python",
   "name": "python",
   "nbconvert_exporter": "python",
   "pygments_lexer": "ipython3",
   "version": "3.6.9"
  }
 },
 "nbformat": 4,
 "nbformat_minor": 4
}
