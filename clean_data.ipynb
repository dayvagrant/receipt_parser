{
 "cells": [
  {
   "cell_type": "code",
   "execution_count": 1,
   "metadata": {},
   "outputs": [
    {
     "name": "stdout",
     "output_type": "stream",
     "text": [
      "The history saving thread hit an unexpected error (DatabaseError('database disk image is malformed',)).History will not be written to the database.\n"
     ]
    }
   ],
   "source": [
    "import pandas as pd\n",
    "import numpy as np\n",
    "import re"
   ]
  },
  {
   "cell_type": "code",
   "execution_count": 12,
   "metadata": {},
   "outputs": [
    {
     "data": {
      "text/html": [
       "<div>\n",
       "<style scoped>\n",
       "    .dataframe tbody tr th:only-of-type {\n",
       "        vertical-align: middle;\n",
       "    }\n",
       "\n",
       "    .dataframe tbody tr th {\n",
       "        vertical-align: top;\n",
       "    }\n",
       "\n",
       "    .dataframe thead th {\n",
       "        text-align: right;\n",
       "    }\n",
       "</style>\n",
       "<table border=\"1\" class=\"dataframe\">\n",
       "  <thead>\n",
       "    <tr style=\"text-align: right;\">\n",
       "      <th></th>\n",
       "      <th>Название</th>\n",
       "      <th>Категория</th>\n",
       "      <th>Бренд</th>\n",
       "      <th>Вес</th>\n",
       "      <th>Продукт</th>\n",
       "    </tr>\n",
       "  </thead>\n",
       "  <tbody>\n",
       "    <tr>\n",
       "      <th>0</th>\n",
       "      <td>Cоус \"Mr. Ricco\" Грибной на основе растительны...</td>\n",
       "      <td>Соусы, орехи, консервы.</td>\n",
       "      <td>Mr. Ricco</td>\n",
       "      <td>210г</td>\n",
       "      <td>Cоус</td>\n",
       "    </tr>\n",
       "    <tr>\n",
       "      <th>1</th>\n",
       "      <td>Cоус \"Mr. Ricco\" Сырный на основе растительных...</td>\n",
       "      <td>Соусы, орехи, консервы.</td>\n",
       "      <td>Mr. Ricco</td>\n",
       "      <td>210г</td>\n",
       "      <td>Cоус</td>\n",
       "    </tr>\n",
       "  </tbody>\n",
       "</table>\n",
       "</div>"
      ],
      "text/plain": [
       "                                            Название                Категория  \\\n",
       "0  Cоус \"Mr. Ricco\" Грибной на основе растительны...  Соусы, орехи, консервы.   \n",
       "1  Cоус \"Mr. Ricco\" Сырный на основе растительных...  Соусы, орехи, консервы.   \n",
       "\n",
       "       Бренд   Вес Продукт  \n",
       "0  Mr. Ricco  210г    Cоус  \n",
       "1  Mr. Ricco  210г    Cоус  "
      ]
     },
     "execution_count": 12,
     "metadata": {},
     "output_type": "execute_result"
    }
   ],
   "source": [
    "etalon = pd.read_csv('clean_data/peterochka_clean.csv')\n",
    "etalon.head(2)"
   ]
  },
  {
   "cell_type": "markdown",
   "metadata": {},
   "source": [
    "okey - готово\n",
    "\n",
    "ashan - нужно парсить (нет продуктов) (https://www.auchan.ru/pokupki/eda.html)\n",
    "\n",
    "perecrestok - готово (спаршено + скаченные данные)\n",
    "\n",
    "peterochka - спаршено (не очень много)\n",
    "\n",
    "magnit - нужно парсить(https://edadeal.ru/moskva/retailers/magnit-univer)\n",
    "\n",
    "azbuka_vkusa\n",
    "\n",
    "metro - готово\n",
    "\n",
    "utkonos"
   ]
  },
  {
   "cell_type": "code",
   "execution_count": 112,
   "metadata": {},
   "outputs": [],
   "source": [
    "shops = ['okey.csv', 'ashan.csv',  'perecrestok.csv', 'azbuka_vkusa.csv', 'metro.csv', 'utkonos.csv']"
   ]
  },
  {
   "cell_type": "code",
   "execution_count": 226,
   "metadata": {},
   "outputs": [
    {
     "data": {
      "text/plain": [
       "(27192, 20)"
      ]
     },
     "execution_count": 226,
     "metadata": {},
     "output_type": "execute_result"
    }
   ],
   "source": [
    "df = pd.read_csv(f'data/{shops[4]}', skiprows=1, encoding='cp1251', delimiter=';')\n",
    "df.shape"
   ]
  },
  {
   "cell_type": "code",
   "execution_count": 227,
   "metadata": {},
   "outputs": [
    {
     "data": {
      "text/plain": [
       "Index(['Код', 'Категория', 'Название', 'Цена', 'Старая цена', 'Наличие',\n",
       "       'Описание', 'Производитель', 'Бренд', 'Вес(Объем)', 'Жиры', 'Белки',\n",
       "       'Углеводы', 'Калорийность', 'Состав', 'Информация', 'Ссылка на товар',\n",
       "       'Ссылка на изображение', 'Дата обновления', 'Регион'],\n",
       "      dtype='object')"
      ]
     },
     "execution_count": 227,
     "metadata": {},
     "output_type": "execute_result"
    }
   ],
   "source": [
    "df.columns"
   ]
  },
  {
   "cell_type": "code",
   "execution_count": 229,
   "metadata": {},
   "outputs": [],
   "source": [
    "df = df[['Категория', 'Название', 'Производитель', \"Бренд\", 'Вес(Объем)']]"
   ]
  },
  {
   "cell_type": "code",
   "execution_count": 236,
   "metadata": {},
   "outputs": [
    {
     "data": {
      "text/html": [
       "<div>\n",
       "<style scoped>\n",
       "    .dataframe tbody tr th:only-of-type {\n",
       "        vertical-align: middle;\n",
       "    }\n",
       "\n",
       "    .dataframe tbody tr th {\n",
       "        vertical-align: top;\n",
       "    }\n",
       "\n",
       "    .dataframe thead th {\n",
       "        text-align: right;\n",
       "    }\n",
       "</style>\n",
       "<table border=\"1\" class=\"dataframe\">\n",
       "  <thead>\n",
       "    <tr style=\"text-align: right;\">\n",
       "      <th></th>\n",
       "      <th>Категория</th>\n",
       "      <th>Название</th>\n",
       "      <th>Производитель</th>\n",
       "      <th>Бренд</th>\n",
       "      <th>Вес(Объем)</th>\n",
       "    </tr>\n",
       "  </thead>\n",
       "  <tbody>\n",
       "    <tr>\n",
       "      <th>1256</th>\n",
       "      <td>Для бутербродов и сэндвичей/Майонез, соусы, ке...</td>\n",
       "      <td>Кетчуп Балтимор По-сибирски с хреном 260 г</td>\n",
       "      <td>Юнилевер Русь ООО</td>\n",
       "      <td>Балтимор</td>\n",
       "      <td>260 г</td>\n",
       "    </tr>\n",
       "    <tr>\n",
       "      <th>19303</th>\n",
       "      <td>Товары для дома/Бытовая химия/Капсулы и таблет...</td>\n",
       "      <td>Капсулы для стирки Ariel Pods 3 в 1 Горный Род...</td>\n",
       "      <td>Procter &amp; Gamble</td>\n",
       "      <td>Ariel</td>\n",
       "      <td>710 г</td>\n",
       "    </tr>\n",
       "    <tr>\n",
       "      <th>6418</th>\n",
       "      <td>Детские товары/Хобби и творчество/Рисование</td>\n",
       "      <td>Мел школьный №1 School Отличник белый 9 шт</td>\n",
       "      <td>Комус ООО</td>\n",
       "      <td>№1 School</td>\n",
       "      <td>NaN</td>\n",
       "    </tr>\n",
       "    <tr>\n",
       "      <th>12242</th>\n",
       "      <td>Дача и сад/Уход за садом/Садовая техника</td>\n",
       "      <td>Триммер аккумуляторный GreenWorks G40LT30</td>\n",
       "      <td>Гринворкстулс ООО</td>\n",
       "      <td>Greenworks</td>\n",
       "      <td>NaN</td>\n",
       "    </tr>\n",
       "    <tr>\n",
       "      <th>26156</th>\n",
       "      <td>Овощи и фрукты/Фрукты /Груши</td>\n",
       "      <td>Груши Вильямс</td>\n",
       "      <td>Без бренда</td>\n",
       "      <td>Без бренда</td>\n",
       "      <td>1 кг</td>\n",
       "    </tr>\n",
       "    <tr>\n",
       "      <th>21043</th>\n",
       "      <td>Рыба и морепродукты/Морепродукты/Креветки</td>\n",
       "      <td>Креветка Crues Congelees на хвосте очищенная с...</td>\n",
       "      <td>Sandhya Aqua</td>\n",
       "      <td>Crues Congelees</td>\n",
       "      <td>NaN</td>\n",
       "    </tr>\n",
       "    <tr>\n",
       "      <th>10938</th>\n",
       "      <td>Все для ремонта/Ручные инструменты/Ножи, ножни...</td>\n",
       "      <td>Набор лезвий Vira 831108 для точных работ с де...</td>\n",
       "      <td>Ди Ай Вай Тулз ООО</td>\n",
       "      <td>Vira</td>\n",
       "      <td>NaN</td>\n",
       "    </tr>\n",
       "    <tr>\n",
       "      <th>22337</th>\n",
       "      <td>Детские товары/Ежедневный уход/Крема, масла и ...</td>\n",
       "      <td>Лосьон Nivea детский солнцезащитный SPF 50+</td>\n",
       "      <td>Nivea</td>\n",
       "      <td>Nivea</td>\n",
       "      <td>200 мл</td>\n",
       "    </tr>\n",
       "    <tr>\n",
       "      <th>9583</th>\n",
       "      <td>Автотовары/Автомобильные аксессуары/Органайзер...</td>\n",
       "      <td>Автомобильный ящик Rexxon складной</td>\n",
       "      <td>МХУ ООО</td>\n",
       "      <td>Rexxon</td>\n",
       "      <td>38 л</td>\n",
       "    </tr>\n",
       "    <tr>\n",
       "      <th>9749</th>\n",
       "      <td>Автотовары/Шины и диски/Шины</td>\n",
       "      <td>Автошины Pirelli Cinturato P1 Verde 205/55 R16...</td>\n",
       "      <td>Автоэксперт ООО</td>\n",
       "      <td>Pirelli</td>\n",
       "      <td>NaN</td>\n",
       "    </tr>\n",
       "  </tbody>\n",
       "</table>\n",
       "</div>"
      ],
      "text/plain": [
       "                                               Категория  \\\n",
       "1256   Для бутербродов и сэндвичей/Майонез, соусы, ке...   \n",
       "19303  Товары для дома/Бытовая химия/Капсулы и таблет...   \n",
       "6418         Детские товары/Хобби и творчество/Рисование   \n",
       "12242           Дача и сад/Уход за садом/Садовая техника   \n",
       "26156                       Овощи и фрукты/Фрукты /Груши   \n",
       "21043          Рыба и морепродукты/Морепродукты/Креветки   \n",
       "10938  Все для ремонта/Ручные инструменты/Ножи, ножни...   \n",
       "22337  Детские товары/Ежедневный уход/Крема, масла и ...   \n",
       "9583   Автотовары/Автомобильные аксессуары/Органайзер...   \n",
       "9749                        Автотовары/Шины и диски/Шины   \n",
       "\n",
       "                                                Название       Производитель  \\\n",
       "1256          Кетчуп Балтимор По-сибирски с хреном 260 г   Юнилевер Русь ООО   \n",
       "19303  Капсулы для стирки Ariel Pods 3 в 1 Горный Род...    Procter & Gamble   \n",
       "6418          Мел школьный №1 School Отличник белый 9 шт           Комус ООО   \n",
       "12242          Триммер аккумуляторный GreenWorks G40LT30   Гринворкстулс ООО   \n",
       "26156                                      Груши Вильямс          Без бренда   \n",
       "21043  Креветка Crues Congelees на хвосте очищенная с...        Sandhya Aqua   \n",
       "10938  Набор лезвий Vira 831108 для точных работ с де...  Ди Ай Вай Тулз ООО   \n",
       "22337        Лосьон Nivea детский солнцезащитный SPF 50+               Nivea   \n",
       "9583                  Автомобильный ящик Rexxon складной             МХУ ООО   \n",
       "9749   Автошины Pirelli Cinturato P1 Verde 205/55 R16...     Автоэксперт ООО   \n",
       "\n",
       "                 Бренд Вес(Объем)  \n",
       "1256          Балтимор      260 г  \n",
       "19303            Ariel      710 г  \n",
       "6418         №1 School        NaN  \n",
       "12242       Greenworks        NaN  \n",
       "26156       Без бренда       1 кг  \n",
       "21043  Crues Congelees        NaN  \n",
       "10938             Vira        NaN  \n",
       "22337            Nivea     200 мл  \n",
       "9583            Rexxon       38 л  \n",
       "9749           Pirelli        NaN  "
      ]
     },
     "execution_count": 236,
     "metadata": {},
     "output_type": "execute_result"
    }
   ],
   "source": [
    "df.sample(10)"
   ]
  },
  {
   "cell_type": "code",
   "execution_count": 231,
   "metadata": {},
   "outputs": [],
   "source": [
    "df = df.dropna(subset=['Название']).dropna(subset=['Категория']).drop_duplicates()"
   ]
  },
  {
   "cell_type": "code",
   "execution_count": 232,
   "metadata": {},
   "outputs": [
    {
     "data": {
      "text/plain": [
       "(26762, 5)"
      ]
     },
     "execution_count": 232,
     "metadata": {},
     "output_type": "execute_result"
    }
   ],
   "source": [
    "df.shape"
   ]
  },
  {
   "cell_type": "markdown",
   "metadata": {},
   "source": [
    "## Категории"
   ]
  },
  {
   "cell_type": "code",
   "execution_count": null,
   "metadata": {},
   "outputs": [],
   "source": [
    "Макароны, крупы, специи\n",
    "Птица, мясо, деликатесы\n",
    "Подборки и готовые блюда\n",
    "Хлеб, сладости, снеки\n",
    "Чай, кофе, сахар\n",
    "Соусы, орехи, консервы\n",
    "Рыба, икра\n",
    "Замороженные продукты\n",
    "Товары для мам и детей\n",
    "Молоко, сыр, яйца\n",
    "Овощи, фрукты, ягоды\n",
    "Воды, соки, напитки\n",
    "Алкоголь\n",
    "\n",
    "Посуда\n",
    "Товары для дома и дачи\n",
    "Дача и гриль\n",
    "Красота, гигиена, бытовая химия\n",
    "Зоотовары\n",
    "\n",
    "Бытовая техника\n",
    "Системы нагревания и электронные сигареты\n",
    "Посуда\n",
    "Скидки месяца\n",
    "Постные продукты\n",
    "Другое\n",
    "Удалить"
   ]
  },
  {
   "cell_type": "code",
   "execution_count": 240,
   "metadata": {},
   "outputs": [],
   "source": [
    "from IPython.display import clear_output\n",
    "\n",
    "\n",
    "result = {}\n",
    "for i in df['Категория'].apply(lambda x: x.split('/')[0]).unique():\n",
    "    print(i)\n",
    "    category = input()\n",
    "    result[i] = category\n",
    "    clear_output()"
   ]
  },
  {
   "cell_type": "code",
   "execution_count": 237,
   "metadata": {},
   "outputs": [
    {
     "data": {
      "text/plain": [
       "array(['Мелочи возле кассы', 'Молочные продукты', 'Консервы и соленья',\n",
       "       'Косметика и гигиена', 'Рыба и морепродукты', 'Овощи и фрукты',\n",
       "       'Электроника и Бытовая техника', 'Сладости', 'Товары для дома',\n",
       "       'Помощь иммунитету', 'Мясо и птица', 'Соусы, специи, приправы',\n",
       "       'Сыры', 'Детские товары', 'Чай и кофе', 'Товары для офиса',\n",
       "       'Канцелярия', 'Бакалея', 'Сухофрукты, орехи, семечки',\n",
       "       'Готовые блюда и полуфабрикаты', 'Колбасы, сосиски, деликатесы',\n",
       "       'Хлеб и выпечка', 'Вода, соки, напитки', 'Для животных',\n",
       "       'Для бутербродов и сэндвичей', 'Дешевле, чем в магазине',\n",
       "       'Спортивные товары', 'Все для ремонта', 'Дача и сад',\n",
       "       'Чипсы и снеки', 'Автотовары', 'Яйца', 'Одежда, обувь, аксессуары'],\n",
       "      dtype=object)"
      ]
     },
     "execution_count": 237,
     "metadata": {},
     "output_type": "execute_result"
    }
   ],
   "source": [
    "df['Категория'].apply(lambda x: x.split('/')[0] ).unique()"
   ]
  },
  {
   "cell_type": "code",
   "execution_count": 238,
   "metadata": {},
   "outputs": [],
   "source": [
    "# df['Категория'].apply(lambda x: x.split('/')[1] if len(x.split('/')) > 1 else x.split('/')[0] ).unique()"
   ]
  },
  {
   "cell_type": "code",
   "execution_count": 164,
   "metadata": {},
   "outputs": [],
   "source": [
    "df['Категория'] = df['Категория'].apply(lambda x: x.split('/')[1])"
   ]
  },
  {
   "cell_type": "code",
   "execution_count": 166,
   "metadata": {},
   "outputs": [
    {
     "data": {
      "text/html": [
       "<div>\n",
       "<style scoped>\n",
       "    .dataframe tbody tr th:only-of-type {\n",
       "        vertical-align: middle;\n",
       "    }\n",
       "\n",
       "    .dataframe tbody tr th {\n",
       "        vertical-align: top;\n",
       "    }\n",
       "\n",
       "    .dataframe thead th {\n",
       "        text-align: right;\n",
       "    }\n",
       "</style>\n",
       "<table border=\"1\" class=\"dataframe\">\n",
       "  <thead>\n",
       "    <tr style=\"text-align: right;\">\n",
       "      <th></th>\n",
       "      <th>Категория</th>\n",
       "      <th>Название</th>\n",
       "      <th>Производитель</th>\n",
       "      <th>Бренд</th>\n",
       "      <th>Вес товара</th>\n",
       "    </tr>\n",
       "  </thead>\n",
       "  <tbody>\n",
       "    <tr>\n",
       "      <th>16263</th>\n",
       "      <td>Зоотовары</td>\n",
       "      <td>Поводок для собак Rukka Star черный 15мм 2м</td>\n",
       "      <td>Luhta Fashion</td>\n",
       "      <td>Rukka</td>\n",
       "      <td>NaN</td>\n",
       "    </tr>\n",
       "    <tr>\n",
       "      <th>5407</th>\n",
       "      <td>Красота, гигиена, бытовая химия</td>\n",
       "      <td>Ополаскиватель для рта Лесной бальзам Форте 400мл</td>\n",
       "      <td>Unilever</td>\n",
       "      <td>Лесной бальзам</td>\n",
       "      <td>400 мл</td>\n",
       "    </tr>\n",
       "    <tr>\n",
       "      <th>5014</th>\n",
       "      <td>Макароны, крупы, специи</td>\n",
       "      <td>Хлопья Nordic 4 злака 600г</td>\n",
       "      <td>Raisio Nutrition</td>\n",
       "      <td>Nordic</td>\n",
       "      <td>600 г</td>\n",
       "    </tr>\n",
       "    <tr>\n",
       "      <th>12157</th>\n",
       "      <td>Красота, гигиена, бытовая химия</td>\n",
       "      <td>Гель для душа Johnsons Vita Rich Smoothies Рас...</td>\n",
       "      <td>Johnson&amp;Johnson</td>\n",
       "      <td>Johnsons</td>\n",
       "      <td>250 мл</td>\n",
       "    </tr>\n",
       "    <tr>\n",
       "      <th>5576</th>\n",
       "      <td>Птица, мясо, деликатесы</td>\n",
       "      <td>Ребрышки свиные Черкизово По-бельгийски в шоко...</td>\n",
       "      <td>Черкизовский МПЗ</td>\n",
       "      <td>Черкизово</td>\n",
       "      <td>1 кг</td>\n",
       "    </tr>\n",
       "    <tr>\n",
       "      <th>18661</th>\n",
       "      <td>Красота, гигиена, бытовая химия</td>\n",
       "      <td>Кондиционер-ополаскиватель для белья Pure Wate...</td>\n",
       "      <td>Мико</td>\n",
       "      <td>Pure Water</td>\n",
       "      <td>480 мл</td>\n",
       "    </tr>\n",
       "    <tr>\n",
       "      <th>11258</th>\n",
       "      <td>Чай, кофе, сахар</td>\n",
       "      <td>Чай черный Майский Благородный Цейлон 25 пак</td>\n",
       "      <td>Май</td>\n",
       "      <td>Майский</td>\n",
       "      <td>50 г</td>\n",
       "    </tr>\n",
       "    <tr>\n",
       "      <th>12100</th>\n",
       "      <td>Воды, соки, напитки</td>\n",
       "      <td>Смузи биоактивный Be Plus Антиоксидант 150г</td>\n",
       "      <td>Juan y Juan Industrial S.L.U.</td>\n",
       "      <td>Be Plus</td>\n",
       "      <td>150 мл</td>\n",
       "    </tr>\n",
       "    <tr>\n",
       "      <th>18729</th>\n",
       "      <td>Красота, гигиена, бытовая химия</td>\n",
       "      <td>Крем для лица Levrana Василек Регенерирующий 50мл</td>\n",
       "      <td>Леврана</td>\n",
       "      <td>Levrana</td>\n",
       "      <td>50 мл</td>\n",
       "    </tr>\n",
       "    <tr>\n",
       "      <th>302</th>\n",
       "      <td>Чай, кофе, сахар</td>\n",
       "      <td>Чай зеленый Ahmad Tea с жасмином 25 пак</td>\n",
       "      <td>Ахмад</td>\n",
       "      <td>Ahmad Tea</td>\n",
       "      <td>50 г</td>\n",
       "    </tr>\n",
       "  </tbody>\n",
       "</table>\n",
       "</div>"
      ],
      "text/plain": [
       "                             Категория  \\\n",
       "16263                        Зоотовары   \n",
       "5407   Красота, гигиена, бытовая химия   \n",
       "5014           Макароны, крупы, специи   \n",
       "12157  Красота, гигиена, бытовая химия   \n",
       "5576           Птица, мясо, деликатесы   \n",
       "18661  Красота, гигиена, бытовая химия   \n",
       "11258                 Чай, кофе, сахар   \n",
       "12100              Воды, соки, напитки   \n",
       "18729  Красота, гигиена, бытовая химия   \n",
       "302                   Чай, кофе, сахар   \n",
       "\n",
       "                                                Название  \\\n",
       "16263        Поводок для собак Rukka Star черный 15мм 2м   \n",
       "5407   Ополаскиватель для рта Лесной бальзам Форте 400мл   \n",
       "5014                          Хлопья Nordic 4 злака 600г   \n",
       "12157  Гель для душа Johnsons Vita Rich Smoothies Рас...   \n",
       "5576   Ребрышки свиные Черкизово По-бельгийски в шоко...   \n",
       "18661  Кондиционер-ополаскиватель для белья Pure Wate...   \n",
       "11258       Чай черный Майский Благородный Цейлон 25 пак   \n",
       "12100        Смузи биоактивный Be Plus Антиоксидант 150г   \n",
       "18729  Крем для лица Levrana Василек Регенерирующий 50мл   \n",
       "302              Чай зеленый Ahmad Tea с жасмином 25 пак   \n",
       "\n",
       "                       Производитель           Бренд Вес товара  \n",
       "16263                  Luhta Fashion           Rukka        NaN  \n",
       "5407                        Unilever  Лесной бальзам     400 мл  \n",
       "5014                Raisio Nutrition          Nordic      600 г  \n",
       "12157                Johnson&Johnson        Johnsons     250 мл  \n",
       "5576                Черкизовский МПЗ       Черкизово       1 кг  \n",
       "18661                           Мико      Pure Water     480 мл  \n",
       "11258                            Май         Майский       50 г  \n",
       "12100  Juan y Juan Industrial S.L.U.         Be Plus     150 мл  \n",
       "18729                        Леврана         Levrana      50 мл  \n",
       "302                            Ахмад       Ahmad Tea       50 г  "
      ]
     },
     "execution_count": 166,
     "metadata": {},
     "output_type": "execute_result"
    }
   ],
   "source": [
    "df.sample(10)"
   ]
  },
  {
   "cell_type": "code",
   "execution_count": 170,
   "metadata": {},
   "outputs": [],
   "source": [
    "def for_brand_perecrestok(brand: str, mark: str):\n",
    "    return mark if mark else brand\n",
    "\n",
    "\n",
    "df['Бренд'] = df.apply(lambda x: for_brand_perecrestok(x['Производитель'], x['Бренд']), axis=1)"
   ]
  },
  {
   "cell_type": "code",
   "execution_count": 175,
   "metadata": {},
   "outputs": [],
   "source": [
    "def get_name_perecrestok(name: str, brand: str):\n",
    "    if not brand or not isinstance(brand, str):\n",
    "        return name.split()[0]\n",
    "    res = []\n",
    "    for word in name.split():\n",
    "        if brand.startswith(word):\n",
    "            break\n",
    "        res.append(word)\n",
    "    if res:\n",
    "        if len(res) > 3:\n",
    "            return name.split()[0]\n",
    "        return ' '.join(res)\n",
    "    return name.split()[0]"
   ]
  },
  {
   "cell_type": "code",
   "execution_count": 177,
   "metadata": {},
   "outputs": [],
   "source": [
    "df['Продукт'] = df.apply(lambda x: get_name_perecrestok(x['Название'], x['Бренд']), axis=1)"
   ]
  },
  {
   "cell_type": "code",
   "execution_count": 184,
   "metadata": {},
   "outputs": [],
   "source": [
    "df = df.rename(columns={'Вес товара': 'Вес'})"
   ]
  },
  {
   "cell_type": "code",
   "execution_count": 195,
   "metadata": {},
   "outputs": [],
   "source": [
    "df = df[['Название', 'Категория', 'Бренд', 'Вес', 'Продукт']]"
   ]
  },
  {
   "cell_type": "code",
   "execution_count": 189,
   "metadata": {},
   "outputs": [
    {
     "name": "stdout",
     "output_type": "stream",
     "text": [
      "(4211, 5)\n"
     ]
    },
    {
     "data": {
      "text/html": [
       "<div>\n",
       "<style scoped>\n",
       "    .dataframe tbody tr th:only-of-type {\n",
       "        vertical-align: middle;\n",
       "    }\n",
       "\n",
       "    .dataframe tbody tr th {\n",
       "        vertical-align: top;\n",
       "    }\n",
       "\n",
       "    .dataframe thead th {\n",
       "        text-align: right;\n",
       "    }\n",
       "</style>\n",
       "<table border=\"1\" class=\"dataframe\">\n",
       "  <thead>\n",
       "    <tr style=\"text-align: right;\">\n",
       "      <th></th>\n",
       "      <th>Название</th>\n",
       "      <th>Категория</th>\n",
       "      <th>Бренд</th>\n",
       "      <th>Вес</th>\n",
       "      <th>Продукт</th>\n",
       "    </tr>\n",
       "  </thead>\n",
       "  <tbody>\n",
       "    <tr>\n",
       "      <th>0</th>\n",
       "      <td>Желатин Dr.Oetker пищевой быстрорастворимый 30г</td>\n",
       "      <td>Макароны, крупы, специи</td>\n",
       "      <td>Dr. Oetker</td>\n",
       "      <td>30 г</td>\n",
       "      <td>Желатин</td>\n",
       "    </tr>\n",
       "    <tr>\n",
       "      <th>1</th>\n",
       "      <td>Сухая смесь Maggi На второе для Нежного Филе к...</td>\n",
       "      <td>Макароны, крупы, специи</td>\n",
       "      <td>Maggi</td>\n",
       "      <td>31 г</td>\n",
       "      <td>Сухая смесь</td>\n",
       "    </tr>\n",
       "    <tr>\n",
       "      <th>2</th>\n",
       "      <td>Приправа Capo di Gusto для рыбы 30г</td>\n",
       "      <td>Макароны, крупы, специи</td>\n",
       "      <td>Capo di Gusto</td>\n",
       "      <td>30 г</td>\n",
       "      <td>Приправа</td>\n",
       "    </tr>\n",
       "    <tr>\n",
       "      <th>3</th>\n",
       "      <td>Петрушка Маркет Перекресток нарезанная 7г</td>\n",
       "      <td>Макароны, крупы, специи</td>\n",
       "      <td>Маркет Перекресток</td>\n",
       "      <td>7 г</td>\n",
       "      <td>Петрушка</td>\n",
       "    </tr>\n",
       "    <tr>\n",
       "      <th>4</th>\n",
       "      <td>Ванилин Haas пищевой 1.5г</td>\n",
       "      <td>Макароны, крупы, специи</td>\n",
       "      <td>Haas</td>\n",
       "      <td>2 г</td>\n",
       "      <td>Ванилин</td>\n",
       "    </tr>\n",
       "  </tbody>\n",
       "</table>\n",
       "</div>"
      ],
      "text/plain": [
       "                                            Название                Категория  \\\n",
       "0    Желатин Dr.Oetker пищевой быстрорастворимый 30г  Макароны, крупы, специи   \n",
       "1  Сухая смесь Maggi На второе для Нежного Филе к...  Макароны, крупы, специи   \n",
       "2                Приправа Capo di Gusto для рыбы 30г  Макароны, крупы, специи   \n",
       "3          Петрушка Маркет Перекресток нарезанная 7г  Макароны, крупы, специи   \n",
       "4                          Ванилин Haas пищевой 1.5г  Макароны, крупы, специи   \n",
       "\n",
       "                Бренд   Вес      Продукт  \n",
       "0          Dr. Oetker  30 г      Желатин  \n",
       "1               Maggi  31 г  Сухая смесь  \n",
       "2       Capo di Gusto  30 г     Приправа  \n",
       "3  Маркет Перекресток   7 г     Петрушка  \n",
       "4                Haas   2 г      Ванилин  "
      ]
     },
     "execution_count": 189,
     "metadata": {},
     "output_type": "execute_result"
    }
   ],
   "source": [
    "perek = pd.read_csv('clean_data/perekrestok_clean.csv')\n",
    "print(perek.shape)\n",
    "perek.head()"
   ]
  },
  {
   "cell_type": "code",
   "execution_count": 29,
   "metadata": {},
   "outputs": [],
   "source": [
    "from IPython.display import clear_output\n",
    "\n",
    "\n",
    "result = {}\n",
    "for i in df['Категория'].apply(lambda x: x.split('/')[-1]).unique():\n",
    "    print(i)\n",
    "    category = input()\n",
    "    result[i] = category\n",
    "    clear_output()"
   ]
  },
  {
   "cell_type": "code",
   "execution_count": 42,
   "metadata": {},
   "outputs": [],
   "source": [
    "import pickle\n",
    "\n",
    "\n",
    "with open('clean_data/okey_category.pickle', 'wb') as handle:\n",
    "    pickle.dump(result, handle)\n"
   ]
  },
  {
   "cell_type": "code",
   "execution_count": 241,
   "metadata": {},
   "outputs": [],
   "source": [
    "df['Категория'] = df['Категория'].apply(lambda x: result[x.split('/')[0]]).apply(lambda x: x.replace('.', '').strip())"
   ]
  },
  {
   "cell_type": "code",
   "execution_count": 242,
   "metadata": {},
   "outputs": [],
   "source": [
    "df = df[df['Категория'] != 'Удалить']"
   ]
  },
  {
   "cell_type": "code",
   "execution_count": 243,
   "metadata": {},
   "outputs": [
    {
     "data": {
      "text/plain": [
       "(25359, 5)"
      ]
     },
     "execution_count": 243,
     "metadata": {},
     "output_type": "execute_result"
    }
   ],
   "source": [
    "df.shape"
   ]
  },
  {
   "cell_type": "markdown",
   "metadata": {},
   "source": [
    "## Бренды"
   ]
  },
  {
   "cell_type": "code",
   "execution_count": 251,
   "metadata": {},
   "outputs": [
    {
     "data": {
      "text/html": [
       "<div>\n",
       "<style scoped>\n",
       "    .dataframe tbody tr th:only-of-type {\n",
       "        vertical-align: middle;\n",
       "    }\n",
       "\n",
       "    .dataframe tbody tr th {\n",
       "        vertical-align: top;\n",
       "    }\n",
       "\n",
       "    .dataframe thead th {\n",
       "        text-align: right;\n",
       "    }\n",
       "</style>\n",
       "<table border=\"1\" class=\"dataframe\">\n",
       "  <thead>\n",
       "    <tr style=\"text-align: right;\">\n",
       "      <th></th>\n",
       "      <th>Название</th>\n",
       "      <th>Категория</th>\n",
       "      <th>Бренд</th>\n",
       "      <th>Вес</th>\n",
       "    </tr>\n",
       "  </thead>\n",
       "  <tbody>\n",
       "    <tr>\n",
       "      <th>1441</th>\n",
       "      <td>Перец черри Ellenika фаршированные сливочным с...</td>\n",
       "      <td>Соусы, орехи, консервы</td>\n",
       "      <td>Ellenika</td>\n",
       "      <td>0,15 - 0,4</td>\n",
       "    </tr>\n",
       "    <tr>\n",
       "      <th>8668</th>\n",
       "      <td>Лампа Osram Е27 75W стандарт матовая</td>\n",
       "      <td>Бытовая техника</td>\n",
       "      <td>Osram</td>\n",
       "      <td>NaN</td>\n",
       "    </tr>\n",
       "    <tr>\n",
       "      <th>15600</th>\n",
       "      <td>Торт Renardi Три шоколада сырный лайт</td>\n",
       "      <td>Хлеб, сладости, снеки</td>\n",
       "      <td>Renardi</td>\n",
       "      <td>NaN</td>\n",
       "    </tr>\n",
       "    <tr>\n",
       "      <th>7955</th>\n",
       "      <td>Ценник Контур лайн меловой 80 х 60 мм 3 шт</td>\n",
       "      <td>Другое</td>\n",
       "      <td>Контур лайн</td>\n",
       "      <td>NaN</td>\n",
       "    </tr>\n",
       "    <tr>\n",
       "      <th>22586</th>\n",
       "      <td>Блины С Пылу С Жару без начинки</td>\n",
       "      <td>Подборки и готовые блюда</td>\n",
       "      <td>С Пылу С Жару</td>\n",
       "      <td>NaN</td>\n",
       "    </tr>\n",
       "  </tbody>\n",
       "</table>\n",
       "</div>"
      ],
      "text/plain": [
       "                                                Название  \\\n",
       "1441   Перец черри Ellenika фаршированные сливочным с...   \n",
       "8668                Лампа Osram Е27 75W стандарт матовая   \n",
       "15600              Торт Renardi Три шоколада сырный лайт   \n",
       "7955          Ценник Контур лайн меловой 80 х 60 мм 3 шт   \n",
       "22586                    Блины С Пылу С Жару без начинки   \n",
       "\n",
       "                      Категория          Бренд         Вес  \n",
       "1441     Соусы, орехи, консервы       Ellenika  0,15 - 0,4  \n",
       "8668            Бытовая техника          Osram         NaN  \n",
       "15600     Хлеб, сладости, снеки        Renardi         NaN  \n",
       "7955                     Другое    Контур лайн         NaN  \n",
       "22586  Подборки и готовые блюда  С Пылу С Жару         NaN  "
      ]
     },
     "execution_count": 251,
     "metadata": {},
     "output_type": "execute_result"
    }
   ],
   "source": [
    "df.sample(5)"
   ]
  },
  {
   "cell_type": "code",
   "execution_count": 250,
   "metadata": {},
   "outputs": [
    {
     "data": {
      "text/plain": [
       "(24376, 4)"
      ]
     },
     "execution_count": 250,
     "metadata": {},
     "output_type": "execute_result"
    }
   ],
   "source": [
    "df.shape"
   ]
  },
  {
   "cell_type": "code",
   "execution_count": 246,
   "metadata": {},
   "outputs": [
    {
     "data": {
      "text/plain": [
       "(24376, 5)"
      ]
     },
     "execution_count": 246,
     "metadata": {},
     "output_type": "execute_result"
    }
   ],
   "source": [
    "df.dropna(subset=['Бренд']).shape"
   ]
  },
  {
   "cell_type": "code",
   "execution_count": 247,
   "metadata": {},
   "outputs": [],
   "source": [
    "df = df.dropna(subset=['Бренд'])"
   ]
  },
  {
   "cell_type": "code",
   "execution_count": 249,
   "metadata": {},
   "outputs": [],
   "source": [
    "df = df[['Название', 'Категория', 'Бренд', 'Вес(Объем)']].rename(columns={'Вес(Объем)': 'Вес'})"
   ]
  },
  {
   "cell_type": "code",
   "execution_count": 252,
   "metadata": {},
   "outputs": [],
   "source": [
    "def replace_brand(brand: str):\n",
    "    if brand == 'Без бренда':\n",
    "        return None\n",
    "    return brand\n",
    "    "
   ]
  },
  {
   "cell_type": "code",
   "execution_count": 253,
   "metadata": {},
   "outputs": [],
   "source": [
    "df['Бренд'] = df['Бренд'].apply(replace_brand)"
   ]
  },
  {
   "cell_type": "code",
   "execution_count": 258,
   "metadata": {},
   "outputs": [],
   "source": [
    "df = df.dropna(subset=['Бренд'])"
   ]
  },
  {
   "cell_type": "code",
   "execution_count": 259,
   "metadata": {},
   "outputs": [
    {
     "data": {
      "text/plain": [
       "(23401, 4)"
      ]
     },
     "execution_count": 259,
     "metadata": {},
     "output_type": "execute_result"
    }
   ],
   "source": [
    "df.shape"
   ]
  },
  {
   "cell_type": "markdown",
   "metadata": {},
   "source": [
    "## Товар"
   ]
  },
  {
   "cell_type": "code",
   "execution_count": 261,
   "metadata": {},
   "outputs": [
    {
     "data": {
      "text/html": [
       "<div>\n",
       "<style scoped>\n",
       "    .dataframe tbody tr th:only-of-type {\n",
       "        vertical-align: middle;\n",
       "    }\n",
       "\n",
       "    .dataframe tbody tr th {\n",
       "        vertical-align: top;\n",
       "    }\n",
       "\n",
       "    .dataframe thead th {\n",
       "        text-align: right;\n",
       "    }\n",
       "</style>\n",
       "<table border=\"1\" class=\"dataframe\">\n",
       "  <thead>\n",
       "    <tr style=\"text-align: right;\">\n",
       "      <th></th>\n",
       "      <th>Название</th>\n",
       "      <th>Категория</th>\n",
       "      <th>Бренд</th>\n",
       "      <th>Вес</th>\n",
       "    </tr>\n",
       "  </thead>\n",
       "  <tbody>\n",
       "    <tr>\n",
       "      <th>23321</th>\n",
       "      <td>Колбаса Рублевский Телячья вареная 450 г</td>\n",
       "      <td>Птица, мясо, деликатесы</td>\n",
       "      <td>Рублевский</td>\n",
       "      <td>450 г</td>\n",
       "    </tr>\n",
       "    <tr>\n",
       "      <th>1949</th>\n",
       "      <td>Набор для опытов Master IQ2 Химия цвета с 8 лет</td>\n",
       "      <td>Товары для мам и детей</td>\n",
       "      <td>Master IQ2</td>\n",
       "      <td>400 г</td>\n",
       "    </tr>\n",
       "    <tr>\n",
       "      <th>887</th>\n",
       "      <td>Бритва Gillette Mach 3 Start с 3 сменными касс...</td>\n",
       "      <td>Хлеб, сладости, снеки</td>\n",
       "      <td>Gillette</td>\n",
       "      <td>NaN</td>\n",
       "    </tr>\n",
       "    <tr>\n",
       "      <th>12693</th>\n",
       "      <td>Крем для рук Бархатные Ручки для всей семьи 45 мл</td>\n",
       "      <td>Красота, гигиена, бытовая химия</td>\n",
       "      <td>Бархатные Ручки</td>\n",
       "      <td>0,04 кг</td>\n",
       "    </tr>\n",
       "    <tr>\n",
       "      <th>12968</th>\n",
       "      <td>Батончик Twix Minis шоколадный</td>\n",
       "      <td>Хлеб, сладости, снеки</td>\n",
       "      <td>Twix</td>\n",
       "      <td>NaN</td>\n",
       "    </tr>\n",
       "    <tr>\n",
       "      <th>15328</th>\n",
       "      <td>Филей верхней части бедра говядины Праймбиф мр...</td>\n",
       "      <td>Птица, мясо, деликатесы</td>\n",
       "      <td>Праймбиф</td>\n",
       "      <td>2,5 кг</td>\n",
       "    </tr>\n",
       "    <tr>\n",
       "      <th>5078</th>\n",
       "      <td>Щупальца кальмара Капитан Вкусов натуральные 2...</td>\n",
       "      <td>Рыба, икра</td>\n",
       "      <td>Капитан Вкусов</td>\n",
       "      <td>200 г</td>\n",
       "    </tr>\n",
       "    <tr>\n",
       "      <th>21490</th>\n",
       "      <td>Шампунь-гель Intesa Odour Block регенерирующий</td>\n",
       "      <td>Красота, гигиена, бытовая химия</td>\n",
       "      <td>Intesa</td>\n",
       "      <td>250 мл</td>\n",
       "    </tr>\n",
       "    <tr>\n",
       "      <th>25392</th>\n",
       "      <td>Каша Nestle молочная гречневая с 4 месяцев</td>\n",
       "      <td>Товары для мам и детей</td>\n",
       "      <td>Nestle</td>\n",
       "      <td>NaN</td>\n",
       "    </tr>\n",
       "    <tr>\n",
       "      <th>10928</th>\n",
       "      <td>Нож Vira Twist Lock 831401 25 мм с сегментиров...</td>\n",
       "      <td>Товары для дома и дачи</td>\n",
       "      <td>Vira</td>\n",
       "      <td>NaN</td>\n",
       "    </tr>\n",
       "  </tbody>\n",
       "</table>\n",
       "</div>"
      ],
      "text/plain": [
       "                                                Название  \\\n",
       "23321           Колбаса Рублевский Телячья вареная 450 г   \n",
       "1949     Набор для опытов Master IQ2 Химия цвета с 8 лет   \n",
       "887    Бритва Gillette Mach 3 Start с 3 сменными касс...   \n",
       "12693  Крем для рук Бархатные Ручки для всей семьи 45 мл   \n",
       "12968                     Батончик Twix Minis шоколадный   \n",
       "15328  Филей верхней части бедра говядины Праймбиф мр...   \n",
       "5078   Щупальца кальмара Капитан Вкусов натуральные 2...   \n",
       "21490     Шампунь-гель Intesa Odour Block регенерирующий   \n",
       "25392         Каша Nestle молочная гречневая с 4 месяцев   \n",
       "10928  Нож Vira Twist Lock 831401 25 мм с сегментиров...   \n",
       "\n",
       "                             Категория            Бренд      Вес  \n",
       "23321          Птица, мясо, деликатесы       Рублевский    450 г  \n",
       "1949            Товары для мам и детей       Master IQ2    400 г  \n",
       "887              Хлеб, сладости, снеки         Gillette      NaN  \n",
       "12693  Красота, гигиена, бытовая химия  Бархатные Ручки  0,04 кг  \n",
       "12968            Хлеб, сладости, снеки             Twix      NaN  \n",
       "15328          Птица, мясо, деликатесы         Праймбиф   2,5 кг  \n",
       "5078                        Рыба, икра   Капитан Вкусов    200 г  \n",
       "21490  Красота, гигиена, бытовая химия           Intesa   250 мл  \n",
       "25392           Товары для мам и детей           Nestle      NaN  \n",
       "10928           Товары для дома и дачи             Vira      NaN  "
      ]
     },
     "execution_count": 261,
     "metadata": {},
     "output_type": "execute_result"
    }
   ],
   "source": [
    "df.sample(10)"
   ]
  },
  {
   "cell_type": "code",
   "execution_count": 262,
   "metadata": {},
   "outputs": [
    {
     "data": {
      "text/plain": [
       "(23401, 4)"
      ]
     },
     "execution_count": 262,
     "metadata": {},
     "output_type": "execute_result"
    }
   ],
   "source": [
    "df.shape"
   ]
  },
  {
   "cell_type": "code",
   "execution_count": 263,
   "metadata": {},
   "outputs": [],
   "source": [
    "df = df.drop_duplicates()"
   ]
  },
  {
   "cell_type": "code",
   "execution_count": 264,
   "metadata": {},
   "outputs": [
    {
     "data": {
      "text/plain": [
       "(23371, 4)"
      ]
     },
     "execution_count": 264,
     "metadata": {},
     "output_type": "execute_result"
    }
   ],
   "source": [
    "df.shape"
   ]
  },
  {
   "cell_type": "code",
   "execution_count": 265,
   "metadata": {},
   "outputs": [],
   "source": [
    "def get_name_perecrestok(name: str, brand: str):\n",
    "    if not brand or not isinstance(brand, str):\n",
    "        return name.split()[0]\n",
    "    res = []\n",
    "    for word in name.split():\n",
    "        if brand.startswith(word):\n",
    "            break\n",
    "        res.append(word)\n",
    "    if res:\n",
    "        if len(res) > 3:\n",
    "            return name.split()[0]\n",
    "        return ' '.join(res)\n",
    "    return name.split()[0]"
   ]
  },
  {
   "cell_type": "code",
   "execution_count": 270,
   "metadata": {},
   "outputs": [],
   "source": [
    "df['Продукт'] = df.apply(lambda x: get_name_perecrestok(x['Название'], x['Бренд']), axis=1)"
   ]
  },
  {
   "cell_type": "code",
   "execution_count": 274,
   "metadata": {},
   "outputs": [
    {
     "data": {
      "text/html": [
       "<div>\n",
       "<style scoped>\n",
       "    .dataframe tbody tr th:only-of-type {\n",
       "        vertical-align: middle;\n",
       "    }\n",
       "\n",
       "    .dataframe tbody tr th {\n",
       "        vertical-align: top;\n",
       "    }\n",
       "\n",
       "    .dataframe thead th {\n",
       "        text-align: right;\n",
       "    }\n",
       "</style>\n",
       "<table border=\"1\" class=\"dataframe\">\n",
       "  <thead>\n",
       "    <tr style=\"text-align: right;\">\n",
       "      <th></th>\n",
       "      <th>Название</th>\n",
       "      <th>Категория</th>\n",
       "      <th>Бренд</th>\n",
       "      <th>Вес</th>\n",
       "      <th>Продукт</th>\n",
       "    </tr>\n",
       "  </thead>\n",
       "  <tbody>\n",
       "    <tr>\n",
       "      <th>21899</th>\n",
       "      <td>Средство Clin для мытья окон и стекол 500 мл</td>\n",
       "      <td>Товары для дома и дачи</td>\n",
       "      <td>Clin</td>\n",
       "      <td>0,5 л</td>\n",
       "      <td>Средство</td>\n",
       "    </tr>\n",
       "    <tr>\n",
       "      <th>23932</th>\n",
       "      <td>Чай черный Hyleys Английский аристократический...</td>\n",
       "      <td>Чай, кофе, сахар</td>\n",
       "      <td>Hyleys</td>\n",
       "      <td>500 г</td>\n",
       "      <td>Чай черный</td>\n",
       "    </tr>\n",
       "    <tr>\n",
       "      <th>11254</th>\n",
       "      <td>Монтажная лента Tesa Powerbond 55760 1,5 м x 1...</td>\n",
       "      <td>Товары для дома и дачи</td>\n",
       "      <td>Tesa</td>\n",
       "      <td>NaN</td>\n",
       "      <td>Монтажная лента</td>\n",
       "    </tr>\n",
       "    <tr>\n",
       "      <th>9973</th>\n",
       "      <td>Игра Экономикус Лемминги с 6 лет</td>\n",
       "      <td>Товары для мам и детей</td>\n",
       "      <td>Экономикус</td>\n",
       "      <td>150 г</td>\n",
       "      <td>Игра</td>\n",
       "    </tr>\n",
       "    <tr>\n",
       "      <th>1825</th>\n",
       "      <td>Настольная игра Mattel Games Scrabble с 10 лет</td>\n",
       "      <td>Товары для мам и детей</td>\n",
       "      <td>Mattel</td>\n",
       "      <td>NaN</td>\n",
       "      <td>Настольная игра</td>\n",
       "    </tr>\n",
       "  </tbody>\n",
       "</table>\n",
       "</div>"
      ],
      "text/plain": [
       "                                                Название  \\\n",
       "21899       Средство Clin для мытья окон и стекол 500 мл   \n",
       "23932  Чай черный Hyleys Английский аристократический...   \n",
       "11254  Монтажная лента Tesa Powerbond 55760 1,5 м x 1...   \n",
       "9973                    Игра Экономикус Лемминги с 6 лет   \n",
       "1825      Настольная игра Mattel Games Scrabble с 10 лет   \n",
       "\n",
       "                    Категория       Бренд    Вес          Продукт  \n",
       "21899  Товары для дома и дачи        Clin  0,5 л         Средство  \n",
       "23932        Чай, кофе, сахар      Hyleys  500 г       Чай черный  \n",
       "11254  Товары для дома и дачи        Tesa    NaN  Монтажная лента  \n",
       "9973   Товары для мам и детей  Экономикус  150 г             Игра  \n",
       "1825   Товары для мам и детей      Mattel    NaN  Настольная игра  "
      ]
     },
     "execution_count": 274,
     "metadata": {},
     "output_type": "execute_result"
    }
   ],
   "source": [
    "df.sample(5)"
   ]
  },
  {
   "cell_type": "code",
   "execution_count": 277,
   "metadata": {},
   "outputs": [],
   "source": [
    "df.to_csv('clean_data/metro_clean.csv', index=False)"
   ]
  },
  {
   "cell_type": "code",
   "execution_count": 2,
   "metadata": {},
   "outputs": [],
   "source": [
    "df = pd.read_csv('clean_data/okey.csv')"
   ]
  },
  {
   "cell_type": "code",
   "execution_count": 4,
   "metadata": {},
   "outputs": [
    {
     "data": {
      "text/html": [
       "<div>\n",
       "<style scoped>\n",
       "    .dataframe tbody tr th:only-of-type {\n",
       "        vertical-align: middle;\n",
       "    }\n",
       "\n",
       "    .dataframe tbody tr th {\n",
       "        vertical-align: top;\n",
       "    }\n",
       "\n",
       "    .dataframe thead th {\n",
       "        text-align: right;\n",
       "    }\n",
       "</style>\n",
       "<table border=\"1\" class=\"dataframe\">\n",
       "  <thead>\n",
       "    <tr style=\"text-align: right;\">\n",
       "      <th></th>\n",
       "      <th>Название</th>\n",
       "      <th>Категория</th>\n",
       "      <th>Бренд</th>\n",
       "      <th>Вес</th>\n",
       "    </tr>\n",
       "  </thead>\n",
       "  <tbody>\n",
       "    <tr>\n",
       "      <th>0</th>\n",
       "      <td>Кешью ТЧН! жареный соленый 150г</td>\n",
       "      <td>Соусы, орехи, консервы</td>\n",
       "      <td>ТЧН!</td>\n",
       "      <td>0,15кг.</td>\n",
       "    </tr>\n",
       "    <tr>\n",
       "      <th>1</th>\n",
       "      <td>Кешью ТЧН! жареный 150г</td>\n",
       "      <td>Соусы, орехи, консервы</td>\n",
       "      <td>ТЧН!</td>\n",
       "      <td>0,15кг.</td>\n",
       "    </tr>\n",
       "    <tr>\n",
       "      <th>2</th>\n",
       "      <td>Игрушка АВТОМАТ ИГРАЕМ ВМЕСТЕ 184141</td>\n",
       "      <td>Товары для мам и детей</td>\n",
       "      <td>Играем вместе</td>\n",
       "      <td>NaN</td>\n",
       "    </tr>\n",
       "    <tr>\n",
       "      <th>3</th>\n",
       "      <td>Щипцы для выпрямления волос HOME ELEMENT HE-HB412</td>\n",
       "      <td>Красота, гигиена, бытовая химия</td>\n",
       "      <td>Home element</td>\n",
       "      <td>NaN</td>\n",
       "    </tr>\n",
       "    <tr>\n",
       "      <th>4</th>\n",
       "      <td>Губка-блеск Мини Silver с дозатором силикона Ч...</td>\n",
       "      <td>Бытовая химия</td>\n",
       "      <td>Silver</td>\n",
       "      <td>0,021кг.</td>\n",
       "    </tr>\n",
       "  </tbody>\n",
       "</table>\n",
       "</div>"
      ],
      "text/plain": [
       "                                            Название  \\\n",
       "0                    Кешью ТЧН! жареный соленый 150г   \n",
       "1                            Кешью ТЧН! жареный 150г   \n",
       "2               Игрушка АВТОМАТ ИГРАЕМ ВМЕСТЕ 184141   \n",
       "3  Щипцы для выпрямления волос HOME ELEMENT HE-HB412   \n",
       "4  Губка-блеск Мини Silver с дозатором силикона Ч...   \n",
       "\n",
       "                         Категория          Бренд       Вес  \n",
       "0           Соусы, орехи, консервы           ТЧН!   0,15кг.  \n",
       "1           Соусы, орехи, консервы           ТЧН!   0,15кг.  \n",
       "2           Товары для мам и детей  Играем вместе       NaN  \n",
       "3  Красота, гигиена, бытовая химия   Home element       NaN  \n",
       "4                    Бытовая химия         Silver  0,021кг.  "
      ]
     },
     "execution_count": 4,
     "metadata": {},
     "output_type": "execute_result"
    }
   ],
   "source": [
    "df.head()"
   ]
  },
  {
   "cell_type": "markdown",
   "metadata": {},
   "source": [
    "### Загружаем данные и парсим через Тинькофф, получаем новые:"
   ]
  },
  {
   "cell_type": "code",
   "execution_count": 99,
   "metadata": {},
   "outputs": [
    {
     "data": {
      "text/html": [
       "<div>\n",
       "<style scoped>\n",
       "    .dataframe tbody tr th:only-of-type {\n",
       "        vertical-align: middle;\n",
       "    }\n",
       "\n",
       "    .dataframe tbody tr th {\n",
       "        vertical-align: top;\n",
       "    }\n",
       "\n",
       "    .dataframe thead th {\n",
       "        text-align: right;\n",
       "    }\n",
       "</style>\n",
       "<table border=\"1\" class=\"dataframe\">\n",
       "  <thead>\n",
       "    <tr style=\"text-align: right;\">\n",
       "      <th></th>\n",
       "      <th>Наименование</th>\n",
       "      <th>Продукт</th>\n",
       "      <th>Бренд</th>\n",
       "      <th>Категория</th>\n",
       "    </tr>\n",
       "  </thead>\n",
       "  <tbody>\n",
       "    <tr>\n",
       "      <th>0</th>\n",
       "      <td>Кешью ТЧН! жареный соленый 150г</td>\n",
       "      <td>кешью, жареный соленый</td>\n",
       "      <td>—</td>\n",
       "      <td>Продукты питания / Овощи, фрукты</td>\n",
       "    </tr>\n",
       "    <tr>\n",
       "      <th>1</th>\n",
       "      <td>Кешью ТЧН! жареный 150г</td>\n",
       "      <td>кешью</td>\n",
       "      <td>—</td>\n",
       "      <td>Продукты питания / Овощи, фрукты</td>\n",
       "    </tr>\n",
       "    <tr>\n",
       "      <th>2</th>\n",
       "      <td>Игрушка АВТОМАТ ИГРАЕМ ВМЕСТЕ 184141</td>\n",
       "      <td>игрушка, автомат</td>\n",
       "      <td>играем вместе</td>\n",
       "      <td>Товары для детей / Другое</td>\n",
       "    </tr>\n",
       "    <tr>\n",
       "      <th>3</th>\n",
       "      <td>Щипцы для выпрямления волос HOME ELEMENT HE-HB412</td>\n",
       "      <td>щипцы</td>\n",
       "      <td>home</td>\n",
       "      <td>Цифровая и бытовая техника / Техника для красо...</td>\n",
       "    </tr>\n",
       "    <tr>\n",
       "      <th>4</th>\n",
       "      <td>Губка-блеск Мини Silver с дозатором силикона Ч...</td>\n",
       "      <td>губка</td>\n",
       "      <td>блеск</td>\n",
       "      <td>Одежда и обувь / Одежда</td>\n",
       "    </tr>\n",
       "  </tbody>\n",
       "</table>\n",
       "</div>"
      ],
      "text/plain": [
       "                                        Наименование                 Продукт  \\\n",
       "0                    Кешью ТЧН! жареный соленый 150г  кешью, жареный соленый   \n",
       "1                            Кешью ТЧН! жареный 150г                   кешью   \n",
       "2               Игрушка АВТОМАТ ИГРАЕМ ВМЕСТЕ 184141        игрушка, автомат   \n",
       "3  Щипцы для выпрямления волос HOME ELEMENT HE-HB412                   щипцы   \n",
       "4  Губка-блеск Мини Silver с дозатором силикона Ч...                   губка   \n",
       "\n",
       "           Бренд                                          Категория  \n",
       "0              —                   Продукты питания / Овощи, фрукты  \n",
       "1              —                   Продукты питания / Овощи, фрукты  \n",
       "2  играем вместе                          Товары для детей / Другое  \n",
       "3           home  Цифровая и бытовая техника / Техника для красо...  \n",
       "4          блеск                            Одежда и обувь / Одежда  "
      ]
     },
     "execution_count": 99,
     "metadata": {},
     "output_type": "execute_result"
    }
   ],
   "source": [
    "names = pd.read_csv('clean_data/okey_names.csv')\n",
    "names.head()"
   ]
  },
  {
   "cell_type": "code",
   "execution_count": 100,
   "metadata": {},
   "outputs": [
    {
     "data": {
      "text/plain": [
       "700"
      ]
     },
     "execution_count": 100,
     "metadata": {},
     "output_type": "execute_result"
    }
   ],
   "source": [
    "sum(names['Продукт'].isna())"
   ]
  },
  {
   "cell_type": "code",
   "execution_count": 101,
   "metadata": {},
   "outputs": [],
   "source": [
    "def fill_miss_product(name: str, product: str) -> str:\n",
    "    if not isinstance(product, str) or product == '—':\n",
    "        return name.split()[0]\n",
    "    return product"
   ]
  },
  {
   "cell_type": "code",
   "execution_count": 102,
   "metadata": {},
   "outputs": [
    {
     "data": {
      "text/plain": [
       "0"
      ]
     },
     "execution_count": 102,
     "metadata": {},
     "output_type": "execute_result"
    }
   ],
   "source": [
    "names['Продукт'] = names[['Наименование', 'Продукт']].apply(lambda x: fill_miss_product(x['Наименование'], x['Продукт']), axis=1)\n",
    "sum(names['Продукт'].isna())"
   ]
  },
  {
   "cell_type": "code",
   "execution_count": 103,
   "metadata": {},
   "outputs": [],
   "source": [
    "names = names.rename(columns={'Наименование': 'Название'})[['Название', 'Продукт']]"
   ]
  },
  {
   "cell_type": "code",
   "execution_count": 104,
   "metadata": {},
   "outputs": [
    {
     "data": {
      "text/html": [
       "<div>\n",
       "<style scoped>\n",
       "    .dataframe tbody tr th:only-of-type {\n",
       "        vertical-align: middle;\n",
       "    }\n",
       "\n",
       "    .dataframe tbody tr th {\n",
       "        vertical-align: top;\n",
       "    }\n",
       "\n",
       "    .dataframe thead th {\n",
       "        text-align: right;\n",
       "    }\n",
       "</style>\n",
       "<table border=\"1\" class=\"dataframe\">\n",
       "  <thead>\n",
       "    <tr style=\"text-align: right;\">\n",
       "      <th></th>\n",
       "      <th>Название</th>\n",
       "      <th>Категория</th>\n",
       "      <th>Бренд</th>\n",
       "      <th>Вес</th>\n",
       "      <th>Продукт</th>\n",
       "    </tr>\n",
       "  </thead>\n",
       "  <tbody>\n",
       "    <tr>\n",
       "      <th>0</th>\n",
       "      <td>Кешью ТЧН! жареный соленый 150г</td>\n",
       "      <td>Соусы, орехи, консервы</td>\n",
       "      <td>ТЧН!</td>\n",
       "      <td>0,15кг.</td>\n",
       "      <td>кешью, жареный соленый</td>\n",
       "    </tr>\n",
       "    <tr>\n",
       "      <th>1</th>\n",
       "      <td>Кешью ТЧН! жареный 150г</td>\n",
       "      <td>Соусы, орехи, консервы</td>\n",
       "      <td>ТЧН!</td>\n",
       "      <td>0,15кг.</td>\n",
       "      <td>кешью</td>\n",
       "    </tr>\n",
       "    <tr>\n",
       "      <th>2</th>\n",
       "      <td>Игрушка АВТОМАТ ИГРАЕМ ВМЕСТЕ 184141</td>\n",
       "      <td>Товары для мам и детей</td>\n",
       "      <td>Играем вместе</td>\n",
       "      <td>NaN</td>\n",
       "      <td>игрушка, автомат</td>\n",
       "    </tr>\n",
       "    <tr>\n",
       "      <th>3</th>\n",
       "      <td>Щипцы для выпрямления волос HOME ELEMENT HE-HB412</td>\n",
       "      <td>Красота, гигиена, бытовая химия</td>\n",
       "      <td>Home element</td>\n",
       "      <td>NaN</td>\n",
       "      <td>щипцы</td>\n",
       "    </tr>\n",
       "    <tr>\n",
       "      <th>4</th>\n",
       "      <td>Губка-блеск Мини Silver с дозатором силикона Ч...</td>\n",
       "      <td>Бытовая химия</td>\n",
       "      <td>Silver</td>\n",
       "      <td>0,021кг.</td>\n",
       "      <td>губка</td>\n",
       "    </tr>\n",
       "  </tbody>\n",
       "</table>\n",
       "</div>"
      ],
      "text/plain": [
       "                                            Название  \\\n",
       "0                    Кешью ТЧН! жареный соленый 150г   \n",
       "1                            Кешью ТЧН! жареный 150г   \n",
       "2               Игрушка АВТОМАТ ИГРАЕМ ВМЕСТЕ 184141   \n",
       "3  Щипцы для выпрямления волос HOME ELEMENT HE-HB412   \n",
       "4  Губка-блеск Мини Silver с дозатором силикона Ч...   \n",
       "\n",
       "                         Категория          Бренд       Вес  \\\n",
       "0           Соусы, орехи, консервы           ТЧН!   0,15кг.   \n",
       "1           Соусы, орехи, консервы           ТЧН!   0,15кг.   \n",
       "2           Товары для мам и детей  Играем вместе       NaN   \n",
       "3  Красота, гигиена, бытовая химия   Home element       NaN   \n",
       "4                    Бытовая химия         Silver  0,021кг.   \n",
       "\n",
       "                  Продукт  \n",
       "0  кешью, жареный соленый  \n",
       "1                   кешью  \n",
       "2        игрушка, автомат  \n",
       "3                   щипцы  \n",
       "4                   губка  "
      ]
     },
     "execution_count": 104,
     "metadata": {},
     "output_type": "execute_result"
    }
   ],
   "source": [
    "result = pd.concat([names, df], axis=1, sort=False)[['Название', 'Категория', 'Бренд', 'Вес', 'Продукт']]\n",
    "result = result.loc[:,~result.columns.duplicated()]\n",
    "result.head()"
   ]
  },
  {
   "cell_type": "code",
   "execution_count": 105,
   "metadata": {},
   "outputs": [],
   "source": [
    "result['Продукт'] = result['Продукт'].apply(lambda x: x.split(', ')[0])"
   ]
  },
  {
   "cell_type": "code",
   "execution_count": 106,
   "metadata": {},
   "outputs": [
    {
     "data": {
      "text/html": [
       "<div>\n",
       "<style scoped>\n",
       "    .dataframe tbody tr th:only-of-type {\n",
       "        vertical-align: middle;\n",
       "    }\n",
       "\n",
       "    .dataframe tbody tr th {\n",
       "        vertical-align: top;\n",
       "    }\n",
       "\n",
       "    .dataframe thead th {\n",
       "        text-align: right;\n",
       "    }\n",
       "</style>\n",
       "<table border=\"1\" class=\"dataframe\">\n",
       "  <thead>\n",
       "    <tr style=\"text-align: right;\">\n",
       "      <th></th>\n",
       "      <th>Название</th>\n",
       "      <th>Категория</th>\n",
       "      <th>Бренд</th>\n",
       "      <th>Вес</th>\n",
       "      <th>Продукт</th>\n",
       "    </tr>\n",
       "  </thead>\n",
       "  <tbody>\n",
       "    <tr>\n",
       "      <th>12991</th>\n",
       "      <td>Торт У Палыча Лесная поляна 650г</td>\n",
       "      <td>Хлеб, сладости, снеки</td>\n",
       "      <td>У Палыча</td>\n",
       "      <td>0,65кг.</td>\n",
       "      <td>торт</td>\n",
       "    </tr>\n",
       "    <tr>\n",
       "      <th>7738</th>\n",
       "      <td>Мясорубка Marta MT-2086</td>\n",
       "      <td>Бытовая техника</td>\n",
       "      <td>Marta</td>\n",
       "      <td>2,7кг.</td>\n",
       "      <td>мясорубка</td>\n",
       "    </tr>\n",
       "    <tr>\n",
       "      <th>2897</th>\n",
       "      <td>Зефир Ванильный 225г КФ Таганрогская</td>\n",
       "      <td>Хлеб, сладости, снеки</td>\n",
       "      <td>КФ Таганрогская</td>\n",
       "      <td>0,225кг.</td>\n",
       "      <td>зефир</td>\n",
       "    </tr>\n",
       "    <tr>\n",
       "      <th>1901</th>\n",
       "      <td>Банка с вакуум.кр. 0,6л д/сып.продуктов</td>\n",
       "      <td>Другое</td>\n",
       "      <td>Полимербыт</td>\n",
       "      <td>0,6кг.</td>\n",
       "      <td>банка</td>\n",
       "    </tr>\n",
       "    <tr>\n",
       "      <th>13372</th>\n",
       "      <td>Агар-агар Айдиго 10г</td>\n",
       "      <td>Хлеб, сладости, снеки</td>\n",
       "      <td>Айдиго</td>\n",
       "      <td>0,01кг.</td>\n",
       "      <td>приправа</td>\n",
       "    </tr>\n",
       "    <tr>\n",
       "      <th>3685</th>\n",
       "      <td>Пельмени Скоровар 800г</td>\n",
       "      <td>Замороженные продукты</td>\n",
       "      <td>Скоровар</td>\n",
       "      <td>0,8кг.</td>\n",
       "      <td>пельмени</td>\n",
       "    </tr>\n",
       "    <tr>\n",
       "      <th>1187</th>\n",
       "      <td>Колбаски Иней Ветчинные с горчицей 400г</td>\n",
       "      <td>Птица, мясо, деликатесы</td>\n",
       "      <td>Иней</td>\n",
       "      <td>0,4кг.</td>\n",
       "      <td>колбаски</td>\n",
       "    </tr>\n",
       "    <tr>\n",
       "      <th>5322</th>\n",
       "      <td>Семга филе-ломтики х/к Русское море 120г</td>\n",
       "      <td>Рыба, икра</td>\n",
       "      <td>Русское море</td>\n",
       "      <td>0,12кг.</td>\n",
       "      <td>семга</td>\n",
       "    </tr>\n",
       "    <tr>\n",
       "      <th>15363</th>\n",
       "      <td>Набор пирожных Север Невский бриз 280г</td>\n",
       "      <td>Хлеб, сладости, снеки</td>\n",
       "      <td>Север</td>\n",
       "      <td>0,28кг.</td>\n",
       "      <td>набор пирожных</td>\n",
       "    </tr>\n",
       "    <tr>\n",
       "      <th>374</th>\n",
       "      <td>РАПТОР Аэрозоль от моли с запахом лимона 175мл</td>\n",
       "      <td>Дача и гриль</td>\n",
       "      <td>Раптор</td>\n",
       "      <td>0,175л.</td>\n",
       "      <td>аэрозоль</td>\n",
       "    </tr>\n",
       "  </tbody>\n",
       "</table>\n",
       "</div>"
      ],
      "text/plain": [
       "                                             Название  \\\n",
       "12991                Торт У Палыча Лесная поляна 650г   \n",
       "7738                          Мясорубка Marta MT-2086   \n",
       "2897             Зефир Ванильный 225г КФ Таганрогская   \n",
       "1901          Банка с вакуум.кр. 0,6л д/сып.продуктов   \n",
       "13372                            Агар-агар Айдиго 10г   \n",
       "3685                           Пельмени Скоровар 800г   \n",
       "1187          Колбаски Иней Ветчинные с горчицей 400г   \n",
       "5322         Семга филе-ломтики х/к Русское море 120г   \n",
       "15363          Набор пирожных Север Невский бриз 280г   \n",
       "374    РАПТОР Аэрозоль от моли с запахом лимона 175мл   \n",
       "\n",
       "                     Категория            Бренд       Вес         Продукт  \n",
       "12991    Хлеб, сладости, снеки         У Палыча   0,65кг.            торт  \n",
       "7738           Бытовая техника            Marta    2,7кг.       мясорубка  \n",
       "2897     Хлеб, сладости, снеки  КФ Таганрогская  0,225кг.           зефир  \n",
       "1901                    Другое       Полимербыт    0,6кг.           банка  \n",
       "13372    Хлеб, сладости, снеки           Айдиго   0,01кг.        приправа  \n",
       "3685     Замороженные продукты         Скоровар    0,8кг.        пельмени  \n",
       "1187   Птица, мясо, деликатесы             Иней    0,4кг.        колбаски  \n",
       "5322                Рыба, икра     Русское море   0,12кг.           семга  \n",
       "15363    Хлеб, сладости, снеки            Север   0,28кг.  набор пирожных  \n",
       "374               Дача и гриль           Раптор   0,175л.        аэрозоль  "
      ]
     },
     "execution_count": 106,
     "metadata": {},
     "output_type": "execute_result"
    }
   ],
   "source": [
    "result.sample(10)"
   ]
  },
  {
   "cell_type": "code",
   "execution_count": 107,
   "metadata": {},
   "outputs": [
    {
     "data": {
      "text/plain": [
       "2134"
      ]
     },
     "execution_count": 107,
     "metadata": {},
     "output_type": "execute_result"
    }
   ],
   "source": [
    "len(result['Продукт'].unique())"
   ]
  },
  {
   "cell_type": "code",
   "execution_count": 109,
   "metadata": {},
   "outputs": [
    {
     "data": {
      "text/plain": [
       "книга                 387\n",
       "сыр                   283\n",
       "колбаса               254\n",
       "напиток               237\n",
       "чай                   220\n",
       "                     ... \n",
       "мфу                     1\n",
       "спираль от комаров      1\n",
       "патчи для глаз          1\n",
       "печенье слоеное         1\n",
       "приправа для гриля      1\n",
       "Name: Продукт, Length: 2134, dtype: int64"
      ]
     },
     "execution_count": 109,
     "metadata": {},
     "output_type": "execute_result"
    }
   ],
   "source": [
    "result['Продукт'].value_counts()"
   ]
  },
  {
   "cell_type": "code",
   "execution_count": 110,
   "metadata": {},
   "outputs": [],
   "source": [
    "result.to_csv('clean_data/okey_clean.csv', index=False)"
   ]
  },
  {
   "cell_type": "code",
   "execution_count": null,
   "metadata": {},
   "outputs": [],
   "source": []
  }
 ],
 "metadata": {
  "kernelspec": {
   "display_name": "Python 3",
   "language": "python",
   "name": "python3"
  },
  "language_info": {
   "codemirror_mode": {
    "name": "ipython",
    "version": 3
   },
   "file_extension": ".py",
   "mimetype": "text/x-python",
   "name": "python",
   "nbconvert_exporter": "python",
   "pygments_lexer": "ipython3",
   "version": "3.6.9"
  }
 },
 "nbformat": 4,
 "nbformat_minor": 4
}
