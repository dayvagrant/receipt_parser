{
 "cells": [
  {
   "cell_type": "code",
   "execution_count": 130,
   "metadata": {},
   "outputs": [],
   "source": [
    "import pandas as pd\n",
    "import numpy as np\n",
    "import re\n",
    "import matplotlib.pyplot as plt\n",
    "import seaborn as sns\n",
    "%matplotlib inline"
   ]
  },
  {
   "cell_type": "markdown",
   "metadata": {},
   "source": [
    "## Загружаем все собранные данные воедино"
   ]
  },
  {
   "cell_type": "code",
   "execution_count": 10,
   "metadata": {},
   "outputs": [
    {
     "data": {
      "text/plain": [
       "['magnit_clean.csv',\n",
       " 'metro_clean.csv',\n",
       " 'okey_clean.csv',\n",
       " 'perekrestok_clean.csv',\n",
       " 'peterochka_clean.csv',\n",
       " 'utkonos_clean.csv']"
      ]
     },
     "execution_count": 10,
     "metadata": {},
     "output_type": "execute_result"
    }
   ],
   "source": [
    "files = !ls *.csv\n",
    "files"
   ]
  },
  {
   "cell_type": "code",
   "execution_count": 12,
   "metadata": {},
   "outputs": [
    {
     "name": "stdout",
     "output_type": "stream",
     "text": [
      "(107206, 5)\n"
     ]
    },
    {
     "data": {
      "text/html": [
       "<div>\n",
       "<style scoped>\n",
       "    .dataframe tbody tr th:only-of-type {\n",
       "        vertical-align: middle;\n",
       "    }\n",
       "\n",
       "    .dataframe tbody tr th {\n",
       "        vertical-align: top;\n",
       "    }\n",
       "\n",
       "    .dataframe thead th {\n",
       "        text-align: right;\n",
       "    }\n",
       "</style>\n",
       "<table border=\"1\" class=\"dataframe\">\n",
       "  <thead>\n",
       "    <tr style=\"text-align: right;\">\n",
       "      <th></th>\n",
       "      <th>Название</th>\n",
       "      <th>Категория</th>\n",
       "      <th>Бренд</th>\n",
       "      <th>Вес</th>\n",
       "      <th>Продукт</th>\n",
       "    </tr>\n",
       "  </thead>\n",
       "  <tbody>\n",
       "    <tr>\n",
       "      <th>0</th>\n",
       "      <td>LE PETIT MARSEILLAIS® Гель-шампунь, Апельсинов...</td>\n",
       "      <td>Красота, гигиена, бытовая химия</td>\n",
       "      <td>le petit marseillais</td>\n",
       "      <td>NaN</td>\n",
       "      <td>гель</td>\n",
       "    </tr>\n",
       "    <tr>\n",
       "      <th>1</th>\n",
       "      <td>Pantene Pro-V Бальзам Aqua Light/ Густые и кре...</td>\n",
       "      <td>Красота, гигиена, бытовая химия</td>\n",
       "      <td>pantene pro - v</td>\n",
       "      <td>360</td>\n",
       "      <td>бальзам</td>\n",
       "    </tr>\n",
       "    <tr>\n",
       "      <th>2</th>\n",
       "      <td>АКВАФРЕШ, Паста зубная, мои большие зубки, 50 ...</td>\n",
       "      <td>Другое</td>\n",
       "      <td>oral b</td>\n",
       "      <td>50</td>\n",
       "      <td>паста зубная</td>\n",
       "    </tr>\n",
       "    <tr>\n",
       "      <th>3</th>\n",
       "      <td>Антиперспирант ДЕОНИКА Саммер Парадайз, женски...</td>\n",
       "      <td>Красота, гигиена, бытовая химия</td>\n",
       "      <td>деоника</td>\n",
       "      <td>150</td>\n",
       "      <td>антиперспирант</td>\n",
       "    </tr>\n",
       "    <tr>\n",
       "      <th>4</th>\n",
       "      <td>Антиперспирант спрей AXE®, Ледокол, 150 мл</td>\n",
       "      <td>Красота, гигиена, бытовая химия</td>\n",
       "      <td>axe</td>\n",
       "      <td>150</td>\n",
       "      <td>антиперспирант</td>\n",
       "    </tr>\n",
       "  </tbody>\n",
       "</table>\n",
       "</div>"
      ],
      "text/plain": [
       "                                            Название  \\\n",
       "0  LE PETIT MARSEILLAIS® Гель-шампунь, Апельсинов...   \n",
       "1  Pantene Pro-V Бальзам Aqua Light/ Густые и кре...   \n",
       "2  АКВАФРЕШ, Паста зубная, мои большие зубки, 50 ...   \n",
       "3  Антиперспирант ДЕОНИКА Саммер Парадайз, женски...   \n",
       "4         Антиперспирант спрей AXE®, Ледокол, 150 мл   \n",
       "\n",
       "                         Категория                 Бренд  Вес         Продукт  \n",
       "0  Красота, гигиена, бытовая химия  le petit marseillais  NaN            гель  \n",
       "1  Красота, гигиена, бытовая химия       pantene pro - v  360         бальзам  \n",
       "2                           Другое                oral b   50    паста зубная  \n",
       "3  Красота, гигиена, бытовая химия               деоника  150  антиперспирант  \n",
       "4  Красота, гигиена, бытовая химия                   axe  150  антиперспирант  "
      ]
     },
     "execution_count": 12,
     "metadata": {},
     "output_type": "execute_result"
    }
   ],
   "source": [
    "result = pd.DataFrame(columns=['Название', 'Категория', 'Бренд', 'Вес', 'Продукт'])\n",
    "for file in files:\n",
    "    result = pd.concat([result, pd.read_csv(file)])\n",
    "    \n",
    "print(result.shape)\n",
    "result.head()"
   ]
  },
  {
   "cell_type": "markdown",
   "metadata": {},
   "source": [
    "## Удаляем дубликаты в названиях продкутов"
   ]
  },
  {
   "cell_type": "code",
   "execution_count": 16,
   "metadata": {},
   "outputs": [
    {
     "name": "stdout",
     "output_type": "stream",
     "text": [
      "965\n"
     ]
    }
   ],
   "source": [
    "print(result.shape[0] - result.drop_duplicates(subset=['Название']).shape[0])\n",
    "result = result.drop_duplicates(subset=['Название'])"
   ]
  },
  {
   "cell_type": "markdown",
   "metadata": {},
   "source": [
    "## Смотрим какие есть пустые значения"
   ]
  },
  {
   "cell_type": "code",
   "execution_count": 23,
   "metadata": {},
   "outputs": [
    {
     "data": {
      "text/plain": [
       "Название         0\n",
       "Категория        0\n",
       "Бренд         4290\n",
       "Вес          21622\n",
       "Продукт          0\n",
       "dtype: int64"
      ]
     },
     "execution_count": 23,
     "metadata": {},
     "output_type": "execute_result"
    }
   ],
   "source": [
    "result.isna().sum()"
   ]
  },
  {
   "cell_type": "code",
   "execution_count": 24,
   "metadata": {},
   "outputs": [],
   "source": [
    "result = result.dropna(subset=['Бренд'])"
   ]
  },
  {
   "cell_type": "markdown",
   "metadata": {},
   "source": [
    "## Работаем с продуктами"
   ]
  },
  {
   "cell_type": "code",
   "execution_count": 50,
   "metadata": {},
   "outputs": [],
   "source": [
    "result['Продукт'] = result['Продукт'].str.lower()  # приводим всё к нижнему регистру"
   ]
  },
  {
   "cell_type": "code",
   "execution_count": 51,
   "metadata": {},
   "outputs": [
    {
     "data": {
      "text/plain": [
       "9311"
      ]
     },
     "execution_count": 51,
     "metadata": {},
     "output_type": "execute_result"
    }
   ],
   "source": [
    "len(result['Продукт'].unique())  # Количество уникальных продуктов"
   ]
  },
  {
   "cell_type": "code",
   "execution_count": 52,
   "metadata": {},
   "outputs": [
    {
     "data": {
      "text/plain": [
       "сыр                  1411\n",
       "напиток              1327\n",
       "колбаса              1234\n",
       "вино                 1218\n",
       "пюре                 1180\n",
       "                     ... \n",
       "игра развивающая        1\n",
       "пластик                 1\n",
       "свинина духовая         1\n",
       "стимулятор              1\n",
       "креветка cеверная       1\n",
       "Name: Продукт, Length: 9311, dtype: int64"
      ]
     },
     "execution_count": 52,
     "metadata": {},
     "output_type": "execute_result"
    }
   ],
   "source": [
    "result['Продукт'].value_counts()"
   ]
  },
  {
   "cell_type": "code",
   "execution_count": 68,
   "metadata": {},
   "outputs": [],
   "source": [
    "# Удаляем редкие товары, скорее всего, они нам нерелевантны или же это повторы\n",
    "result = result.groupby('Продукт').filter(lambda x: len(x) > 13)"
   ]
  },
  {
   "cell_type": "code",
   "execution_count": 69,
   "metadata": {},
   "outputs": [
    {
     "data": {
      "text/plain": [
       "960"
      ]
     },
     "execution_count": 69,
     "metadata": {},
     "output_type": "execute_result"
    }
   ],
   "source": [
    "# Ещё раз посмотрим на количество уникальных продуктов\n",
    "len(result['Продукт'].unique()) "
   ]
  },
  {
   "cell_type": "markdown",
   "metadata": {},
   "source": [
    "Получилось сократить количнество товаров в 10 раз! Это значительно упрощает нам задачу"
   ]
  },
  {
   "cell_type": "markdown",
   "metadata": {},
   "source": [
    "## Пройдёмся по брендам"
   ]
  },
  {
   "cell_type": "code",
   "execution_count": 71,
   "metadata": {},
   "outputs": [
    {
     "data": {
      "text/plain": [
       "7424"
      ]
     },
     "execution_count": 71,
     "metadata": {},
     "output_type": "execute_result"
    }
   ],
   "source": [
    "len(result['Бренд'].unique()) # Брендов в разы больше, чем уникальных товаров - не очень хорошо"
   ]
  },
  {
   "cell_type": "code",
   "execution_count": 73,
   "metadata": {},
   "outputs": [
    {
     "data": {
      "text/plain": [
       "6784"
      ]
     },
     "execution_count": 73,
     "metadata": {},
     "output_type": "execute_result"
    }
   ],
   "source": [
    "result['Бренд'] = result['Бренд'].str.lower()  # приводим всё к нижнему регистру\n",
    "len(result['Бренд'].unique())"
   ]
  },
  {
   "cell_type": "code",
   "execution_count": 74,
   "metadata": {},
   "outputs": [
    {
     "data": {
      "text/plain": [
       "фрутоняня       654\n",
       "о'кей           476\n",
       "fine life       464\n",
       "nivea           461\n",
       "aro             409\n",
       "               ... \n",
       "марти             1\n",
       "apacer            1\n",
       "патриарш          1\n",
       "stella aurea      1\n",
       "капелька          1\n",
       "Name: Бренд, Length: 6784, dtype: int64"
      ]
     },
     "execution_count": 74,
     "metadata": {},
     "output_type": "execute_result"
    }
   ],
   "source": [
    "result['Бренд'].value_counts()"
   ]
  },
  {
   "cell_type": "code",
   "execution_count": 97,
   "metadata": {},
   "outputs": [
    {
     "data": {
      "text/html": [
       "<div>\n",
       "<style scoped>\n",
       "    .dataframe tbody tr th:only-of-type {\n",
       "        vertical-align: middle;\n",
       "    }\n",
       "\n",
       "    .dataframe tbody tr th {\n",
       "        vertical-align: top;\n",
       "    }\n",
       "\n",
       "    .dataframe thead th {\n",
       "        text-align: right;\n",
       "    }\n",
       "</style>\n",
       "<table border=\"1\" class=\"dataframe\">\n",
       "  <thead>\n",
       "    <tr style=\"text-align: right;\">\n",
       "      <th></th>\n",
       "      <th>Название</th>\n",
       "      <th>Категория</th>\n",
       "      <th>Бренд</th>\n",
       "      <th>Вес</th>\n",
       "      <th>Продукт</th>\n",
       "    </tr>\n",
       "  </thead>\n",
       "  <tbody>\n",
       "    <tr>\n",
       "      <th>8639</th>\n",
       "      <td>Смесь овощная Vитамин Испанская в соусе Ривейр...</td>\n",
       "      <td>Замороженные продукты</td>\n",
       "      <td>vитамин</td>\n",
       "      <td>400 г</td>\n",
       "      <td>смесь овощная</td>\n",
       "    </tr>\n",
       "    <tr>\n",
       "      <th>14331</th>\n",
       "      <td>Корм для кошек Sheba Pleasure c форелью и крев...</td>\n",
       "      <td>Зоотовары</td>\n",
       "      <td>sheba</td>\n",
       "      <td>NaN</td>\n",
       "      <td>корм для кошек</td>\n",
       "    </tr>\n",
       "    <tr>\n",
       "      <th>139</th>\n",
       "      <td>Сливочное масло Вологодское 82,5 % 180 г бзмж</td>\n",
       "      <td>Молоко, сыр, яйца</td>\n",
       "      <td>вологодское</td>\n",
       "      <td>180 г</td>\n",
       "      <td>сливочное масло</td>\n",
       "    </tr>\n",
       "    <tr>\n",
       "      <th>17571</th>\n",
       "      <td>Йогурт Чудо со вкусом Ананас-Банан 2,4%, 270г</td>\n",
       "      <td>Молоко, сыр, яйца</td>\n",
       "      <td>чудо</td>\n",
       "      <td>0.27 кг</td>\n",
       "      <td>йогурт</td>\n",
       "    </tr>\n",
       "    <tr>\n",
       "      <th>37599</th>\n",
       "      <td>Вода Нарзан минеральная лечебно-столовая 0,45л</td>\n",
       "      <td>Воды, соки, напитки</td>\n",
       "      <td>нарзан</td>\n",
       "      <td>0.69 кг</td>\n",
       "      <td>вода</td>\n",
       "    </tr>\n",
       "  </tbody>\n",
       "</table>\n",
       "</div>"
      ],
      "text/plain": [
       "                                                Название  \\\n",
       "8639   Смесь овощная Vитамин Испанская в соусе Ривейр...   \n",
       "14331  Корм для кошек Sheba Pleasure c форелью и крев...   \n",
       "139        Сливочное масло Вологодское 82,5 % 180 г бзмж   \n",
       "17571      Йогурт Чудо со вкусом Ананас-Банан 2,4%, 270г   \n",
       "37599     Вода Нарзан минеральная лечебно-столовая 0,45л   \n",
       "\n",
       "                   Категория        Бренд      Вес          Продукт  \n",
       "8639   Замороженные продукты      vитамин    400 г    смесь овощная  \n",
       "14331              Зоотовары        sheba      NaN   корм для кошек  \n",
       "139        Молоко, сыр, яйца  вологодское    180 г  сливочное масло  \n",
       "17571      Молоко, сыр, яйца         чудо  0.27 кг           йогурт  \n",
       "37599    Воды, соки, напитки       нарзан  0.69 кг             вода  "
      ]
     },
     "execution_count": 97,
     "metadata": {},
     "output_type": "execute_result"
    }
   ],
   "source": [
    "# Удалим самые редкие товары:\n",
    "result = result.groupby('Бренд').filter(lambda x: len(x) > 5)\n",
    "result.sample(5)"
   ]
  },
  {
   "cell_type": "code",
   "execution_count": 98,
   "metadata": {},
   "outputs": [
    {
     "data": {
      "text/plain": [
       "2409"
      ]
     },
     "execution_count": 98,
     "metadata": {},
     "output_type": "execute_result"
    }
   ],
   "source": [
    "# Ещё раз посмотрим на количество уникальных брендов\n",
    "len(result['Бренд'].unique())"
   ]
  },
  {
   "cell_type": "code",
   "execution_count": 100,
   "metadata": {},
   "outputs": [
    {
     "data": {
      "text/plain": [
       "960"
      ]
     },
     "execution_count": 100,
     "metadata": {},
     "output_type": "execute_result"
    }
   ],
   "source": [
    "len(result['Продукт'].unique()) # Количество ункальных продуктов от этого не пострадало :)"
   ]
  },
  {
   "cell_type": "code",
   "execution_count": 102,
   "metadata": {},
   "outputs": [
    {
     "data": {
      "text/plain": [
       "71926"
      ]
     },
     "execution_count": 102,
     "metadata": {},
     "output_type": "execute_result"
    }
   ],
   "source": [
    "len(result) # Общий размер датасета уменьшился со 107 тысяч до 72. Неплохо"
   ]
  },
  {
   "cell_type": "markdown",
   "metadata": {},
   "source": [
    "## А теперь категории:"
   ]
  },
  {
   "cell_type": "code",
   "execution_count": 110,
   "metadata": {},
   "outputs": [
    {
     "data": {
      "text/plain": [
       "array(['Красота, гигиена, бытовая химия', 'Хлеб, сладости, снеки',\n",
       "       'Молоко, сыр, яйца', 'Соусы, орехи, консервы',\n",
       "       'Макароны, крупы, специи', 'Другое', 'Воды, соки, напитки',\n",
       "       'Рыба, икра', 'Чай, кофе, сахар', 'Замороженные продукты',\n",
       "       'Товары для мам и детей', 'Птица, мясо, деликатесы', 'Посуда',\n",
       "       'Овощи, фрукты, ягоды', 'Товары для дома и дачи',\n",
       "       'Подборки и готовые блюда', 'Зоотовары', 'Бытовая техника',\n",
       "       'Бытовая химия', 'Дача и гриль', 'Алкоголь', 'Постные продукты',\n",
       "       'Дом, сад, кухня, авто', 'Рыба, икра, морепродукты',\n",
       "       'Овощи, фрукты, грибы, ягоды', 'Здоровый выбор', 'Скидки месяца',\n",
       "       'Системы нагревания и электронные сигареты',\n",
       "       'Соусы, орехи, консервы.', 'Бытовая химия.',\n",
       "       'Замороженные продукты.', 'Птица, мясо, деликатесы.',\n",
       "       'Хлеб, сладости, снеки.', 'Чай, кофе, сахар.', 'Зоотовары.',\n",
       "       'Товары для мам и детей.', 'Скидки месяца.', 'Рыба, икра.',\n",
       "       'Воды, соки, напитки.', 'Подборки и готовые блюда.',\n",
       "       'Красота, гигиена, бытовая химия.'], dtype=object)"
      ]
     },
     "execution_count": 110,
     "metadata": {},
     "output_type": "execute_result"
    }
   ],
   "source": [
    "result['Категория'].unique() # как видно, некоторые одинаковые категории не стоят вместе, нужно исправить"
   ]
  },
  {
   "cell_type": "code",
   "execution_count": 112,
   "metadata": {},
   "outputs": [],
   "source": [
    "result['Категория'] = result['Категория'].str.replace('.', '') # удаляем точку"
   ]
  },
  {
   "cell_type": "code",
   "execution_count": 121,
   "metadata": {},
   "outputs": [],
   "source": [
    "def replace_category(category: str) -> str:\n",
    "    if category == 'Бытовая химия':\n",
    "        return 'Красота, гигиена, бытовая химия'\n",
    "    if category == 'Дом, сад, кухня, авто':\n",
    "        return 'Товары для дома и дачи'\n",
    "    if category == 'Овощи, фрукты, грибы, ягоды':\n",
    "        return 'Овощи, фрукты, ягоды'\n",
    "    if category == 'Системы нагревания и электронные сигареты':\n",
    "        return 'Другое'\n",
    "    if category == 'Рыба, икра, морепродукты':\n",
    "        return 'Рыба, икра'\n",
    "    if category in ['Здоровый выбор', 'Скидки месяца']:\n",
    "        return None\n",
    "    return category"
   ]
  },
  {
   "cell_type": "code",
   "execution_count": 128,
   "metadata": {},
   "outputs": [
    {
     "data": {
      "text/plain": [
       "array(['Красота, гигиена, бытовая химия', 'Хлеб, сладости, снеки',\n",
       "       'Молоко, сыр, яйца', 'Соусы, орехи, консервы',\n",
       "       'Макароны, крупы, специи', 'Другое', 'Воды, соки, напитки',\n",
       "       'Рыба, икра', 'Чай, кофе, сахар', 'Замороженные продукты',\n",
       "       'Товары для мам и детей', 'Птица, мясо, деликатесы', 'Посуда',\n",
       "       'Овощи, фрукты, ягоды', 'Товары для дома и дачи',\n",
       "       'Подборки и готовые блюда', 'Зоотовары', 'Бытовая техника',\n",
       "       'Дача и гриль', 'Алкоголь', 'Постные продукты'], dtype=object)"
      ]
     },
     "execution_count": 128,
     "metadata": {},
     "output_type": "execute_result"
    }
   ],
   "source": [
    "result['Категория'] = result['Категория'].apply(replace_category)\n",
    "result = result.dropna(subset=['Категория'])\n",
    "result['Категория'].unique()"
   ]
  },
  {
   "cell_type": "code",
   "execution_count": 141,
   "metadata": {},
   "outputs": [
    {
     "data": {
      "image/png": "[encoded data removed]",
      "text/plain": [
       "<Figure size 1008x648 with 1 Axes>"
      ]
     },
     "metadata": {
      "needs_background": "light"
     },
     "output_type": "display_data"
    }
   ],
   "source": [
    "plt.figure(figsize=(14, 9))\n",
    "sns.countplot(result['Категория'])\n",
    "plt.xticks(rotation=90)\n",
    "plt.show()"
   ]
  },
  {
   "cell_type": "markdown",
   "metadata": {},
   "source": [
    "## И под конец пройдёмся по названиям продукта"
   ]
  },
  {
   "cell_type": "code",
   "execution_count": 153,
   "metadata": {},
   "outputs": [
    {
     "data": {
      "text/html": [
       "<div>\n",
       "<style scoped>\n",
       "    .dataframe tbody tr th:only-of-type {\n",
       "        vertical-align: middle;\n",
       "    }\n",
       "\n",
       "    .dataframe tbody tr th {\n",
       "        vertical-align: top;\n",
       "    }\n",
       "\n",
       "    .dataframe thead th {\n",
       "        text-align: right;\n",
       "    }\n",
       "</style>\n",
       "<table border=\"1\" class=\"dataframe\">\n",
       "  <thead>\n",
       "    <tr style=\"text-align: right;\">\n",
       "      <th></th>\n",
       "      <th>Название</th>\n",
       "      <th>Категория</th>\n",
       "      <th>Бренд</th>\n",
       "      <th>Вес</th>\n",
       "      <th>Продукт</th>\n",
       "    </tr>\n",
       "  </thead>\n",
       "  <tbody>\n",
       "    <tr>\n",
       "      <th>0</th>\n",
       "      <td>LE PETIT MARSEILLAIS® Гель-шампунь, Апельсинов...</td>\n",
       "      <td>Красота, гигиена, бытовая химия</td>\n",
       "      <td>le petit marseillais</td>\n",
       "      <td>NaN</td>\n",
       "      <td>гель</td>\n",
       "    </tr>\n",
       "    <tr>\n",
       "      <th>4</th>\n",
       "      <td>Антиперспирант спрей AXE®, Ледокол, 150 мл</td>\n",
       "      <td>Красота, гигиена, бытовая химия</td>\n",
       "      <td>axe</td>\n",
       "      <td>150</td>\n",
       "      <td>антиперспирант</td>\n",
       "    </tr>\n",
       "    <tr>\n",
       "      <th>5</th>\n",
       "      <td>Антиперспирант- спрей DOVE®, Нежность лепестко...</td>\n",
       "      <td>Красота, гигиена, бытовая химия</td>\n",
       "      <td>dove</td>\n",
       "      <td>NaN</td>\n",
       "      <td>антиперспирант</td>\n",
       "    </tr>\n",
       "    <tr>\n",
       "      <th>7</th>\n",
       "      <td>Бальзам для волос SCHAUMA®, Детоксматча, 200 мл</td>\n",
       "      <td>Красота, гигиена, бытовая химия</td>\n",
       "      <td>schauma</td>\n",
       "      <td>200</td>\n",
       "      <td>бальзам для волос</td>\n",
       "    </tr>\n",
       "    <tr>\n",
       "      <th>8</th>\n",
       "      <td>Бальзам-ополаскиватель Пантин Интенсивное восс...</td>\n",
       "      <td>Красота, гигиена, бытовая химия</td>\n",
       "      <td>pantene</td>\n",
       "      <td>NaN</td>\n",
       "      <td>бальзам</td>\n",
       "    </tr>\n",
       "  </tbody>\n",
       "</table>\n",
       "</div>"
      ],
      "text/plain": [
       "                                            Название  \\\n",
       "0  LE PETIT MARSEILLAIS® Гель-шампунь, Апельсинов...   \n",
       "4         Антиперспирант спрей AXE®, Ледокол, 150 мл   \n",
       "5  Антиперспирант- спрей DOVE®, Нежность лепестко...   \n",
       "7    Бальзам для волос SCHAUMA®, Детоксматча, 200 мл   \n",
       "8  Бальзам-ополаскиватель Пантин Интенсивное восс...   \n",
       "\n",
       "                         Категория                 Бренд  Вес  \\\n",
       "0  Красота, гигиена, бытовая химия  le petit marseillais  NaN   \n",
       "4  Красота, гигиена, бытовая химия                   axe  150   \n",
       "5  Красота, гигиена, бытовая химия                  dove  NaN   \n",
       "7  Красота, гигиена, бытовая химия               schauma  200   \n",
       "8  Красота, гигиена, бытовая химия               pantene  NaN   \n",
       "\n",
       "             Продукт  \n",
       "0               гель  \n",
       "4     антиперспирант  \n",
       "5     антиперспирант  \n",
       "7  бальзам для волос  \n",
       "8            бальзам  "
      ]
     },
     "execution_count": 153,
     "metadata": {},
     "output_type": "execute_result"
    }
   ],
   "source": [
    "result.head()"
   ]
  },
  {
   "cell_type": "code",
   "execution_count": 160,
   "metadata": {},
   "outputs": [
    {
     "name": "stdout",
     "output_type": "stream",
     "text": [
      "259\n"
     ]
    }
   ],
   "source": [
    "len_before = len(result)\n",
    "result['Название'] = result['Название'].str.replace('®', '')\n",
    "result['Название'] = result['Название'].str.lower()\n",
    "result = result.drop_duplicates(subset=['Название'])\n",
    "len_after = len(result)\n",
    "print(len_before - len_after)"
   ]
  },
  {
   "cell_type": "code",
   "execution_count": 161,
   "metadata": {},
   "outputs": [
    {
     "data": {
      "text/plain": [
       "(71638, 5)"
      ]
     },
     "execution_count": 161,
     "metadata": {},
     "output_type": "execute_result"
    }
   ],
   "source": [
    "result.shape"
   ]
  },
  {
   "cell_type": "code",
   "execution_count": 162,
   "metadata": {},
   "outputs": [
    {
     "data": {
      "text/html": [
       "<div>\n",
       "<style scoped>\n",
       "    .dataframe tbody tr th:only-of-type {\n",
       "        vertical-align: middle;\n",
       "    }\n",
       "\n",
       "    .dataframe tbody tr th {\n",
       "        vertical-align: top;\n",
       "    }\n",
       "\n",
       "    .dataframe thead th {\n",
       "        text-align: right;\n",
       "    }\n",
       "</style>\n",
       "<table border=\"1\" class=\"dataframe\">\n",
       "  <thead>\n",
       "    <tr style=\"text-align: right;\">\n",
       "      <th></th>\n",
       "      <th>Название</th>\n",
       "      <th>Категория</th>\n",
       "      <th>Бренд</th>\n",
       "      <th>Вес</th>\n",
       "      <th>Продукт</th>\n",
       "    </tr>\n",
       "  </thead>\n",
       "  <tbody>\n",
       "    <tr>\n",
       "      <th>0</th>\n",
       "      <td>le petit marseillais гель-шампунь, апельсиново...</td>\n",
       "      <td>Красота, гигиена, бытовая химия</td>\n",
       "      <td>le petit marseillais</td>\n",
       "      <td>NaN</td>\n",
       "      <td>гель</td>\n",
       "    </tr>\n",
       "    <tr>\n",
       "      <th>4</th>\n",
       "      <td>антиперспирант спрей axe, ледокол, 150 мл</td>\n",
       "      <td>Красота, гигиена, бытовая химия</td>\n",
       "      <td>axe</td>\n",
       "      <td>150</td>\n",
       "      <td>антиперспирант</td>\n",
       "    </tr>\n",
       "    <tr>\n",
       "      <th>5</th>\n",
       "      <td>антиперспирант- спрей dove, нежность лепестков...</td>\n",
       "      <td>Красота, гигиена, бытовая химия</td>\n",
       "      <td>dove</td>\n",
       "      <td>NaN</td>\n",
       "      <td>антиперспирант</td>\n",
       "    </tr>\n",
       "    <tr>\n",
       "      <th>7</th>\n",
       "      <td>бальзам для волос schauma, детоксматча, 200 мл</td>\n",
       "      <td>Красота, гигиена, бытовая химия</td>\n",
       "      <td>schauma</td>\n",
       "      <td>200</td>\n",
       "      <td>бальзам для волос</td>\n",
       "    </tr>\n",
       "    <tr>\n",
       "      <th>8</th>\n",
       "      <td>бальзам-ополаскиватель пантин интенсивное восс...</td>\n",
       "      <td>Красота, гигиена, бытовая химия</td>\n",
       "      <td>pantene</td>\n",
       "      <td>NaN</td>\n",
       "      <td>бальзам</td>\n",
       "    </tr>\n",
       "  </tbody>\n",
       "</table>\n",
       "</div>"
      ],
      "text/plain": [
       "                                            Название  \\\n",
       "0  le petit marseillais гель-шампунь, апельсиново...   \n",
       "4          антиперспирант спрей axe, ледокол, 150 мл   \n",
       "5  антиперспирант- спрей dove, нежность лепестков...   \n",
       "7     бальзам для волос schauma, детоксматча, 200 мл   \n",
       "8  бальзам-ополаскиватель пантин интенсивное восс...   \n",
       "\n",
       "                         Категория                 Бренд  Вес  \\\n",
       "0  Красота, гигиена, бытовая химия  le petit marseillais  NaN   \n",
       "4  Красота, гигиена, бытовая химия                   axe  150   \n",
       "5  Красота, гигиена, бытовая химия                  dove  NaN   \n",
       "7  Красота, гигиена, бытовая химия               schauma  200   \n",
       "8  Красота, гигиена, бытовая химия               pantene  NaN   \n",
       "\n",
       "             Продукт  \n",
       "0               гель  \n",
       "4     антиперспирант  \n",
       "5     антиперспирант  \n",
       "7  бальзам для волос  \n",
       "8            бальзам  "
      ]
     },
     "execution_count": 162,
     "metadata": {},
     "output_type": "execute_result"
    }
   ],
   "source": [
    "result.head()"
   ]
  },
  {
   "cell_type": "code",
   "execution_count": null,
   "metadata": {},
   "outputs": [],
   "source": []
  }
 ],
 "metadata": {
  "kernelspec": {
   "display_name": "Python 3",
   "language": "python",
   "name": "python3"
  },
  "language_info": {
   "codemirror_mode": {
    "name": "ipython",
    "version": 3
   },
   "file_extension": ".py",
   "mimetype": "text/x-python",
   "name": "python",
   "nbconvert_exporter": "python",
   "pygments_lexer": "ipython3",
   "version": "3.6.9"
  }
 },
 "nbformat": 4,
 "nbformat_minor": 4
}
