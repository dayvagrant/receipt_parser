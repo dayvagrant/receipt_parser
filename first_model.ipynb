{
 "cells": [
  {
   "cell_type": "code",
   "execution_count": null,
   "metadata": {},
   "outputs": [],
   "source": [
    "# !python3 -m spacy download xx_ent_wiki_sm"
   ]
  },
  {
   "cell_type": "code",
   "execution_count": 1,
   "metadata": {},
   "outputs": [],
   "source": [
    "import pandas as pd\n",
    "import numpy as np\n",
    "import re"
   ]
  },
  {
   "cell_type": "code",
   "execution_count": 2,
   "metadata": {},
   "outputs": [
    {
     "data": {
      "text/html": [
       "<div>\n",
       "<style scoped>\n",
       "    .dataframe tbody tr th:only-of-type {\n",
       "        vertical-align: middle;\n",
       "    }\n",
       "\n",
       "    .dataframe tbody tr th {\n",
       "        vertical-align: top;\n",
       "    }\n",
       "\n",
       "    .dataframe thead th {\n",
       "        text-align: right;\n",
       "    }\n",
       "</style>\n",
       "<table border=\"1\" class=\"dataframe\">\n",
       "  <thead>\n",
       "    <tr style=\"text-align: right;\">\n",
       "      <th></th>\n",
       "      <th>shop_name</th>\n",
       "      <th>name</th>\n",
       "      <th>quantity</th>\n",
       "      <th>price</th>\n",
       "      <th>sum</th>\n",
       "    </tr>\n",
       "  </thead>\n",
       "  <tbody>\n",
       "    <tr>\n",
       "      <th>62871</th>\n",
       "      <td>ЛЕНТА</td>\n",
       "      <td>Мята свежая вес 1кг</td>\n",
       "      <td>0.214</td>\n",
       "      <td>1999.99</td>\n",
       "      <td>428.00</td>\n",
       "    </tr>\n",
       "    <tr>\n",
       "      <th>73817</th>\n",
       "      <td>О`КЕЙ</td>\n",
       "      <td>Гель чистящий д/ унитаза Bref</td>\n",
       "      <td>1.000</td>\n",
       "      <td>87.99</td>\n",
       "      <td>87.99</td>\n",
       "    </tr>\n",
       "  </tbody>\n",
       "</table>\n",
       "</div>"
      ],
      "text/plain": [
       "      shop_name                           name  quantity    price     sum\n",
       "62871     ЛЕНТА            Мята свежая вес 1кг     0.214  1999.99  428.00\n",
       "73817     О`КЕЙ  Гель чистящий д/ унитаза Bref     1.000    87.99   87.99"
      ]
     },
     "execution_count": 2,
     "metadata": {},
     "output_type": "execute_result"
    }
   ],
   "source": [
    "real = pd.read_excel('data/data.xlsx')\n",
    "# Меняем названия на более приемлемые:\n",
    "\n",
    "target_shops = [\n",
    "    'АО \"ТОРГОВЫЙ ДОМ \"ПЕРЕКРЕСТОК\"', 'ООО \"АГРОТОРГ\"', 'ООО \"ЛЕНТА\"',\n",
    "   'АО \"ДИКСИ ЮГ\"', 'ООО \"АШАН\"', 'АО \"ТАНДЕР\"', 'ООО \"БИЛЛА\"', 'ООО \"О`КЕЙ\"',\n",
    "    'ООО \"АГРОАСПЕКТ\"', 'ООО \"АТАК\"'\n",
    "]\n",
    "\n",
    "shops_rename = {\n",
    "    'АО \"ТОРГОВЫЙ ДОМ \"ПЕРЕКРЕСТОК\"': 'ПЕРЕКРЕСТОК',\n",
    "    'ООО \"АГРОТОРГ\"': 'ПЯТЕРОЧКА',\n",
    "    'ООО \"ЛЕНТА\"': 'ЛЕНТА',\n",
    "    'АО \"ДИКСИ ЮГ\"': 'ДИКСИ',\n",
    "    'ООО \"АШАН\"': 'АШАН',\n",
    "    'АО \"ТАНДЕР\"': 'МАГНИТ',\n",
    "    'ООО \"БИЛЛА\"': 'БИЛЛА',\n",
    "    'ООО \"О`КЕЙ\"': 'О`КЕЙ',\n",
    "    'ООО \"АГРОАСПЕКТ\"': 'ПЯТЕРОЧКА',\n",
    "    'ООО \"АТАК\"': 'АТАК'\n",
    "}\n",
    "\n",
    "real = real[real['shop_name'].isin(target_shops)].copy()\n",
    "real['shop_name'] = real['shop_name'].apply(lambda x: shops_rename[x])\n",
    "real = real.drop_duplicates(subset=['name'])\n",
    "real.sample(2)"
   ]
  },
  {
   "cell_type": "code",
   "execution_count": 3,
   "metadata": {},
   "outputs": [
    {
     "data": {
      "text/html": [
       "<div>\n",
       "<style scoped>\n",
       "    .dataframe tbody tr th:only-of-type {\n",
       "        vertical-align: middle;\n",
       "    }\n",
       "\n",
       "    .dataframe tbody tr th {\n",
       "        vertical-align: top;\n",
       "    }\n",
       "\n",
       "    .dataframe thead th {\n",
       "        text-align: right;\n",
       "    }\n",
       "</style>\n",
       "<table border=\"1\" class=\"dataframe\">\n",
       "  <thead>\n",
       "    <tr style=\"text-align: right;\">\n",
       "      <th></th>\n",
       "      <th>shop_name</th>\n",
       "      <th>name</th>\n",
       "      <th>quantity</th>\n",
       "      <th>price</th>\n",
       "      <th>sum</th>\n",
       "    </tr>\n",
       "  </thead>\n",
       "  <tbody>\n",
       "    <tr>\n",
       "      <th>19</th>\n",
       "      <td>ДИКСИ</td>\n",
       "      <td>МИНТАЙ ФИЛЕ Б/К СВ/МОР П/ПАК 8</td>\n",
       "      <td>1.0</td>\n",
       "      <td>199.90</td>\n",
       "      <td>199.90</td>\n",
       "    </tr>\n",
       "    <tr>\n",
       "      <th>20</th>\n",
       "      <td>ДИКСИ</td>\n",
       "      <td>БЗМЖ МОЛОКО СТРАНА ВАСИЛЬКИ У/</td>\n",
       "      <td>1.0</td>\n",
       "      <td>49.99</td>\n",
       "      <td>49.99</td>\n",
       "    </tr>\n",
       "    <tr>\n",
       "      <th>21</th>\n",
       "      <td>ДИКСИ</td>\n",
       "      <td>СУШКИ ТАРАЛЛИНИ С ЧЕСНОКОМ 180</td>\n",
       "      <td>1.0</td>\n",
       "      <td>29.99</td>\n",
       "      <td>29.99</td>\n",
       "    </tr>\n",
       "    <tr>\n",
       "      <th>22</th>\n",
       "      <td>ДИКСИ</td>\n",
       "      <td>ЯЙЦО КУРИНОЕ СТОЛОВОЕ 1КАТЕГОР</td>\n",
       "      <td>1.0</td>\n",
       "      <td>63.99</td>\n",
       "      <td>63.99</td>\n",
       "    </tr>\n",
       "    <tr>\n",
       "      <th>23</th>\n",
       "      <td>ДИКСИ</td>\n",
       "      <td>ПЕЧЕНЬЕ ЮБИЛЕЙНОЕ ВИТАМИНИЗИРО</td>\n",
       "      <td>2.0</td>\n",
       "      <td>29.99</td>\n",
       "      <td>59.98</td>\n",
       "    </tr>\n",
       "  </tbody>\n",
       "</table>\n",
       "</div>"
      ],
      "text/plain": [
       "   shop_name                            name  quantity   price     sum\n",
       "19     ДИКСИ  МИНТАЙ ФИЛЕ Б/К СВ/МОР П/ПАК 8       1.0  199.90  199.90\n",
       "20     ДИКСИ  БЗМЖ МОЛОКО СТРАНА ВАСИЛЬКИ У/       1.0   49.99   49.99\n",
       "21     ДИКСИ  СУШКИ ТАРАЛЛИНИ С ЧЕСНОКОМ 180       1.0   29.99   29.99\n",
       "22     ДИКСИ  ЯЙЦО КУРИНОЕ СТОЛОВОЕ 1КАТЕГОР       1.0   63.99   63.99\n",
       "23     ДИКСИ  ПЕЧЕНЬЕ ЮБИЛЕЙНОЕ ВИТАМИНИЗИРО       2.0   29.99   59.98"
      ]
     },
     "execution_count": 3,
     "metadata": {},
     "output_type": "execute_result"
    }
   ],
   "source": [
    "real.head()"
   ]
  },
  {
   "cell_type": "code",
   "execution_count": 4,
   "metadata": {},
   "outputs": [],
   "source": [
    "clean = pd.read_csv('clean_data/all_clean.csv')"
   ]
  },
  {
   "cell_type": "code",
   "execution_count": 5,
   "metadata": {},
   "outputs": [],
   "source": [
    "tmp = pd.read_csv('benchmarks/standard.csv')"
   ]
  },
  {
   "cell_type": "code",
   "execution_count": 6,
   "metadata": {},
   "outputs": [],
   "source": [
    "def find_weight_or_volume(name: str)-> str:\n",
    "    \"\"\"Находит вес или объём товара.\"\"\"\n",
    "\n",
    "    pattern1 = r'\\d+((\\.|\\,|x|X|х|Х)?)\\d*([а-я]|[А-Я])*$' # ищет вес в конце\n",
    "    pattern2 = r'\\d+\\w+' #  ищет вес в середине\n",
    "    pattern3 = r'(\\d+ кг)|(\\d+ г)'  # находит `1 кг` или `1 г`\n",
    "    result = re.search(pattern1, name)\n",
    "    if result:\n",
    "        return result.group(0)\n",
    "    result = re.search(pattern2, name)\n",
    "    if result:\n",
    "        return result.group(0)\n",
    "    result = re.search(pattern3, name)\n",
    "    return result.group(0) if result else ''"
   ]
  },
  {
   "cell_type": "code",
   "execution_count": 7,
   "metadata": {},
   "outputs": [],
   "source": [
    "# tmp['Название'].apply(find_weight_or_volume)"
   ]
  },
  {
   "cell_type": "code",
   "execution_count": 8,
   "metadata": {},
   "outputs": [],
   "source": [
    "tmp['Название'] = tmp['Название'].str.lower()"
   ]
  },
  {
   "cell_type": "code",
   "execution_count": 88,
   "metadata": {},
   "outputs": [
    {
     "data": {
      "text/html": [
       "<div>\n",
       "<style scoped>\n",
       "    .dataframe tbody tr th:only-of-type {\n",
       "        vertical-align: middle;\n",
       "    }\n",
       "\n",
       "    .dataframe tbody tr th {\n",
       "        vertical-align: top;\n",
       "    }\n",
       "\n",
       "    .dataframe thead th {\n",
       "        text-align: right;\n",
       "    }\n",
       "</style>\n",
       "<table border=\"1\" class=\"dataframe\">\n",
       "  <thead>\n",
       "    <tr style=\"text-align: right;\">\n",
       "      <th></th>\n",
       "      <th>name</th>\n",
       "      <th>df</th>\n",
       "    </tr>\n",
       "  </thead>\n",
       "  <tbody>\n",
       "    <tr>\n",
       "      <th>19</th>\n",
       "      <td>МИНТАЙ ФИЛЕ Б/К СВ/МОР П/ПАК 8</td>\n",
       "      <td>NaN</td>\n",
       "    </tr>\n",
       "    <tr>\n",
       "      <th>20</th>\n",
       "      <td>БЗМЖ МОЛОКО СТРАНА ВАСИЛЬКИ У/</td>\n",
       "      <td>NaN</td>\n",
       "    </tr>\n",
       "    <tr>\n",
       "      <th>21</th>\n",
       "      <td>СУШКИ ТАРАЛЛИНИ С ЧЕСНОКОМ 180</td>\n",
       "      <td>NaN</td>\n",
       "    </tr>\n",
       "    <tr>\n",
       "      <th>22</th>\n",
       "      <td>ЯЙЦО КУРИНОЕ СТОЛОВОЕ 1КАТЕГОР</td>\n",
       "      <td>NaN</td>\n",
       "    </tr>\n",
       "    <tr>\n",
       "      <th>23</th>\n",
       "      <td>ПЕЧЕНЬЕ ЮБИЛЕЙНОЕ ВИТАМИНИЗИРО</td>\n",
       "      <td>NaN</td>\n",
       "    </tr>\n",
       "    <tr>\n",
       "      <th>...</th>\n",
       "      <td>...</td>\n",
       "      <td>...</td>\n",
       "    </tr>\n",
       "    <tr>\n",
       "      <th>74012</th>\n",
       "      <td>БЗМЖ Сыр Российский 1кг</td>\n",
       "      <td>NaN</td>\n",
       "    </tr>\n",
       "    <tr>\n",
       "      <th>74013</th>\n",
       "      <td>Колбаса вареная Докторская Ста</td>\n",
       "      <td>NaN</td>\n",
       "    </tr>\n",
       "    <tr>\n",
       "      <th>74015</th>\n",
       "      <td>БЗМЖ Сырок Б.Ю. Александров Ка</td>\n",
       "      <td>NaN</td>\n",
       "    </tr>\n",
       "    <tr>\n",
       "      <th>74017</th>\n",
       "      <td>Карбонад Велком к/в в/у 450г</td>\n",
       "      <td>NaN</td>\n",
       "    </tr>\n",
       "    <tr>\n",
       "      <th>74018</th>\n",
       "      <td>БЗМЖ Сыр творожный Hochland сл</td>\n",
       "      <td>NaN</td>\n",
       "    </tr>\n",
       "  </tbody>\n",
       "</table>\n",
       "<p>32091 rows × 2 columns</p>\n",
       "</div>"
      ],
      "text/plain": [
       "                                 name   df\n",
       "19     МИНТАЙ ФИЛЕ Б/К СВ/МОР П/ПАК 8  NaN\n",
       "20     БЗМЖ МОЛОКО СТРАНА ВАСИЛЬКИ У/  NaN\n",
       "21     СУШКИ ТАРАЛЛИНИ С ЧЕСНОКОМ 180  NaN\n",
       "22     ЯЙЦО КУРИНОЕ СТОЛОВОЕ 1КАТЕГОР  NaN\n",
       "23     ПЕЧЕНЬЕ ЮБИЛЕЙНОЕ ВИТАМИНИЗИРО  NaN\n",
       "...                               ...  ...\n",
       "74012         БЗМЖ Сыр Российский 1кг  NaN\n",
       "74013  Колбаса вареная Докторская Ста  NaN\n",
       "74015  БЗМЖ Сырок Б.Ю. Александров Ка  NaN\n",
       "74017    Карбонад Велком к/в в/у 450г  NaN\n",
       "74018  БЗМЖ Сыр творожный Hochland сл  NaN\n",
       "\n",
       "[32091 rows x 2 columns]"
      ]
     },
     "execution_count": 88,
     "metadata": {},
     "output_type": "execute_result"
    }
   ],
   "source": [
    "pd.DataFrame(real['name'], columns=['name', 'df'])"
   ]
  },
  {
   "cell_type": "code",
   "execution_count": null,
   "metadata": {},
   "outputs": [],
   "source": []
  },
  {
   "cell_type": "code",
   "execution_count": 97,
   "metadata": {},
   "outputs": [
    {
     "data": {
      "text/plain": [
       "float"
      ]
     },
     "execution_count": 97,
     "metadata": {},
     "output_type": "execute_result"
    }
   ],
   "source": [
    "type(np.nan)"
   ]
  },
  {
   "cell_type": "code",
   "execution_count": 100,
   "metadata": {},
   "outputs": [
    {
     "data": {
      "text/plain": [
       "True"
      ]
     },
     "execution_count": 100,
     "metadata": {},
     "output_type": "execute_result"
    }
   ],
   "source": [
    "isinstance(np.nan, float)"
   ]
  },
  {
   "cell_type": "code",
   "execution_count": 122,
   "metadata": {},
   "outputs": [],
   "source": [
    "from dicts import (\n",
    "    PRODUCTS,\n",
    "    BRANDS,\n",
    "    SLASH_BRANDS,\n",
    "    SLASH_PRODUCTS,\n",
    "    BRANDS_WITH_NUMBERS\n",
    ")\n",
    "from typing import Optional\n",
    "\n",
    "\n",
    "class NormalizeNames:\n",
    "    def __init__(self, data_to_parse: pd.Series):\n",
    "        columns = ['name', 'name_norm', 'product_norm', 'brand_norm']\n",
    "        self.df = pd.DataFrame(data_to_parse, columns=columns)\n",
    "        \n",
    "        self.blacklist = pd.read_csv('data/blacklist.csv')['name'].values\n",
    "        self.brands = pd.read_csv('clean_data/brands_en.csv')['brand'].values\n",
    "        \n",
    "    @staticmethod\n",
    "    def _remove_numbers(name: str) -> pd.Series:\n",
    "        \"\"\"\n",
    "        Remove all words in product description which contain numbers.\n",
    "\n",
    "        Parameters\n",
    "        ----------\n",
    "        name : str\n",
    "            Product description.\n",
    "\n",
    "        Returns\n",
    "        -------\n",
    "        pd.Series\n",
    "           pd.Series([name, brand])\n",
    "        \"\"\"\n",
    "        \n",
    "        brand = None\n",
    "        # Find brands with numbers:\n",
    "        for key, value in BRANDS_WITH_NUMBERS.items():\n",
    "            if key in name:\n",
    "                brand = value\n",
    "                name = name.replace(key, '')\n",
    "                break\n",
    "\n",
    "        name = ' '.join(re.sub(r'\\w*\\d\\w*', '', word) for word in name.split())\n",
    "        return pd.Series([name, brand])\n",
    "    \n",
    "    @staticmethod\n",
    "    def _remove_slash(name: str, brand: Optional[str]) -> pd.Series:\n",
    "        \"\"\"\n",
    "        Remove all words in product description which contain `/`.\n",
    "\n",
    "        Parameters\n",
    "        ----------\n",
    "        name : str\n",
    "            Product description.\n",
    "        brand : Optional[str]\n",
    "            Product brand.\n",
    "\n",
    "        Returns\n",
    "        -------\n",
    "        pd.Series\n",
    "           pd.Series([name, product, brand])\n",
    "        \"\"\"\n",
    "        \n",
    "        for key, value in SLASH_BRANDS.items():\n",
    "            if key in name:\n",
    "                brand = value\n",
    "                name = name.replace(key, ' ')\n",
    "                break\n",
    "        \n",
    "        product = None\n",
    "        for key, value in SLASH_PRODUCTS.items():\n",
    "            if key in name:\n",
    "                product = value\n",
    "                name = name.replace(key, ' ')\n",
    "                break\n",
    "        name = name.replace('/', ' ')\n",
    "\n",
    "        return pd.Series([name, product, brand])\n",
    "    \n",
    "    @staticmethod\n",
    "    def _remove_punctuation(name: str, product: Optional[str], brand: Optional[str]) -> pd.Series:\n",
    "        \"\"\"\n",
    "        Remove all service characters in product description.\n",
    "\n",
    "        Parameters\n",
    "        ----------\n",
    "        name : str\n",
    "            Product description.\n",
    "        name : str\n",
    "            Product name.\n",
    "        brand : Optional[str]\n",
    "            Product brand.\n",
    "\n",
    "        Returns\n",
    "        -------\n",
    "        pd.Series\n",
    "           pd.Series([name, product, brand])\n",
    "        \"\"\"\n",
    "\n",
    "        # Find abbreviations:\n",
    "        for key, value in BRANDS.items():\n",
    "            if key in name:\n",
    "                brand = value\n",
    "                name = name.replace(key, '')\n",
    "                break\n",
    "        \n",
    "        pattern = r'([.,!?%:№*\\(|\\)])'\n",
    "        name = [re.sub(pattern, ' ', word).strip() for word in name.split()]\n",
    "        name = name.replace('- ')\n",
    "        name = ' '.join(word[:-1] if word.endswith('-') else word for word in tmp) # new pattern -> r'(?<=\\w)-+'\n",
    "        return pd.Series([name, product, brand])\n",
    "    \n",
    "    @staticmethod\n",
    "    def remove_one_and_two_chars(name: str):\n",
    "        whitelist = []\n",
    "        return ' '.join(x.strip() for x in name.split() if len(x) > 2 or x in whitelist)\n",
    "#         return ' '.join(re.sub(r'\\b\\w{,2}\\b', ' ', word).strip() for word in name.split())\n",
    "    \n",
    "    \n",
    "    def find_brands(self, name, product, brand):\n",
    "        for br in self.brands:\n",
    "            if br in name:\n",
    "                brand = br\n",
    "                name = name.replace(br, '')\n",
    "                break\n",
    "    \n",
    "        return pd.Series([name, product, brand])\n",
    "    \n",
    "    def remove_words_in_blacklist(self, name: str):\n",
    "        return ' '.join(word for word in name.split() if word.strip() not in self.blacklist)\n",
    "    \n",
    "    @staticmethod\n",
    "    def replace_with_product_dict(name: str):\n",
    "        return ' '.join(PRODUCTS.get(word.strip(), word) for word in name.split())\n",
    "        \n",
    "    def find_scratch_card(self, name, product, brand):\n",
    "        if 'скретч-карта' in name:\n",
    "            return pd.Series(['', 'скретч-карта', 'перекресток'])\n",
    "        return pd.Series([name, product, brand])\n",
    "    \n",
    "\n",
    "    @staticmethod\n",
    "    def find_and_remove_all_english_words(name, brand):\n",
    "        eng_brands = re.findall(r'\\b([a-z]+)\\b', name)\n",
    "        if eng_brands and not brand:\n",
    "            result = []\n",
    "            for word in eng_brands:\n",
    "                name = name.replace(word, '').replace('  ', ' ').strip()\n",
    "                result.append(word)\n",
    "\n",
    "            brand = ' '.join(result)\n",
    "            if 'epica' in brand:\n",
    "                brand = 'epica'\n",
    "            return pd.Series([name, brand])\n",
    "\n",
    "        # If we have brand, we should delete english words in product name\n",
    "        name = re.sub(r'\\b([a-z]+)\\b', '', name).replace('  ', ' ').strip()\n",
    "        return pd.Series([name, brand])\n",
    "    \n",
    "    def normalize(self):\n",
    "        self.df['name_norm'] = self.df['name'].str.lower()\n",
    "        self.df[['name_norm', 'brand_norm']] = self.df['name_norm'].apply(self._remove_numbers)\n",
    "        self.df[['name_norm', 'product_norm', 'brand_norm']] = self.df.apply(\n",
    "            lambda x: self._remove_slash(\n",
    "                x['name_norm'], x['brand_norm']\n",
    "            ), axis=1\n",
    "        )\n",
    "        self.df[['name_norm', 'product_norm', 'brand_norm']] = self.df.apply(\n",
    "            lambda x: self._remove_punctuation(\n",
    "                x['name_norm'], x['product_norm'], x['brand_norm']\n",
    "            ), axis=1\n",
    "        )\n",
    "#         self.df[['name_norm', 'product_norm', 'brand_norm']] = self.df.apply(\n",
    "#             lambda x: self.find_brands(\n",
    "#                 x['name_norm'], x['product_norm'], x['brand_norm']\n",
    "#             ), axis=1\n",
    "#         )\n",
    "#         self.df['name_norm'] = self.df['name_norm'].apply(self.remove_one_and_two_chars)\n",
    "#         self.df['name_norm'] = self.df['name_norm'].apply(self.remove_words_in_blacklist)\n",
    "#         self.df['name_norm'] = self.df['name_norm'].apply(self.replace_with_product_dict)\n",
    "#         self.df[['name_norm', 'product_norm', 'brand_norm']] = self.df.apply(\n",
    "#             lambda x: self.find_scratch_card(\n",
    "#                 x['name_norm'], x['product_norm'], x['brand_norm']\n",
    "#             ), axis=1\n",
    "#         )\n",
    "#         self.df[['name_norm', 'brand_norm']] = self.df.apply(\n",
    "#             lambda x: self.find_and_remove_all_english_words(x['name_norm'], x['brand_norm']), axis=1\n",
    "#         )\n",
    "        return self.df"
   ]
  },
  {
   "cell_type": "code",
   "execution_count": 123,
   "metadata": {},
   "outputs": [
    {
     "name": "stdout",
     "output_type": "stream",
     "text": [
      "CPU times: user 14.9 s, sys: 156 ms, total: 15.1 s\n",
      "Wall time: 15 s\n"
     ]
    }
   ],
   "source": [
    "%%time\n",
    "n = NormalizeNames(real['name'])\n",
    "tmp = n.normalize()\n",
    "# Wall time: 2min 18s"
   ]
  },
  {
   "cell_type": "code",
   "execution_count": 18,
   "metadata": {},
   "outputs": [],
   "source": [
    "df = pd.concat([real, tmp], axis=1)[['shop_name', 'name', 'name_norm', 'product_norm', 'brand_norm']]"
   ]
  },
  {
   "cell_type": "code",
   "execution_count": 19,
   "metadata": {},
   "outputs": [
    {
     "data": {
      "text/plain": [
       "(11344,)"
      ]
     },
     "execution_count": 19,
     "metadata": {},
     "output_type": "execute_result"
    }
   ],
   "source": [
    "df.brand_norm.dropna().shape # 13020 -> 13719 -> 13726 -> 13778 -> 11344 (без русских брендов)"
   ]
  },
  {
   "cell_type": "code",
   "execution_count": 20,
   "metadata": {},
   "outputs": [
    {
     "data": {
      "text/plain": [
       "(350,)"
      ]
     },
     "execution_count": 20,
     "metadata": {},
     "output_type": "execute_result"
    }
   ],
   "source": [
    "df.product_norm.dropna().shape # 350 -> 350"
   ]
  },
  {
   "cell_type": "code",
   "execution_count": null,
   "metadata": {},
   "outputs": [],
   "source": []
  },
  {
   "cell_type": "code",
   "execution_count": null,
   "metadata": {},
   "outputs": [],
   "source": []
  },
  {
   "cell_type": "code",
   "execution_count": 78,
   "metadata": {},
   "outputs": [],
   "source": [
    "from typing import Optional, NoReturn, List, Union\n",
    "from itertools import combinations\n",
    "from pymystem3 import Mystem\n",
    "\n",
    "\n",
    "class Finder:\n",
    "    \"\"\"\n",
    "    Searche and recognize the name, category and brand of a product\n",
    "    from its description.\n",
    "    Search is carried out in the collected datasets: `brands_ru.csv`,\n",
    "    `products.csv`, `all_clean.csv`.\n",
    "    \n",
    "    Parameters\n",
    "    ----------\n",
    "    data_to_parse: Union[pd.DataFrame, str],\n",
    "        Data in which product information will be recognized.\n",
    "        If data is a pd.DataFrane, it must contain the following columns:\n",
    "        ['name_norm', 'product_norm', 'brand_norm'].\n",
    "        If the data is a string, it should be normalized:\n",
    "        service characters removed, lowercase letters, etc.\n",
    "        \n",
    "    Attributes\n",
    "    ----------\n",
    "    mystem : class\n",
    "        A Python wrapper of the Yandex Mystem 3.1 morphological\n",
    "        analyzer (http://api.yandex.ru/mystem).\n",
    "        See aslo `https://github.com/nlpub/pymystem3`.\n",
    "    rus_brands : np.ndarray\n",
    "        List of Russian brands.\n",
    "    products : pd.DataFrame\n",
    "        DataFrame of product names and categories.\n",
    "    df : pd.DataFrame\n",
    "        The copy of `data_to_parse`.\n",
    "\n",
    "    Examples\n",
    "    --------\n",
    "    >>> product = 'Майонез MR.RICCO Провансаль 67% д/п 400'\n",
    "    >>> finder = Finder(product)\n",
    "    >>> finder.find_all()\n",
    "    \n",
    "    Notes\n",
    "    -----\n",
    "    You may be comfortable with the following resource:\n",
    "    'https://receiptnlp.tinkoff.ru/'.\n",
    "    \"\"\"\n",
    "    \n",
    "    def __init__(self, data_to_parse: Union[pd.DataFrame, str]):\n",
    "        self.mystem = Mystem()\n",
    "        \n",
    "        # DataFrames:\n",
    "        self.rus_brands = pd.read_csv('clean_data/brands_ru.csv')['brand'].values\n",
    "        self.products = pd.read_csv('clean_data/products.csv')\n",
    "        self.product_db = pd.read_csv('clean_data/all_clean.csv')\n",
    "        \n",
    "        columns = ['name_norm', 'product_norm', 'brand_norm']\n",
    "        if isinstance(data_to_parse, pd.DataFrame):\n",
    "            self.data = data_to_parse[columns].copy()\n",
    "        else:\n",
    "            self.data = pd.DataFrame([[data_to_parse, None, None]], columns=columns)\n",
    "        self.data['cat_norm'] = None  # Add new column\n",
    "        \n",
    "    def find_brands(self, name: str, brand: Optional[str] = None) -> pd.Series:\n",
    "        \"\"\"\n",
    "        Find Russian brands using the dataset `rus_brands.csv`.\n",
    "        For more accurate recognition, a combination of words in a\n",
    "        different order is used.\n",
    "\n",
    "        Parameters\n",
    "        ----------\n",
    "        name : str\n",
    "            Product name.\n",
    "        brand : str, optional (default=None)\n",
    "            Product category.\n",
    "\n",
    "        Returns\n",
    "        -------\n",
    "        pd.Series\n",
    "           pd.Series([name, brand])\n",
    "        \"\"\"\n",
    "\n",
    "        if name and not brand:\n",
    "            names = set([f'{comb[0]} {comb[1]}' for comb in combinations(name.split(), 2)] + name.split())\n",
    "            for rus_brand in self.rus_brands:\n",
    "                if rus_brand in names:\n",
    "                    name = name.replace(rus_brand, '').replace('  ', ' ').strip()\n",
    "                    return pd.Series([name, rus_brand])\n",
    "        return pd.Series([name, brand])\n",
    "\n",
    "    @staticmethod\n",
    "    def __remove_duplicate_word(arr: List[str]) -> List[str]:\n",
    "        \"\"\"\n",
    "        Remove duplicates in words when one name is a  continuation\n",
    "        of another: ['вода', 'вода питьевая'] --> ['вода питьевая'].\n",
    "        \n",
    "        Parameters\n",
    "        ----------\n",
    "        arr : List[str]\n",
    "            List description of products in different variants.\n",
    "        \n",
    "        Returns\n",
    "        -------\n",
    "        arr : List[str]\n",
    "            List description of products without duplicates.\n",
    "        \"\"\"\n",
    "\n",
    "        if max([len(x.split()) for x in arr]) > 1:\n",
    "            arr = sorted(arr, key=lambda x: len(x.split()))\n",
    "            one_words = []\n",
    "            for product in arr.copy():\n",
    "                if len(product.split()) == 1:\n",
    "                    one_words.append(product)\n",
    "                else:\n",
    "                    for word in one_words:\n",
    "                        if word in product:\n",
    "                            arr.remove(word)\n",
    "        return arr\n",
    "\n",
    "    def find_product(self, name: str, product: str, category: Optional[str]=None) -> pd.Series:\n",
    "        \"\"\"\n",
    "        Find products name using the dataset `products.csv`.\n",
    "        For more accurate recognition, a combination of words in a\n",
    "        different order is used.\n",
    "\n",
    "        Parameters\n",
    "        ----------\n",
    "        name : str\n",
    "            Product name.\n",
    "        product : str\n",
    "            Product description.\n",
    "        category : str, optional (default=None)\n",
    "            Product category.\n",
    "\n",
    "        Returns\n",
    "        -------\n",
    "        pd.Series\n",
    "           pd.Series([name, product, category]) \n",
    "        \"\"\"\n",
    "\n",
    "        if name and not product:\n",
    "            names = pd.DataFrame(set([f'{comb[0]} {comb[1]}' for comb in combinations(name.split(), 2)] + name.split()), columns=['Продукт'])\n",
    "            merge = self.products.merge(names)\n",
    "            if len(merge):\n",
    "                product = ', '.join(self.__remove_duplicate_word(merge['Продукт'].values))\n",
    "                category = merge['Категория'].value_counts().index[0]\n",
    "        return pd.Series([name, product, category])\n",
    "    \n",
    "    def _use_mystem(self, name: str, product: str) -> str:\n",
    "        \"\"\"\n",
    "        Use Yandex pymystem3 library to lemmatize words in product descriptions.\n",
    "        I tried to use pymorphy, but the recognition quality got worse.\n",
    "\n",
    "        Parameters\n",
    "        ----------\n",
    "        name : str\n",
    "            Product name.\n",
    "        product : str\n",
    "            Product description.\n",
    "\n",
    "        Returns\n",
    "        -------\n",
    "        str\n",
    "            Product description after lemmatization.\n",
    "\n",
    "        Notes\n",
    "        -----\n",
    "        See also `https://github.com/nlpub/pymystem3`.\n",
    "        \"\"\"\n",
    "\n",
    "        if name and not product:\n",
    "            name = ''.join(self.mystem.lemmatize(name)[:-1])\n",
    "        return name\n",
    "    \n",
    "    def find_category(self, product: str, category: str) -> pd.Series:\n",
    "        \"\"\"\n",
    "        Find a product category using the dataset `products.csv`.\n",
    "\n",
    "        Parameters\n",
    "        ----------\n",
    "        product : str\n",
    "            Product description.\n",
    "        category : str\n",
    "            Product category.\n",
    "\n",
    "        Returns\n",
    "        -------\n",
    "        pd.Series\n",
    "           pd.Series([product, category]) \n",
    "        \"\"\"\n",
    "\n",
    "        if product and not category:\n",
    "            tmp = self.products[self.products['Продукт'] == product]\n",
    "            if len(tmp):\n",
    "                category = tmp['Категория'].values[0]\n",
    "\n",
    "        return pd.Series([product, category])\n",
    "\n",
    "\n",
    "    def find_product_by_brand(self, product: str, brand: str, category: str) -> pd.Series:\n",
    "        \"\"\"\n",
    "        If we were able to recognize the product brand,\n",
    "        but could not recongize the product name,\n",
    "        we can assign the most common product name for this brand.\n",
    "\n",
    "        Parameters\n",
    "        ----------\n",
    "        product : str\n",
    "            Product description.\n",
    "        brand : str\n",
    "            Product brand.\n",
    "        category : str\n",
    "            Product category.\n",
    "\n",
    "        Returns\n",
    "        -------\n",
    "        pd.Series\n",
    "           pd.Series([product, brand, category]) \n",
    "        \"\"\"\n",
    "\n",
    "        if brand and not product:\n",
    "            single_brand_goods = self.product_db[self.product_db['Бренд'] == brand]\n",
    "            if len(single_brand_goods):\n",
    "                product = single_brand_goods['Продукт'].value_counts().index[0]\n",
    "                category = single_brand_goods['Категория'].value_counts().index[0]\n",
    "\n",
    "        return pd.Series([product, brand, category])\n",
    "    \n",
    "    \n",
    "    def __print_logs(self, message:str, verbose: bool = False) -> None:\n",
    "        \"\"\"\n",
    "        Print the number of recognized brands,\n",
    "        categories and names of goods.\n",
    "        \"\"\"\n",
    "        \n",
    "        if verbose:\n",
    "            _len = len(self.data)\n",
    "            print(message)\n",
    "            print(\n",
    "                \"Recognized brands: \"\n",
    "                f\"{len(self.data['brand_norm'].dropna())}/{_len}, \"\n",
    "                f\"products: {len(self.data['product_norm'].dropna())}/{_len}, \"\n",
    "                f\"categories: {len(self.data['cat_norm'].dropna())}/{_len}\",\n",
    "                '-'*80, sep='\\n', end='\\n\\n'\n",
    "            )\n",
    "    \n",
    "    def find_all(self,* , verbose: int = 0) -> None:\n",
    "        \"\"\"\n",
    "        Start search and recognition in `data_to_parse`.\n",
    "\n",
    "        Parameters\n",
    "        ----------\n",
    "        verbose: int (default=0)\n",
    "            Set verbose to any positive number for verbosity.\n",
    "        \"\"\"\n",
    "\n",
    "        self.__print_logs('Before:', verbose)\n",
    "        \n",
    "        # Find brands:\n",
    "        self.data[['name_norm', 'brand_norm']] = self.data.apply(lambda x: self.find_brands(x['name_norm'], x['brand_norm']), axis=1)\n",
    "        self.__print_logs('Find brands:', verbose)\n",
    "        \n",
    "        # Find product and category:\n",
    "        self.data[['name_norm', 'product_norm', 'cat_norm']] = self.data.apply(lambda x: self.find_product(x['name_norm'], x['product_norm']), axis=1)\n",
    "        self.__print_logs('Find product and category:', verbose)\n",
    "        \n",
    "        # Remove `-`:\n",
    "        self.data['name_norm'] = self.data['name_norm'].str.replace('-', ' ')\n",
    "        self.data[['name_norm', 'product_norm', 'cat_norm']] = self.data.apply(lambda x: self.find_product(x['name_norm'], x['product_norm'], x['cat_norm']), axis=1)\n",
    "        self.__print_logs('Remove `-` and the second attempt to find a product:', verbose)\n",
    "        \n",
    "        # Use Mystem:\n",
    "        self.data['name_norm'] = self.data.apply(lambda x: self._use_mystem(x['name_norm'], x['product_norm']), axis=1)\n",
    "        self.data[['name_norm', 'product_norm', 'cat_norm']] = self.data.apply(lambda x: self.find_product(x['name_norm'], x['product_norm'], x['cat_norm']), axis=1)\n",
    "        self.__print_logs('Use Mystem for lemmatization and the third attempt to find a product:', verbose)\n",
    "        \n",
    "        # Find category:\n",
    "        self.data[['product_norm', 'cat_norm']] = self.data.apply(lambda x: self.find_category(x['product_norm'], x['cat_norm']), axis=1)\n",
    "        self.__print_logs('Find the remaining categories:', verbose)\n",
    "        \n",
    "        # Find product by brand:\n",
    "        self.data[['product_norm', 'brand_norm', 'cat_norm']] = self.data.apply(lambda x: self.find_product_by_brand(x['product_norm'], x['brand_norm'], x['cat_norm']), axis=1)\n",
    "        self.__print_logs('Find product by brand:', verbose)\n",
    "        return self.data"
   ]
  },
  {
   "cell_type": "code",
   "execution_count": 80,
   "metadata": {},
   "outputs": [
    {
     "name": "stdout",
     "output_type": "stream",
     "text": [
      "Before:\n",
      "Recognized brands: 11344/32091, products: 350/32091, categories: 0/32091\n",
      "--------------------------------------------------------------------------------\n",
      "\n"
     ]
    },
    {
     "ename": "KeyboardInterrupt",
     "evalue": "",
     "output_type": "error",
     "traceback": [
      "\u001b[0;31m---------------------------------------------------------------------------\u001b[0m",
      "\u001b[0;31mKeyboardInterrupt\u001b[0m                         Traceback (most recent call last)",
      "\u001b[0;32m<timed exec>\u001b[0m in \u001b[0;36m<module>\u001b[0;34m\u001b[0m\n",
      "\u001b[0;32m<ipython-input-78-296afba6f827>\u001b[0m in \u001b[0;36mfind_all\u001b[0;34m(self, verbose)\u001b[0m\n\u001b[1;32m    256\u001b[0m \u001b[0;34m\u001b[0m\u001b[0m\n\u001b[1;32m    257\u001b[0m         \u001b[0;31m# Find brands:\u001b[0m\u001b[0;34m\u001b[0m\u001b[0;34m\u001b[0m\u001b[0;34m\u001b[0m\u001b[0m\n\u001b[0;32m--> 258\u001b[0;31m         \u001b[0mself\u001b[0m\u001b[0;34m.\u001b[0m\u001b[0mdata\u001b[0m\u001b[0;34m[\u001b[0m\u001b[0;34m[\u001b[0m\u001b[0;34m'name_norm'\u001b[0m\u001b[0;34m,\u001b[0m \u001b[0;34m'brand_norm'\u001b[0m\u001b[0;34m]\u001b[0m\u001b[0;34m]\u001b[0m \u001b[0;34m=\u001b[0m \u001b[0mself\u001b[0m\u001b[0;34m.\u001b[0m\u001b[0mdata\u001b[0m\u001b[0;34m.\u001b[0m\u001b[0mapply\u001b[0m\u001b[0;34m(\u001b[0m\u001b[0;32mlambda\u001b[0m \u001b[0mx\u001b[0m\u001b[0;34m:\u001b[0m \u001b[0mself\u001b[0m\u001b[0;34m.\u001b[0m\u001b[0mfind_brands\u001b[0m\u001b[0;34m(\u001b[0m\u001b[0mx\u001b[0m\u001b[0;34m[\u001b[0m\u001b[0;34m'name_norm'\u001b[0m\u001b[0;34m]\u001b[0m\u001b[0;34m,\u001b[0m \u001b[0mx\u001b[0m\u001b[0;34m[\u001b[0m\u001b[0;34m'brand_norm'\u001b[0m\u001b[0;34m]\u001b[0m\u001b[0;34m)\u001b[0m\u001b[0;34m,\u001b[0m \u001b[0maxis\u001b[0m\u001b[0;34m=\u001b[0m\u001b[0;36m1\u001b[0m\u001b[0;34m)\u001b[0m\u001b[0;34m\u001b[0m\u001b[0;34m\u001b[0m\u001b[0m\n\u001b[0m\u001b[1;32m    259\u001b[0m         \u001b[0mself\u001b[0m\u001b[0;34m.\u001b[0m\u001b[0m__print_logs\u001b[0m\u001b[0;34m(\u001b[0m\u001b[0;34m'Find brands:'\u001b[0m\u001b[0;34m,\u001b[0m \u001b[0mverbose\u001b[0m\u001b[0;34m)\u001b[0m\u001b[0;34m\u001b[0m\u001b[0;34m\u001b[0m\u001b[0m\n\u001b[1;32m    260\u001b[0m \u001b[0;34m\u001b[0m\u001b[0m\n",
      "\u001b[0;32m/usr/local/lib/python3.6/dist-packages/pandas/core/frame.py\u001b[0m in \u001b[0;36mapply\u001b[0;34m(self, func, axis, raw, result_type, args, **kwds)\u001b[0m\n\u001b[1;32m   6876\u001b[0m             \u001b[0mkwds\u001b[0m\u001b[0;34m=\u001b[0m\u001b[0mkwds\u001b[0m\u001b[0;34m,\u001b[0m\u001b[0;34m\u001b[0m\u001b[0;34m\u001b[0m\u001b[0m\n\u001b[1;32m   6877\u001b[0m         )\n\u001b[0;32m-> 6878\u001b[0;31m         \u001b[0;32mreturn\u001b[0m \u001b[0mop\u001b[0m\u001b[0;34m.\u001b[0m\u001b[0mget_result\u001b[0m\u001b[0;34m(\u001b[0m\u001b[0;34m)\u001b[0m\u001b[0;34m\u001b[0m\u001b[0;34m\u001b[0m\u001b[0m\n\u001b[0m\u001b[1;32m   6879\u001b[0m \u001b[0;34m\u001b[0m\u001b[0m\n\u001b[1;32m   6880\u001b[0m     \u001b[0;32mdef\u001b[0m \u001b[0mapplymap\u001b[0m\u001b[0;34m(\u001b[0m\u001b[0mself\u001b[0m\u001b[0;34m,\u001b[0m \u001b[0mfunc\u001b[0m\u001b[0;34m)\u001b[0m \u001b[0;34m->\u001b[0m \u001b[0;34m\"DataFrame\"\u001b[0m\u001b[0;34m:\u001b[0m\u001b[0;34m\u001b[0m\u001b[0;34m\u001b[0m\u001b[0m\n",
      "\u001b[0;32m/usr/local/lib/python3.6/dist-packages/pandas/core/apply.py\u001b[0m in \u001b[0;36mget_result\u001b[0;34m(self)\u001b[0m\n\u001b[1;32m    184\u001b[0m             \u001b[0;32mreturn\u001b[0m \u001b[0mself\u001b[0m\u001b[0;34m.\u001b[0m\u001b[0mapply_raw\u001b[0m\u001b[0;34m(\u001b[0m\u001b[0;34m)\u001b[0m\u001b[0;34m\u001b[0m\u001b[0;34m\u001b[0m\u001b[0m\n\u001b[1;32m    185\u001b[0m \u001b[0;34m\u001b[0m\u001b[0m\n\u001b[0;32m--> 186\u001b[0;31m         \u001b[0;32mreturn\u001b[0m \u001b[0mself\u001b[0m\u001b[0;34m.\u001b[0m\u001b[0mapply_standard\u001b[0m\u001b[0;34m(\u001b[0m\u001b[0;34m)\u001b[0m\u001b[0;34m\u001b[0m\u001b[0;34m\u001b[0m\u001b[0m\n\u001b[0m\u001b[1;32m    187\u001b[0m \u001b[0;34m\u001b[0m\u001b[0m\n\u001b[1;32m    188\u001b[0m     \u001b[0;32mdef\u001b[0m \u001b[0mapply_empty_result\u001b[0m\u001b[0;34m(\u001b[0m\u001b[0mself\u001b[0m\u001b[0;34m)\u001b[0m\u001b[0;34m:\u001b[0m\u001b[0;34m\u001b[0m\u001b[0;34m\u001b[0m\u001b[0m\n",
      "\u001b[0;32m/usr/local/lib/python3.6/dist-packages/pandas/core/apply.py\u001b[0m in \u001b[0;36mapply_standard\u001b[0;34m(self)\u001b[0m\n\u001b[1;32m    311\u001b[0m \u001b[0;34m\u001b[0m\u001b[0m\n\u001b[1;32m    312\u001b[0m         \u001b[0;31m# compute the result using the series generator\u001b[0m\u001b[0;34m\u001b[0m\u001b[0;34m\u001b[0m\u001b[0;34m\u001b[0m\u001b[0m\n\u001b[0;32m--> 313\u001b[0;31m         \u001b[0mresults\u001b[0m\u001b[0;34m,\u001b[0m \u001b[0mres_index\u001b[0m \u001b[0;34m=\u001b[0m \u001b[0mself\u001b[0m\u001b[0;34m.\u001b[0m\u001b[0mapply_series_generator\u001b[0m\u001b[0;34m(\u001b[0m\u001b[0;34m)\u001b[0m\u001b[0;34m\u001b[0m\u001b[0;34m\u001b[0m\u001b[0m\n\u001b[0m\u001b[1;32m    314\u001b[0m \u001b[0;34m\u001b[0m\u001b[0m\n\u001b[1;32m    315\u001b[0m         \u001b[0;31m# wrap results\u001b[0m\u001b[0;34m\u001b[0m\u001b[0;34m\u001b[0m\u001b[0;34m\u001b[0m\u001b[0m\n",
      "\u001b[0;32m/usr/local/lib/python3.6/dist-packages/pandas/core/apply.py\u001b[0m in \u001b[0;36mapply_series_generator\u001b[0;34m(self)\u001b[0m\n\u001b[1;32m    339\u001b[0m         \u001b[0;32melse\u001b[0m\u001b[0;34m:\u001b[0m\u001b[0;34m\u001b[0m\u001b[0;34m\u001b[0m\u001b[0m\n\u001b[1;32m    340\u001b[0m             \u001b[0;32mfor\u001b[0m \u001b[0mi\u001b[0m\u001b[0;34m,\u001b[0m \u001b[0mv\u001b[0m \u001b[0;32min\u001b[0m \u001b[0menumerate\u001b[0m\u001b[0;34m(\u001b[0m\u001b[0mseries_gen\u001b[0m\u001b[0;34m)\u001b[0m\u001b[0;34m:\u001b[0m\u001b[0;34m\u001b[0m\u001b[0;34m\u001b[0m\u001b[0m\n\u001b[0;32m--> 341\u001b[0;31m                 \u001b[0mresults\u001b[0m\u001b[0;34m[\u001b[0m\u001b[0mi\u001b[0m\u001b[0;34m]\u001b[0m \u001b[0;34m=\u001b[0m \u001b[0mself\u001b[0m\u001b[0;34m.\u001b[0m\u001b[0mf\u001b[0m\u001b[0;34m(\u001b[0m\u001b[0mv\u001b[0m\u001b[0;34m)\u001b[0m\u001b[0;34m\u001b[0m\u001b[0;34m\u001b[0m\u001b[0m\n\u001b[0m\u001b[1;32m    342\u001b[0m                 \u001b[0mkeys\u001b[0m\u001b[0;34m.\u001b[0m\u001b[0mappend\u001b[0m\u001b[0;34m(\u001b[0m\u001b[0mv\u001b[0m\u001b[0;34m.\u001b[0m\u001b[0mname\u001b[0m\u001b[0;34m)\u001b[0m\u001b[0;34m\u001b[0m\u001b[0;34m\u001b[0m\u001b[0m\n\u001b[1;32m    343\u001b[0m \u001b[0;34m\u001b[0m\u001b[0m\n",
      "\u001b[0;32m<ipython-input-78-296afba6f827>\u001b[0m in \u001b[0;36m<lambda>\u001b[0;34m(x)\u001b[0m\n\u001b[1;32m    256\u001b[0m \u001b[0;34m\u001b[0m\u001b[0m\n\u001b[1;32m    257\u001b[0m         \u001b[0;31m# Find brands:\u001b[0m\u001b[0;34m\u001b[0m\u001b[0;34m\u001b[0m\u001b[0;34m\u001b[0m\u001b[0m\n\u001b[0;32m--> 258\u001b[0;31m         \u001b[0mself\u001b[0m\u001b[0;34m.\u001b[0m\u001b[0mdata\u001b[0m\u001b[0;34m[\u001b[0m\u001b[0;34m[\u001b[0m\u001b[0;34m'name_norm'\u001b[0m\u001b[0;34m,\u001b[0m \u001b[0;34m'brand_norm'\u001b[0m\u001b[0;34m]\u001b[0m\u001b[0;34m]\u001b[0m \u001b[0;34m=\u001b[0m \u001b[0mself\u001b[0m\u001b[0;34m.\u001b[0m\u001b[0mdata\u001b[0m\u001b[0;34m.\u001b[0m\u001b[0mapply\u001b[0m\u001b[0;34m(\u001b[0m\u001b[0;32mlambda\u001b[0m \u001b[0mx\u001b[0m\u001b[0;34m:\u001b[0m \u001b[0mself\u001b[0m\u001b[0;34m.\u001b[0m\u001b[0mfind_brands\u001b[0m\u001b[0;34m(\u001b[0m\u001b[0mx\u001b[0m\u001b[0;34m[\u001b[0m\u001b[0;34m'name_norm'\u001b[0m\u001b[0;34m]\u001b[0m\u001b[0;34m,\u001b[0m \u001b[0mx\u001b[0m\u001b[0;34m[\u001b[0m\u001b[0;34m'brand_norm'\u001b[0m\u001b[0;34m]\u001b[0m\u001b[0;34m)\u001b[0m\u001b[0;34m,\u001b[0m \u001b[0maxis\u001b[0m\u001b[0;34m=\u001b[0m\u001b[0;36m1\u001b[0m\u001b[0;34m)\u001b[0m\u001b[0;34m\u001b[0m\u001b[0;34m\u001b[0m\u001b[0m\n\u001b[0m\u001b[1;32m    259\u001b[0m         \u001b[0mself\u001b[0m\u001b[0;34m.\u001b[0m\u001b[0m__print_logs\u001b[0m\u001b[0;34m(\u001b[0m\u001b[0;34m'Find brands:'\u001b[0m\u001b[0;34m,\u001b[0m \u001b[0mverbose\u001b[0m\u001b[0;34m)\u001b[0m\u001b[0;34m\u001b[0m\u001b[0;34m\u001b[0m\u001b[0m\n\u001b[1;32m    260\u001b[0m \u001b[0;34m\u001b[0m\u001b[0m\n",
      "\u001b[0;32m<ipython-input-78-296afba6f827>\u001b[0m in \u001b[0;36mfind_brands\u001b[0;34m(self, name, brand)\u001b[0m\n\u001b[1;32m     84\u001b[0m                 \u001b[0;32mif\u001b[0m \u001b[0mrus_brand\u001b[0m \u001b[0;32min\u001b[0m \u001b[0mnames\u001b[0m\u001b[0;34m:\u001b[0m\u001b[0;34m\u001b[0m\u001b[0;34m\u001b[0m\u001b[0m\n\u001b[1;32m     85\u001b[0m                     \u001b[0mname\u001b[0m \u001b[0;34m=\u001b[0m \u001b[0mname\u001b[0m\u001b[0;34m.\u001b[0m\u001b[0mreplace\u001b[0m\u001b[0;34m(\u001b[0m\u001b[0mrus_brand\u001b[0m\u001b[0;34m,\u001b[0m \u001b[0;34m''\u001b[0m\u001b[0;34m)\u001b[0m\u001b[0;34m.\u001b[0m\u001b[0mreplace\u001b[0m\u001b[0;34m(\u001b[0m\u001b[0;34m'  '\u001b[0m\u001b[0;34m,\u001b[0m \u001b[0;34m' '\u001b[0m\u001b[0;34m)\u001b[0m\u001b[0;34m.\u001b[0m\u001b[0mstrip\u001b[0m\u001b[0;34m(\u001b[0m\u001b[0;34m)\u001b[0m\u001b[0;34m\u001b[0m\u001b[0;34m\u001b[0m\u001b[0m\n\u001b[0;32m---> 86\u001b[0;31m                     \u001b[0;32mreturn\u001b[0m \u001b[0mpd\u001b[0m\u001b[0;34m.\u001b[0m\u001b[0mSeries\u001b[0m\u001b[0;34m(\u001b[0m\u001b[0;34m[\u001b[0m\u001b[0mname\u001b[0m\u001b[0;34m,\u001b[0m \u001b[0mrus_brand\u001b[0m\u001b[0;34m]\u001b[0m\u001b[0;34m)\u001b[0m\u001b[0;34m\u001b[0m\u001b[0;34m\u001b[0m\u001b[0m\n\u001b[0m\u001b[1;32m     87\u001b[0m         \u001b[0;32mreturn\u001b[0m \u001b[0mpd\u001b[0m\u001b[0;34m.\u001b[0m\u001b[0mSeries\u001b[0m\u001b[0;34m(\u001b[0m\u001b[0;34m[\u001b[0m\u001b[0mname\u001b[0m\u001b[0;34m,\u001b[0m \u001b[0mbrand\u001b[0m\u001b[0;34m]\u001b[0m\u001b[0;34m)\u001b[0m\u001b[0;34m\u001b[0m\u001b[0;34m\u001b[0m\u001b[0m\n\u001b[1;32m     88\u001b[0m \u001b[0;34m\u001b[0m\u001b[0m\n",
      "\u001b[0;32m/usr/local/lib/python3.6/dist-packages/pandas/core/series.py\u001b[0m in \u001b[0;36m__init__\u001b[0;34m(self, data, index, dtype, name, copy, fastpath)\u001b[0m\n\u001b[1;32m    305\u001b[0m                 \u001b[0mdata\u001b[0m \u001b[0;34m=\u001b[0m \u001b[0msanitize_array\u001b[0m\u001b[0;34m(\u001b[0m\u001b[0mdata\u001b[0m\u001b[0;34m,\u001b[0m \u001b[0mindex\u001b[0m\u001b[0;34m,\u001b[0m \u001b[0mdtype\u001b[0m\u001b[0;34m,\u001b[0m \u001b[0mcopy\u001b[0m\u001b[0;34m,\u001b[0m \u001b[0mraise_cast_failure\u001b[0m\u001b[0;34m=\u001b[0m\u001b[0;32mTrue\u001b[0m\u001b[0;34m)\u001b[0m\u001b[0;34m\u001b[0m\u001b[0;34m\u001b[0m\u001b[0m\n\u001b[1;32m    306\u001b[0m \u001b[0;34m\u001b[0m\u001b[0m\n\u001b[0;32m--> 307\u001b[0;31m                 \u001b[0mdata\u001b[0m \u001b[0;34m=\u001b[0m \u001b[0mSingleBlockManager\u001b[0m\u001b[0;34m(\u001b[0m\u001b[0mdata\u001b[0m\u001b[0;34m,\u001b[0m \u001b[0mindex\u001b[0m\u001b[0;34m,\u001b[0m \u001b[0mfastpath\u001b[0m\u001b[0;34m=\u001b[0m\u001b[0;32mTrue\u001b[0m\u001b[0;34m)\u001b[0m\u001b[0;34m\u001b[0m\u001b[0;34m\u001b[0m\u001b[0m\n\u001b[0m\u001b[1;32m    308\u001b[0m \u001b[0;34m\u001b[0m\u001b[0m\n\u001b[1;32m    309\u001b[0m         \u001b[0mgeneric\u001b[0m\u001b[0;34m.\u001b[0m\u001b[0mNDFrame\u001b[0m\u001b[0;34m.\u001b[0m\u001b[0m__init__\u001b[0m\u001b[0;34m(\u001b[0m\u001b[0mself\u001b[0m\u001b[0;34m,\u001b[0m \u001b[0mdata\u001b[0m\u001b[0;34m,\u001b[0m \u001b[0mfastpath\u001b[0m\u001b[0;34m=\u001b[0m\u001b[0;32mTrue\u001b[0m\u001b[0;34m)\u001b[0m\u001b[0;34m\u001b[0m\u001b[0;34m\u001b[0m\u001b[0m\n",
      "\u001b[0;32m/usr/local/lib/python3.6/dist-packages/pandas/core/internals/managers.py\u001b[0m in \u001b[0;36m__init__\u001b[0;34m(self, block, axis, do_integrity_check, fastpath)\u001b[0m\n\u001b[1;32m   1511\u001b[0m \u001b[0;34m\u001b[0m\u001b[0m\n\u001b[1;32m   1512\u001b[0m         \u001b[0;32mif\u001b[0m \u001b[0;32mnot\u001b[0m \u001b[0misinstance\u001b[0m\u001b[0;34m(\u001b[0m\u001b[0mblock\u001b[0m\u001b[0;34m,\u001b[0m \u001b[0mBlock\u001b[0m\u001b[0;34m)\u001b[0m\u001b[0;34m:\u001b[0m\u001b[0;34m\u001b[0m\u001b[0;34m\u001b[0m\u001b[0m\n\u001b[0;32m-> 1513\u001b[0;31m             \u001b[0mblock\u001b[0m \u001b[0;34m=\u001b[0m \u001b[0mmake_block\u001b[0m\u001b[0;34m(\u001b[0m\u001b[0mblock\u001b[0m\u001b[0;34m,\u001b[0m \u001b[0mplacement\u001b[0m\u001b[0;34m=\u001b[0m\u001b[0mslice\u001b[0m\u001b[0;34m(\u001b[0m\u001b[0;36m0\u001b[0m\u001b[0;34m,\u001b[0m \u001b[0mlen\u001b[0m\u001b[0;34m(\u001b[0m\u001b[0maxis\u001b[0m\u001b[0;34m)\u001b[0m\u001b[0;34m)\u001b[0m\u001b[0;34m,\u001b[0m \u001b[0mndim\u001b[0m\u001b[0;34m=\u001b[0m\u001b[0;36m1\u001b[0m\u001b[0;34m)\u001b[0m\u001b[0;34m\u001b[0m\u001b[0;34m\u001b[0m\u001b[0m\n\u001b[0m\u001b[1;32m   1514\u001b[0m \u001b[0;34m\u001b[0m\u001b[0m\n\u001b[1;32m   1515\u001b[0m         \u001b[0mself\u001b[0m\u001b[0;34m.\u001b[0m\u001b[0mblocks\u001b[0m \u001b[0;34m=\u001b[0m \u001b[0mtuple\u001b[0m\u001b[0;34m(\u001b[0m\u001b[0;34m[\u001b[0m\u001b[0mblock\u001b[0m\u001b[0;34m]\u001b[0m\u001b[0;34m)\u001b[0m\u001b[0;34m\u001b[0m\u001b[0;34m\u001b[0m\u001b[0m\n",
      "\u001b[0;32m/usr/local/lib/python3.6/dist-packages/pandas/core/internals/blocks.py\u001b[0m in \u001b[0;36mmake_block\u001b[0;34m(values, placement, klass, ndim, dtype)\u001b[0m\n\u001b[1;32m   3044\u001b[0m     \u001b[0;32mif\u001b[0m \u001b[0mklass\u001b[0m \u001b[0;32mis\u001b[0m \u001b[0;32mNone\u001b[0m\u001b[0;34m:\u001b[0m\u001b[0;34m\u001b[0m\u001b[0;34m\u001b[0m\u001b[0m\n\u001b[1;32m   3045\u001b[0m         \u001b[0mdtype\u001b[0m \u001b[0;34m=\u001b[0m \u001b[0mdtype\u001b[0m \u001b[0;32mor\u001b[0m \u001b[0mvalues\u001b[0m\u001b[0;34m.\u001b[0m\u001b[0mdtype\u001b[0m\u001b[0;34m\u001b[0m\u001b[0;34m\u001b[0m\u001b[0m\n\u001b[0;32m-> 3046\u001b[0;31m         \u001b[0mklass\u001b[0m \u001b[0;34m=\u001b[0m \u001b[0mget_block_type\u001b[0m\u001b[0;34m(\u001b[0m\u001b[0mvalues\u001b[0m\u001b[0;34m,\u001b[0m \u001b[0mdtype\u001b[0m\u001b[0;34m)\u001b[0m\u001b[0;34m\u001b[0m\u001b[0;34m\u001b[0m\u001b[0m\n\u001b[0m\u001b[1;32m   3047\u001b[0m \u001b[0;34m\u001b[0m\u001b[0m\n\u001b[1;32m   3048\u001b[0m     \u001b[0;32melif\u001b[0m \u001b[0mklass\u001b[0m \u001b[0;32mis\u001b[0m \u001b[0mDatetimeTZBlock\u001b[0m \u001b[0;32mand\u001b[0m \u001b[0;32mnot\u001b[0m \u001b[0mis_datetime64tz_dtype\u001b[0m\u001b[0;34m(\u001b[0m\u001b[0mvalues\u001b[0m\u001b[0;34m)\u001b[0m\u001b[0;34m:\u001b[0m\u001b[0;34m\u001b[0m\u001b[0;34m\u001b[0m\u001b[0m\n",
      "\u001b[0;32m/usr/local/lib/python3.6/dist-packages/pandas/core/internals/blocks.py\u001b[0m in \u001b[0;36mget_block_type\u001b[0;34m(values, dtype)\u001b[0m\n\u001b[1;32m   3011\u001b[0m     \u001b[0;32melif\u001b[0m \u001b[0mis_datetime64tz_dtype\u001b[0m\u001b[0;34m(\u001b[0m\u001b[0mvalues\u001b[0m\u001b[0;34m)\u001b[0m\u001b[0;34m:\u001b[0m\u001b[0;34m\u001b[0m\u001b[0;34m\u001b[0m\u001b[0m\n\u001b[1;32m   3012\u001b[0m         \u001b[0mcls\u001b[0m \u001b[0;34m=\u001b[0m \u001b[0mDatetimeTZBlock\u001b[0m\u001b[0;34m\u001b[0m\u001b[0;34m\u001b[0m\u001b[0m\n\u001b[0;32m-> 3013\u001b[0;31m     \u001b[0;32melif\u001b[0m \u001b[0mis_interval_dtype\u001b[0m\u001b[0;34m(\u001b[0m\u001b[0mdtype\u001b[0m\u001b[0;34m)\u001b[0m \u001b[0;32mor\u001b[0m \u001b[0mis_period_dtype\u001b[0m\u001b[0;34m(\u001b[0m\u001b[0mdtype\u001b[0m\u001b[0;34m)\u001b[0m\u001b[0;34m:\u001b[0m\u001b[0;34m\u001b[0m\u001b[0;34m\u001b[0m\u001b[0m\n\u001b[0m\u001b[1;32m   3014\u001b[0m         \u001b[0mcls\u001b[0m \u001b[0;34m=\u001b[0m \u001b[0mObjectValuesExtensionBlock\u001b[0m\u001b[0;34m\u001b[0m\u001b[0;34m\u001b[0m\u001b[0m\n\u001b[1;32m   3015\u001b[0m     \u001b[0;32melif\u001b[0m \u001b[0mis_extension_array_dtype\u001b[0m\u001b[0;34m(\u001b[0m\u001b[0mvalues\u001b[0m\u001b[0;34m)\u001b[0m\u001b[0;34m:\u001b[0m\u001b[0;34m\u001b[0m\u001b[0;34m\u001b[0m\u001b[0m\n",
      "\u001b[0;32m/usr/local/lib/python3.6/dist-packages/pandas/core/dtypes/common.py\u001b[0m in \u001b[0;36mis_interval_dtype\u001b[0;34m(arr_or_dtype)\u001b[0m\n\u001b[1;32m    537\u001b[0m     \u001b[0;32mif\u001b[0m \u001b[0marr_or_dtype\u001b[0m \u001b[0;32mis\u001b[0m \u001b[0;32mNone\u001b[0m\u001b[0;34m:\u001b[0m\u001b[0;34m\u001b[0m\u001b[0;34m\u001b[0m\u001b[0m\n\u001b[1;32m    538\u001b[0m         \u001b[0;32mreturn\u001b[0m \u001b[0;32mFalse\u001b[0m\u001b[0;34m\u001b[0m\u001b[0;34m\u001b[0m\u001b[0m\n\u001b[0;32m--> 539\u001b[0;31m     \u001b[0;32mreturn\u001b[0m \u001b[0mIntervalDtype\u001b[0m\u001b[0;34m.\u001b[0m\u001b[0mis_dtype\u001b[0m\u001b[0;34m(\u001b[0m\u001b[0marr_or_dtype\u001b[0m\u001b[0;34m)\u001b[0m\u001b[0;34m\u001b[0m\u001b[0;34m\u001b[0m\u001b[0m\n\u001b[0m\u001b[1;32m    540\u001b[0m \u001b[0;34m\u001b[0m\u001b[0m\n\u001b[1;32m    541\u001b[0m \u001b[0;34m\u001b[0m\u001b[0m\n",
      "\u001b[0;32m/usr/local/lib/python3.6/dist-packages/pandas/core/dtypes/dtypes.py\u001b[0m in \u001b[0;36mis_dtype\u001b[0;34m(cls, dtype)\u001b[0m\n\u001b[1;32m   1140\u001b[0m             \u001b[0;32melse\u001b[0m\u001b[0;34m:\u001b[0m\u001b[0;34m\u001b[0m\u001b[0;34m\u001b[0m\u001b[0m\n\u001b[1;32m   1141\u001b[0m                 \u001b[0;32mreturn\u001b[0m \u001b[0;32mFalse\u001b[0m\u001b[0;34m\u001b[0m\u001b[0;34m\u001b[0m\u001b[0m\n\u001b[0;32m-> 1142\u001b[0;31m         \u001b[0;32mreturn\u001b[0m \u001b[0msuper\u001b[0m\u001b[0;34m(\u001b[0m\u001b[0;34m)\u001b[0m\u001b[0;34m.\u001b[0m\u001b[0mis_dtype\u001b[0m\u001b[0;34m(\u001b[0m\u001b[0mdtype\u001b[0m\u001b[0;34m)\u001b[0m\u001b[0;34m\u001b[0m\u001b[0;34m\u001b[0m\u001b[0m\n\u001b[0m\u001b[1;32m   1143\u001b[0m \u001b[0;34m\u001b[0m\u001b[0m\n\u001b[1;32m   1144\u001b[0m     \u001b[0;32mdef\u001b[0m \u001b[0m__from_arrow__\u001b[0m\u001b[0;34m(\u001b[0m\u001b[0mself\u001b[0m\u001b[0;34m,\u001b[0m \u001b[0marray\u001b[0m\u001b[0;34m)\u001b[0m\u001b[0;34m:\u001b[0m\u001b[0;34m\u001b[0m\u001b[0;34m\u001b[0m\u001b[0m\n",
      "\u001b[0;32m/usr/local/lib/python3.6/dist-packages/pandas/core/dtypes/base.py\u001b[0m in \u001b[0;36mis_dtype\u001b[0;34m(cls, dtype)\u001b[0m\n\u001b[1;32m    271\u001b[0m         \u001b[0mdtype\u001b[0m \u001b[0;34m=\u001b[0m \u001b[0mgetattr\u001b[0m\u001b[0;34m(\u001b[0m\u001b[0mdtype\u001b[0m\u001b[0;34m,\u001b[0m \u001b[0;34m\"dtype\"\u001b[0m\u001b[0;34m,\u001b[0m \u001b[0mdtype\u001b[0m\u001b[0;34m)\u001b[0m\u001b[0;34m\u001b[0m\u001b[0;34m\u001b[0m\u001b[0m\n\u001b[1;32m    272\u001b[0m \u001b[0;34m\u001b[0m\u001b[0m\n\u001b[0;32m--> 273\u001b[0;31m         \u001b[0;32mif\u001b[0m \u001b[0misinstance\u001b[0m\u001b[0;34m(\u001b[0m\u001b[0mdtype\u001b[0m\u001b[0;34m,\u001b[0m \u001b[0;34m(\u001b[0m\u001b[0mABCSeries\u001b[0m\u001b[0;34m,\u001b[0m \u001b[0mABCIndexClass\u001b[0m\u001b[0;34m,\u001b[0m \u001b[0mABCDataFrame\u001b[0m\u001b[0;34m,\u001b[0m \u001b[0mnp\u001b[0m\u001b[0;34m.\u001b[0m\u001b[0mdtype\u001b[0m\u001b[0;34m)\u001b[0m\u001b[0;34m)\u001b[0m\u001b[0;34m:\u001b[0m\u001b[0;34m\u001b[0m\u001b[0;34m\u001b[0m\u001b[0m\n\u001b[0m\u001b[1;32m    274\u001b[0m             \u001b[0;31m# https://github.com/pandas-dev/pandas/issues/22960\u001b[0m\u001b[0;34m\u001b[0m\u001b[0;34m\u001b[0m\u001b[0;34m\u001b[0m\u001b[0m\n\u001b[1;32m    275\u001b[0m             \u001b[0;31m# avoid passing data to `construct_from_string`. This could\u001b[0m\u001b[0;34m\u001b[0m\u001b[0;34m\u001b[0m\u001b[0;34m\u001b[0m\u001b[0m\n",
      "\u001b[0;32m/usr/local/lib/python3.6/dist-packages/pandas/core/dtypes/generic.py\u001b[0m in \u001b[0;36m_check\u001b[0;34m(cls, inst)\u001b[0m\n\u001b[1;32m     10\u001b[0m     \u001b[0;34m@\u001b[0m\u001b[0mclassmethod\u001b[0m  \u001b[0;31m# type: ignore\u001b[0m\u001b[0;34m\u001b[0m\u001b[0;34m\u001b[0m\u001b[0m\n\u001b[1;32m     11\u001b[0m     \u001b[0;32mdef\u001b[0m \u001b[0m_check\u001b[0m\u001b[0;34m(\u001b[0m\u001b[0mcls\u001b[0m\u001b[0;34m,\u001b[0m \u001b[0minst\u001b[0m\u001b[0;34m)\u001b[0m \u001b[0;34m->\u001b[0m \u001b[0mbool\u001b[0m\u001b[0;34m:\u001b[0m\u001b[0;34m\u001b[0m\u001b[0;34m\u001b[0m\u001b[0m\n\u001b[0;32m---> 12\u001b[0;31m         \u001b[0;32mreturn\u001b[0m \u001b[0mgetattr\u001b[0m\u001b[0;34m(\u001b[0m\u001b[0minst\u001b[0m\u001b[0;34m,\u001b[0m \u001b[0mattr\u001b[0m\u001b[0;34m,\u001b[0m \u001b[0;34m\"_typ\"\u001b[0m\u001b[0;34m)\u001b[0m \u001b[0;32min\u001b[0m \u001b[0mcomp\u001b[0m\u001b[0;34m\u001b[0m\u001b[0;34m\u001b[0m\u001b[0m\n\u001b[0m\u001b[1;32m     13\u001b[0m \u001b[0;34m\u001b[0m\u001b[0m\n\u001b[1;32m     14\u001b[0m     \u001b[0mdct\u001b[0m \u001b[0;34m=\u001b[0m \u001b[0mdict\u001b[0m\u001b[0;34m(\u001b[0m\u001b[0m__instancecheck__\u001b[0m\u001b[0;34m=\u001b[0m\u001b[0m_check\u001b[0m\u001b[0;34m,\u001b[0m \u001b[0m__subclasscheck__\u001b[0m\u001b[0;34m=\u001b[0m\u001b[0m_check\u001b[0m\u001b[0;34m)\u001b[0m\u001b[0;34m\u001b[0m\u001b[0;34m\u001b[0m\u001b[0m\n",
      "\u001b[0;31mKeyboardInterrupt\u001b[0m: "
     ]
    }
   ],
   "source": [
    "%%time\n",
    "finder = Finder(df)\n",
    "res = finder.find_all(verbose=1)\n",
    "res = pd.concat([df['name'], res], axis=1)\n",
    "# Before:\n",
    "# Recognized brands: 11344/32091, products: 350/32091, categories: 0/32091\n",
    "# ------------------------------------------------------------\n",
    "\n",
    "# Find brands:\n",
    "# Recognized brands: 17400/32091, products: 350/32091, categories: 0/32091\n",
    "# ------------------------------------------------------------\n",
    "\n",
    "# Find product and category:\n",
    "# Recognized brands: 17400/32091, products: 29457/32091, categories: 29107/32091\n",
    "# ------------------------------------------------------------\n",
    "\n",
    "# Remove `-` and the second attempt to find a product:\n",
    "# Recognized brands: 17400/32091, products: 29555/32091, categories: 29205/32091\n",
    "# ------------------------------------------------------------\n",
    "\n",
    "# Use Mystem for lemmatization and the third attempt to find a product:\n",
    "# Recognized brands: 17400/32091, products: 29909/32091, categories: 29559/32091\n",
    "# ------------------------------------------------------------\n",
    "\n",
    "# Find the remaining categories:\n",
    "# Recognized brands: 17400/32091, products: 29909/32091, categories: 29897/32091\n",
    "# ------------------------------------------------------------\n",
    "\n",
    "# Find product by brand:\n",
    "# Recognized brands: 17400/32091, products: 30493/32091, categories: 30481/32091\n",
    "# ------------------------------------------------------------\n",
    "\n",
    "# Wall time: 3min 19s"
   ]
  },
  {
   "cell_type": "code",
   "execution_count": null,
   "metadata": {},
   "outputs": [],
   "source": []
  },
  {
   "cell_type": "markdown",
   "metadata": {},
   "source": [
    "### TODO:\n",
    "\n",
    "1. Вынести все собранные словари в отдельные классы\n",
    "2. Подумать насчёт того, чтобы совместить мой список со списком брендов\n",
    "3. Переводить всё в .py файлы\n",
    "4. Настроить красивые логи\n",
    "5. Добавить скетч карту в общие данные\n"
   ]
  },
  {
   "cell_type": "code",
   "execution_count": 59,
   "metadata": {},
   "outputs": [
    {
     "data": {
      "text/plain": [
       "'волжское утро'"
      ]
     },
     "execution_count": 59,
     "metadata": {},
     "output_type": "execute_result"
    }
   ],
   "source": [
    "'Волжское утро'.lower()"
   ]
  },
  {
   "cell_type": "code",
   "execution_count": 63,
   "metadata": {},
   "outputs": [
    {
     "data": {
      "text/html": [
       "<div>\n",
       "<style scoped>\n",
       "    .dataframe tbody tr th:only-of-type {\n",
       "        vertical-align: middle;\n",
       "    }\n",
       "\n",
       "    .dataframe tbody tr th {\n",
       "        vertical-align: top;\n",
       "    }\n",
       "\n",
       "    .dataframe thead th {\n",
       "        text-align: right;\n",
       "    }\n",
       "</style>\n",
       "<table border=\"1\" class=\"dataframe\">\n",
       "  <thead>\n",
       "    <tr style=\"text-align: right;\">\n",
       "      <th></th>\n",
       "      <th>name</th>\n",
       "      <th>name_norm</th>\n",
       "      <th>product_norm</th>\n",
       "      <th>brand_norm</th>\n",
       "      <th>cat_norm</th>\n",
       "    </tr>\n",
       "  </thead>\n",
       "  <tbody>\n",
       "    <tr>\n",
       "      <th>61130</th>\n",
       "      <td>Майонез MR.RICCO Провансаль 67% д/п 400</td>\n",
       "      <td>майонез провансаль</td>\n",
       "      <td>майонез</td>\n",
       "      <td>mr. ricco</td>\n",
       "      <td>Соусы, орехи, консервы</td>\n",
       "    </tr>\n",
       "    <tr>\n",
       "      <th>22759</th>\n",
       "      <td>*4007247 Сред.FINISH POWERBALL 100таб</td>\n",
       "      <td>средство</td>\n",
       "      <td>средство</td>\n",
       "      <td>finish powerball</td>\n",
       "      <td>Товары для дома и дачи</td>\n",
       "    </tr>\n",
       "    <tr>\n",
       "      <th>49424</th>\n",
       "      <td>СЫРКИ ТВОРОБУШКИ 21%</td>\n",
       "      <td>сырки</td>\n",
       "      <td>сырки</td>\n",
       "      <td>творобушки</td>\n",
       "      <td>Молоко, сыр, яйца</td>\n",
       "    </tr>\n",
       "    <tr>\n",
       "      <th>14933</th>\n",
       "      <td>17:3634637 БЗМЖ Сливки САРАФАНОВО 200мл</td>\n",
       "      <td>сливки</td>\n",
       "      <td>сливки</td>\n",
       "      <td>сарафаново</td>\n",
       "      <td>Молоко, сыр, яйца</td>\n",
       "    </tr>\n",
       "    <tr>\n",
       "      <th>1007</th>\n",
       "      <td>БЗМЖ МОРОЖЕН.ВОЛОГОДСКИЙ ПЛОМБ</td>\n",
       "      <td>мороженое</td>\n",
       "      <td>мороженое</td>\n",
       "      <td>вологодский пломбир</td>\n",
       "      <td>Молоко, сыр, яйца</td>\n",
       "    </tr>\n",
       "    <tr>\n",
       "      <th>742</th>\n",
       "      <td>ПУАРЕ TWO GEESE/ДВА ГУСЯ ГРУШ.</td>\n",
       "      <td>пуаре два гусь</td>\n",
       "      <td>None</td>\n",
       "      <td>geese</td>\n",
       "      <td>None</td>\n",
       "    </tr>\n",
       "    <tr>\n",
       "      <th>73625</th>\n",
       "      <td>Напиток Coca-Cola без сахара б</td>\n",
       "      <td>напиток без сахара</td>\n",
       "      <td>напиток</td>\n",
       "      <td>coca-cola</td>\n",
       "      <td>Воды, соки, напитки</td>\n",
       "    </tr>\n",
       "    <tr>\n",
       "      <th>43216</th>\n",
       "      <td>ГРИНФИЛД САМ БУКЕТ25</td>\n",
       "      <td>гринфиса</td>\n",
       "      <td>None</td>\n",
       "      <td>LD</td>\n",
       "      <td>None</td>\n",
       "    </tr>\n",
       "    <tr>\n",
       "      <th>20038</th>\n",
       "      <td>27*: 3142744 ПРОСТОКВАШИНО Сметана 15%</td>\n",
       "      <td>ино сметана</td>\n",
       "      <td>сметана</td>\n",
       "      <td>простоквашино</td>\n",
       "      <td>Молоко, сыр, яйца</td>\n",
       "    </tr>\n",
       "    <tr>\n",
       "      <th>29019</th>\n",
       "      <td>*3486073 ЛЮБЯТ.Печ.сдоб.вк.лим/мята250г</td>\n",
       "      <td>лим</td>\n",
       "      <td>печенье</td>\n",
       "      <td>любятово</td>\n",
       "      <td>Хлеб, сладости, снеки</td>\n",
       "    </tr>\n",
       "  </tbody>\n",
       "</table>\n",
       "</div>"
      ],
      "text/plain": [
       "                                          name           name_norm  \\\n",
       "61130  Майонез MR.RICCO Провансаль 67% д/п 400  майонез провансаль   \n",
       "22759    *4007247 Сред.FINISH POWERBALL 100таб            средство   \n",
       "49424                     СЫРКИ ТВОРОБУШКИ 21%               сырки   \n",
       "14933  17:3634637 БЗМЖ Сливки САРАФАНОВО 200мл              сливки   \n",
       "1007            БЗМЖ МОРОЖЕН.ВОЛОГОДСКИЙ ПЛОМБ           мороженое   \n",
       "742             ПУАРЕ TWO GEESE/ДВА ГУСЯ ГРУШ.      пуаре два гусь   \n",
       "73625           Напиток Coca-Cola без сахара б  напиток без сахара   \n",
       "43216                     ГРИНФИЛД САМ БУКЕТ25            гринфиса   \n",
       "20038   27*: 3142744 ПРОСТОКВАШИНО Сметана 15%         ино сметана   \n",
       "29019  *3486073 ЛЮБЯТ.Печ.сдоб.вк.лим/мята250г                 лим   \n",
       "\n",
       "      product_norm           brand_norm                cat_norm  \n",
       "61130      майонез            mr. ricco  Соусы, орехи, консервы  \n",
       "22759     средство     finish powerball  Товары для дома и дачи  \n",
       "49424        сырки           творобушки       Молоко, сыр, яйца  \n",
       "14933       сливки           сарафаново       Молоко, сыр, яйца  \n",
       "1007     мороженое  вологодский пломбир       Молоко, сыр, яйца  \n",
       "742           None                geese                    None  \n",
       "73625      напиток            coca-cola     Воды, соки, напитки  \n",
       "43216         None                   LD                    None  \n",
       "20038      сметана        простоквашино       Молоко, сыр, яйца  \n",
       "29019      печенье             любятово   Хлеб, сладости, снеки  "
      ]
     },
     "execution_count": 63,
     "metadata": {},
     "output_type": "execute_result"
    }
   ],
   "source": [
    "res[res['brand_norm'].apply(lambda x: bool(x))].sample(10)"
   ]
  },
  {
   "cell_type": "code",
   "execution_count": 29,
   "metadata": {},
   "outputs": [
    {
     "data": {
      "text/plain": [
       "array(['Красота, гигиена, бытовая химия', 'Хлеб, сладости, снеки',\n",
       "       'Молоко, сыр, яйца', 'Соусы, орехи, консервы',\n",
       "       'Макароны, крупы, специи', 'Другое', 'Воды, соки, напитки',\n",
       "       'Рыба, икра', 'Чай, кофе, сахар', 'Замороженные продукты',\n",
       "       'Птица, мясо, деликатесы', 'Посуда', 'Овощи, фрукты, ягоды',\n",
       "       'Товары для мам и детей', 'Товары для дома и дачи',\n",
       "       'Подборки и готовые блюда', 'Зоотовары', 'Бытовая техника',\n",
       "       'Алкоголь', 'Дача и гриль'], dtype=object)"
      ]
     },
     "execution_count": 29,
     "metadata": {},
     "output_type": "execute_result"
    }
   ],
   "source": [
    "q['Категория'].unique()"
   ]
  },
  {
   "cell_type": "code",
   "execution_count": 27,
   "metadata": {},
   "outputs": [],
   "source": [
    "q = pd.read_csv('clean_data/products.csv')"
   ]
  },
  {
   "cell_type": "code",
   "execution_count": 70,
   "metadata": {},
   "outputs": [
    {
     "data": {
      "text/plain": [
       "19       МИНТАЙ ФИЛЕ Б/К СВ/МОР П/ПАК 8\n",
       "20       БЗМЖ МОЛОКО СТРАНА ВАСИЛЬКИ У/\n",
       "21       СУШКИ ТАРАЛЛИНИ С ЧЕСНОКОМ 180\n",
       "22       ЯЙЦО КУРИНОЕ СТОЛОВОЕ 1КАТЕГОР\n",
       "23       ПЕЧЕНЬЕ ЮБИЛЕЙНОЕ ВИТАМИНИЗИРО\n",
       "                      ...              \n",
       "74012           БЗМЖ Сыр Российский 1кг\n",
       "74013    Колбаса вареная Докторская Ста\n",
       "74015    БЗМЖ Сырок Б.Ю. Александров Ка\n",
       "74017      Карбонад Велком к/в в/у 450г\n",
       "74018    БЗМЖ Сыр творожный Hochland сл\n",
       "Name: name, Length: 32091, dtype: object"
      ]
     },
     "execution_count": 70,
     "metadata": {},
     "output_type": "execute_result"
    }
   ],
   "source": [
    "res['name'].str.replace('-', '-')"
   ]
  },
  {
   "cell_type": "code",
   "execution_count": null,
   "metadata": {},
   "outputs": [],
   "source": []
  },
  {
   "cell_type": "code",
   "execution_count": null,
   "metadata": {},
   "outputs": [],
   "source": []
  },
  {
   "cell_type": "code",
   "execution_count": 36,
   "metadata": {},
   "outputs": [
    {
     "data": {
      "text/html": [
       "<div>\n",
       "<style scoped>\n",
       "    .dataframe tbody tr th:only-of-type {\n",
       "        vertical-align: middle;\n",
       "    }\n",
       "\n",
       "    .dataframe tbody tr th {\n",
       "        vertical-align: top;\n",
       "    }\n",
       "\n",
       "    .dataframe thead th {\n",
       "        text-align: right;\n",
       "    }\n",
       "</style>\n",
       "<table border=\"1\" class=\"dataframe\">\n",
       "  <thead>\n",
       "    <tr style=\"text-align: right;\">\n",
       "      <th></th>\n",
       "      <th>Продукт</th>\n",
       "      <th>Категория</th>\n",
       "    </tr>\n",
       "  </thead>\n",
       "  <tbody>\n",
       "    <tr>\n",
       "      <th>291</th>\n",
       "      <td>сардельки</td>\n",
       "      <td>Птица, мясо, деликатесы</td>\n",
       "    </tr>\n",
       "  </tbody>\n",
       "</table>\n",
       "</div>"
      ],
      "text/plain": [
       "       Продукт                Категория\n",
       "291  сардельки  Птица, мясо, деликатесы"
      ]
     },
     "execution_count": 36,
     "metadata": {},
     "output_type": "execute_result"
    }
   ],
   "source": [
    "q[q['Продукт'] == 'сардельки']"
   ]
  },
  {
   "cell_type": "code",
   "execution_count": 151,
   "metadata": {},
   "outputs": [],
   "source": [
    "q.drop(index=461).to_csv('clean_data/products.csv', index=False)"
   ]
  },
  {
   "cell_type": "code",
   "execution_count": 30,
   "metadata": {},
   "outputs": [],
   "source": [
    "q.loc[638]['Категория'] = 'Молоко, сыр, яйца'"
   ]
  },
  {
   "cell_type": "code",
   "execution_count": 32,
   "metadata": {},
   "outputs": [
    {
     "data": {
      "text/plain": [
       "Продукт              халат махровый\n",
       "Категория    Товары для дома и дачи\n",
       "Name: 950, dtype: object"
      ]
     },
     "execution_count": 32,
     "metadata": {},
     "output_type": "execute_result"
    }
   ],
   "source": [
    "q.loc[950]"
   ]
  },
  {
   "cell_type": "code",
   "execution_count": 115,
   "metadata": {},
   "outputs": [],
   "source": [
    "q.to_csv('clean_data/products.csv', index=False)"
   ]
  },
  {
   "cell_type": "code",
   "execution_count": 284,
   "metadata": {},
   "outputs": [
    {
     "data": {
      "text/plain": [
       "True"
      ]
     },
     "execution_count": 284,
     "metadata": {},
     "output_type": "execute_result"
    }
   ],
   "source": [
    "'макароны' in q['Продукт'].values"
   ]
  },
  {
   "cell_type": "code",
   "execution_count": 60,
   "metadata": {},
   "outputs": [],
   "source": [
    "l = ['сгущенка', 'открытка', 'поджарка', 'белок', 'плитка', 'окорочка', 'гвоздика', 'горошек', 'редька', 'рассол', 'пасха', 'кислота лимонная']"
   ]
  },
  {
   "cell_type": "code",
   "execution_count": 38,
   "metadata": {},
   "outputs": [
    {
     "data": {
      "text/plain": [
       "array(['Красота, гигиена, бытовая химия', 'Хлеб, сладости, снеки',\n",
       "       'Молоко, сыр, яйца', 'Соусы, орехи, консервы',\n",
       "       'Макароны, крупы, специи', 'Другое', 'Воды, соки, напитки',\n",
       "       'Рыба, икра', 'Чай, кофе, сахар', 'Замороженные продукты',\n",
       "       'Птица, мясо, деликатесы', 'Посуда', 'Овощи, фрукты, ягоды',\n",
       "       'Товары для мам и детей', 'Товары для дома и дачи',\n",
       "       'Подборки и готовые блюда', 'Зоотовары', 'Бытовая техника',\n",
       "       'Алкоголь', 'Дача и гриль'], dtype=object)"
      ]
     },
     "execution_count": 38,
     "metadata": {},
     "output_type": "execute_result"
    }
   ],
   "source": [
    "q['Категория'].unique()"
   ]
  },
  {
   "cell_type": "code",
   "execution_count": 78,
   "metadata": {},
   "outputs": [],
   "source": [
    "tmp = pd.DataFrame.from_dict(white_list, orient='index').reset_index().rename(columns={'index': 'Продукт', 0: 'Категория'})"
   ]
  },
  {
   "cell_type": "code",
   "execution_count": 125,
   "metadata": {},
   "outputs": [],
   "source": [
    "l = ['яблоко', 'долма', 'разрыхлитель', 'бумага', 'кукуруза']"
   ]
  },
  {
   "cell_type": "code",
   "execution_count": 21,
   "metadata": {},
   "outputs": [
    {
     "name": "stdout",
     "output_type": "stream",
     "text": [
      "тулетная бумага\n",
      "шариковая ручка\n",
      "пучок\n"
     ]
    }
   ],
   "source": [
    "for i in df.product_norm.dropna().drop_duplicates().values:\n",
    "    if i not in q['Продукт'].values:\n",
    "        print(i)"
   ]
  },
  {
   "cell_type": "code",
   "execution_count": null,
   "metadata": {},
   "outputs": [],
   "source": []
  },
  {
   "cell_type": "code",
   "execution_count": null,
   "metadata": {},
   "outputs": [],
   "source": []
  },
  {
   "cell_type": "code",
   "execution_count": 22,
   "metadata": {},
   "outputs": [],
   "source": [
    "tmp = pd.DataFrame(\n",
    "    [\n",
    "        ['тулетная бумага', 'Красота, гигиена, бытовая химия'],\n",
    "        ['шариковая ручка', 'Другое'],\n",
    "        ['пучок', 'Овощи, фрукты, ягоды'],\n",
    "    ], columns=['Продукт', 'Категория']\n",
    ")"
   ]
  },
  {
   "cell_type": "code",
   "execution_count": 23,
   "metadata": {},
   "outputs": [],
   "source": [
    "pd.concat([q, tmp]).to_csv('clean_data/products.csv', index=False)"
   ]
  },
  {
   "cell_type": "code",
   "execution_count": 85,
   "metadata": {},
   "outputs": [
    {
     "data": {
      "text/plain": [
       "(1265, 2)"
      ]
     },
     "execution_count": 85,
     "metadata": {},
     "output_type": "execute_result"
    }
   ],
   "source": [
    "q.shape"
   ]
  },
  {
   "cell_type": "code",
   "execution_count": 88,
   "metadata": {},
   "outputs": [],
   "source": [
    "q.drop_duplicates(subset='Продукт').to_csv('clean_data/products.csv', index=False)"
   ]
  },
  {
   "cell_type": "code",
   "execution_count": null,
   "metadata": {},
   "outputs": [],
   "source": []
  },
  {
   "cell_type": "code",
   "execution_count": 279,
   "metadata": {},
   "outputs": [],
   "source": [
    "from collections import Counter\n",
    "\n",
    "C = Counter()\n",
    "def lol(name):\n",
    "    global C\n",
    "    for i in name.split():\n",
    "        C[i]+=1\n",
    "\n"
   ]
  },
  {
   "cell_type": "code",
   "execution_count": 280,
   "metadata": {},
   "outputs": [],
   "source": [
    "res[res['product_norm'].apply(lambda x: not bool(x))]['name_norm'].apply(lol);"
   ]
  },
  {
   "cell_type": "code",
   "execution_count": null,
   "metadata": {},
   "outputs": [],
   "source": []
  }
 ],
 "metadata": {
  "kernelspec": {
   "display_name": "Python 3",
   "language": "python",
   "name": "python3"
  },
  "language_info": {
   "codemirror_mode": {
    "name": "ipython",
    "version": 3
   },
   "file_extension": ".py",
   "mimetype": "text/x-python",
   "name": "python",
   "nbconvert_exporter": "python",
   "pygments_lexer": "ipython3",
   "version": "3.6.9"
  }
 },
 "nbformat": 4,
 "nbformat_minor": 4
}
