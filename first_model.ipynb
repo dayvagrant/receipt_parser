{
 "cells": [
  {
   "cell_type": "code",
   "execution_count": null,
   "metadata": {},
   "outputs": [],
   "source": [
    "# !python3 -m spacy download xx_ent_wiki_sm"
   ]
  },
  {
   "cell_type": "code",
   "execution_count": 1,
   "metadata": {},
   "outputs": [],
   "source": [
    "import pandas as pd\n",
    "import numpy as np\n",
    "import re"
   ]
  },
  {
   "cell_type": "code",
   "execution_count": 2,
   "metadata": {},
   "outputs": [
    {
     "data": {
      "text/html": [
       "<div>\n",
       "<style scoped>\n",
       "    .dataframe tbody tr th:only-of-type {\n",
       "        vertical-align: middle;\n",
       "    }\n",
       "\n",
       "    .dataframe tbody tr th {\n",
       "        vertical-align: top;\n",
       "    }\n",
       "\n",
       "    .dataframe thead th {\n",
       "        text-align: right;\n",
       "    }\n",
       "</style>\n",
       "<table border=\"1\" class=\"dataframe\">\n",
       "  <thead>\n",
       "    <tr style=\"text-align: right;\">\n",
       "      <th></th>\n",
       "      <th>shop_name</th>\n",
       "      <th>name</th>\n",
       "      <th>quantity</th>\n",
       "      <th>price</th>\n",
       "      <th>sum</th>\n",
       "    </tr>\n",
       "  </thead>\n",
       "  <tbody>\n",
       "    <tr>\n",
       "      <th>62871</th>\n",
       "      <td>ЛЕНТА</td>\n",
       "      <td>Мята свежая вес 1кг</td>\n",
       "      <td>0.214</td>\n",
       "      <td>1999.99</td>\n",
       "      <td>428.00</td>\n",
       "    </tr>\n",
       "    <tr>\n",
       "      <th>73817</th>\n",
       "      <td>О`КЕЙ</td>\n",
       "      <td>Гель чистящий д/ унитаза Bref</td>\n",
       "      <td>1.000</td>\n",
       "      <td>87.99</td>\n",
       "      <td>87.99</td>\n",
       "    </tr>\n",
       "  </tbody>\n",
       "</table>\n",
       "</div>"
      ],
      "text/plain": [
       "      shop_name                           name  quantity    price     sum\n",
       "62871     ЛЕНТА            Мята свежая вес 1кг     0.214  1999.99  428.00\n",
       "73817     О`КЕЙ  Гель чистящий д/ унитаза Bref     1.000    87.99   87.99"
      ]
     },
     "execution_count": 2,
     "metadata": {},
     "output_type": "execute_result"
    }
   ],
   "source": [
    "real = pd.read_excel('data/data.xlsx')\n",
    "# Меняем названия на более приемлемые:\n",
    "\n",
    "target_shops = [\n",
    "    'АО \"ТОРГОВЫЙ ДОМ \"ПЕРЕКРЕСТОК\"', 'ООО \"АГРОТОРГ\"', 'ООО \"ЛЕНТА\"',\n",
    "   'АО \"ДИКСИ ЮГ\"', 'ООО \"АШАН\"', 'АО \"ТАНДЕР\"', 'ООО \"БИЛЛА\"', 'ООО \"О`КЕЙ\"',\n",
    "    'ООО \"АГРОАСПЕКТ\"', 'ООО \"АТАК\"'\n",
    "]\n",
    "\n",
    "shops_rename = {\n",
    "    'АО \"ТОРГОВЫЙ ДОМ \"ПЕРЕКРЕСТОК\"': 'ПЕРЕКРЕСТОК',\n",
    "    'ООО \"АГРОТОРГ\"': 'ПЯТЕРОЧКА',\n",
    "    'ООО \"ЛЕНТА\"': 'ЛЕНТА',\n",
    "    'АО \"ДИКСИ ЮГ\"': 'ДИКСИ',\n",
    "    'ООО \"АШАН\"': 'АШАН',\n",
    "    'АО \"ТАНДЕР\"': 'МАГНИТ',\n",
    "    'ООО \"БИЛЛА\"': 'БИЛЛА',\n",
    "    'ООО \"О`КЕЙ\"': 'О`КЕЙ',\n",
    "    'ООО \"АГРОАСПЕКТ\"': 'ПЯТЕРОЧКА',\n",
    "    'ООО \"АТАК\"': 'АТАК'\n",
    "}\n",
    "\n",
    "real = real[real['shop_name'].isin(target_shops)].copy()\n",
    "real['shop_name'] = real['shop_name'].apply(lambda x: shops_rename[x])\n",
    "real = real.drop_duplicates(subset=['name'])\n",
    "real.sample(2)"
   ]
  },
  {
   "cell_type": "code",
   "execution_count": 3,
   "metadata": {},
   "outputs": [
    {
     "data": {
      "text/html": [
       "<div>\n",
       "<style scoped>\n",
       "    .dataframe tbody tr th:only-of-type {\n",
       "        vertical-align: middle;\n",
       "    }\n",
       "\n",
       "    .dataframe tbody tr th {\n",
       "        vertical-align: top;\n",
       "    }\n",
       "\n",
       "    .dataframe thead th {\n",
       "        text-align: right;\n",
       "    }\n",
       "</style>\n",
       "<table border=\"1\" class=\"dataframe\">\n",
       "  <thead>\n",
       "    <tr style=\"text-align: right;\">\n",
       "      <th></th>\n",
       "      <th>shop_name</th>\n",
       "      <th>name</th>\n",
       "      <th>quantity</th>\n",
       "      <th>price</th>\n",
       "      <th>sum</th>\n",
       "    </tr>\n",
       "  </thead>\n",
       "  <tbody>\n",
       "    <tr>\n",
       "      <th>19</th>\n",
       "      <td>ДИКСИ</td>\n",
       "      <td>МИНТАЙ ФИЛЕ Б/К СВ/МОР П/ПАК 8</td>\n",
       "      <td>1.0</td>\n",
       "      <td>199.90</td>\n",
       "      <td>199.90</td>\n",
       "    </tr>\n",
       "    <tr>\n",
       "      <th>20</th>\n",
       "      <td>ДИКСИ</td>\n",
       "      <td>БЗМЖ МОЛОКО СТРАНА ВАСИЛЬКИ У/</td>\n",
       "      <td>1.0</td>\n",
       "      <td>49.99</td>\n",
       "      <td>49.99</td>\n",
       "    </tr>\n",
       "    <tr>\n",
       "      <th>21</th>\n",
       "      <td>ДИКСИ</td>\n",
       "      <td>СУШКИ ТАРАЛЛИНИ С ЧЕСНОКОМ 180</td>\n",
       "      <td>1.0</td>\n",
       "      <td>29.99</td>\n",
       "      <td>29.99</td>\n",
       "    </tr>\n",
       "    <tr>\n",
       "      <th>22</th>\n",
       "      <td>ДИКСИ</td>\n",
       "      <td>ЯЙЦО КУРИНОЕ СТОЛОВОЕ 1КАТЕГОР</td>\n",
       "      <td>1.0</td>\n",
       "      <td>63.99</td>\n",
       "      <td>63.99</td>\n",
       "    </tr>\n",
       "    <tr>\n",
       "      <th>23</th>\n",
       "      <td>ДИКСИ</td>\n",
       "      <td>ПЕЧЕНЬЕ ЮБИЛЕЙНОЕ ВИТАМИНИЗИРО</td>\n",
       "      <td>2.0</td>\n",
       "      <td>29.99</td>\n",
       "      <td>59.98</td>\n",
       "    </tr>\n",
       "  </tbody>\n",
       "</table>\n",
       "</div>"
      ],
      "text/plain": [
       "   shop_name                            name  quantity   price     sum\n",
       "19     ДИКСИ  МИНТАЙ ФИЛЕ Б/К СВ/МОР П/ПАК 8       1.0  199.90  199.90\n",
       "20     ДИКСИ  БЗМЖ МОЛОКО СТРАНА ВАСИЛЬКИ У/       1.0   49.99   49.99\n",
       "21     ДИКСИ  СУШКИ ТАРАЛЛИНИ С ЧЕСНОКОМ 180       1.0   29.99   29.99\n",
       "22     ДИКСИ  ЯЙЦО КУРИНОЕ СТОЛОВОЕ 1КАТЕГОР       1.0   63.99   63.99\n",
       "23     ДИКСИ  ПЕЧЕНЬЕ ЮБИЛЕЙНОЕ ВИТАМИНИЗИРО       2.0   29.99   59.98"
      ]
     },
     "execution_count": 3,
     "metadata": {},
     "output_type": "execute_result"
    }
   ],
   "source": [
    "real.head()"
   ]
  },
  {
   "cell_type": "code",
   "execution_count": 4,
   "metadata": {},
   "outputs": [],
   "source": [
    "clean = pd.read_csv('clean_data/all_clean.csv')"
   ]
  },
  {
   "cell_type": "code",
   "execution_count": 5,
   "metadata": {},
   "outputs": [],
   "source": [
    "tmp = pd.read_csv('benchmarks/standard.csv')"
   ]
  },
  {
   "cell_type": "code",
   "execution_count": 6,
   "metadata": {},
   "outputs": [],
   "source": [
    "def find_weight_or_volume(name: str)-> str:\n",
    "    \"\"\"Находит вес или объём товара.\"\"\"\n",
    "\n",
    "    pattern1 = r'\\d+((\\.|\\,|x|X|х|Х)?)\\d*([а-я]|[А-Я])*$' # ищет вес в конце\n",
    "    pattern2 = r'\\d+\\w+' #  ищет вес в середине\n",
    "    pattern3 = r'(\\d+ кг)|(\\d+ г)'  # находит `1 кг` или `1 г`\n",
    "    result = re.search(pattern1, name)\n",
    "    if result:\n",
    "        return result.group(0)\n",
    "    result = re.search(pattern2, name)\n",
    "    if result:\n",
    "        return result.group(0)\n",
    "    result = re.search(pattern3, name)\n",
    "    return result.group(0) if result else ''"
   ]
  },
  {
   "cell_type": "code",
   "execution_count": 7,
   "metadata": {},
   "outputs": [],
   "source": [
    "# tmp['Название'].apply(find_weight_or_volume)"
   ]
  },
  {
   "cell_type": "code",
   "execution_count": 8,
   "metadata": {},
   "outputs": [],
   "source": [
    "tmp['Название'] = tmp['Название'].str.lower()"
   ]
  },
  {
   "cell_type": "code",
   "execution_count": 41,
   "metadata": {},
   "outputs": [],
   "source": [
    "from dicts import (\n",
    "    PRODUCTS,\n",
    "    BRANDS,\n",
    "    SLASH_BRANDS,\n",
    "    SLASH_PRODUCTS,\n",
    "    BRANDS_WITH_NUMBERS\n",
    ")\n",
    "\n",
    "class NormalizeNames:\n",
    "    def __init__(self, name: pd.Series):\n",
    "        self.df = pd.DataFrame(name.copy()).rename(columns={'name': 'name_norm'})\n",
    "        self.df['product_norm'] = None\n",
    "        self.df['brand_norm'] = None\n",
    "        \n",
    "        self.blacklist = pd.read_csv('data/blacklist.csv')['0'].values\n",
    "        self.brands = pd.read_csv('clean_data/brands_en.csv')['brand'].values\n",
    "        \n",
    "    @staticmethod\n",
    "    def remove_all_words_which_contains_number(name, product, brand):\n",
    "        \n",
    "        # Find brands with numbers:\n",
    "        for key, value in BRANDS_WITH_NUMBERS.items():\n",
    "            if key in name:\n",
    "                brand = value\n",
    "                name = name.replace(key, '')\n",
    "                break\n",
    "\n",
    "        name = ' '.join(re.sub(r'\\w*\\d\\w*', '', word).strip() for word in name.split())\n",
    "        return pd.Series([name, product, brand])\n",
    "    \n",
    "    def remove_all_words_which_contains_slash(self, name, product, brand):\n",
    "        for key, value in SLASH_BRANDS.items():\n",
    "            if key in name:\n",
    "                brand = value\n",
    "                name = name.replace(key, ' ')\n",
    "                break\n",
    "        \n",
    "        for key, value in SLASH_PRODUCTS.items():\n",
    "            if key in name:\n",
    "                product = value\n",
    "                name = name.replace(key, ' ')\n",
    "                break\n",
    "        name = name.replace('/', ' ')\n",
    "#         name = ' '.join(re.sub(r'\\w*/\\w*', ' ', word).strip() for word in name.split())\n",
    "        return pd.Series([name, product, brand])\n",
    "    \n",
    "    def remove_punctuation_symbols(self, name, product, brand):\n",
    "        for key, value in BRANDS.items():\n",
    "            if key in name:\n",
    "                brand = value\n",
    "                name = name.replace(key, '')\n",
    "                break\n",
    "        \n",
    "        tmp = [re.sub(r'([.,!?%:№*\\(|\\)])', ' ', word).strip() for word in name.split()]\n",
    "        name = ' '.join(word[:-1] if word.endswith('-') else word for word in tmp)\n",
    "        return pd.Series([name, product, brand])\n",
    "    \n",
    "    @staticmethod\n",
    "    def remove_one_and_two_chars(name: str):\n",
    "        whitelist = []\n",
    "        return ' '.join(x.strip() for x in name.split() if len(x) > 2 or x in whitelist)\n",
    "#         return ' '.join(re.sub(r'\\b\\w{,2}\\b', ' ', word).strip() for word in name.split())\n",
    "    \n",
    "    \n",
    "    def find_brands(self, name, product, brand):\n",
    "        for br in self.brands:\n",
    "            if br in name:\n",
    "                brand = br\n",
    "                name = name.replace(br, '')\n",
    "                break\n",
    "    \n",
    "        return pd.Series([name, product, brand])\n",
    "    \n",
    "    def remove_words_in_blacklist(self, name: str):\n",
    "        return ' '.join(word for word in name.split() if word.strip() not in self.blacklist)\n",
    "    \n",
    "    @staticmethod\n",
    "    def replace_with_product_dict(name: str):\n",
    "        return ' '.join(PRODUCTS.get(word.strip(), word) for word in name.split())\n",
    "        \n",
    "    def find_scratch_card(self, name, product, brand):\n",
    "        if 'скретч-карта' in name:\n",
    "            return pd.Series(['', 'скретч-карта', 'перекресток'])\n",
    "        return pd.Series([name, product, brand])\n",
    "    \n",
    "\n",
    "    @staticmethod\n",
    "    def find_and_remove_all_english_words(name, brand):\n",
    "        eng_brands = re.findall(r'\\b([a-z]+)\\b', name)\n",
    "        if eng_brands and not brand:\n",
    "            result = []\n",
    "            for word in eng_brands:\n",
    "                name = name.replace(word, '').replace('  ', ' ').strip()\n",
    "                result.append(word)\n",
    "\n",
    "            brand = ' '.join(result)\n",
    "            if 'epica' in brand:\n",
    "                brand = 'epica'\n",
    "            return pd.Series([name, brand])\n",
    "\n",
    "        # If we have brand, we should delete english words in product name\n",
    "        name = re.sub(r'\\b([a-z]+)\\b', '', name).replace('  ', ' ').strip()\n",
    "        return pd.Series([name, brand])\n",
    "    \n",
    "    def normalize(self):\n",
    "        self.df['name_norm'] = self.df['name_norm'].str.lower()\n",
    "        self.df[['name_norm', 'product_norm', 'brand_norm']] = self.df.apply(\n",
    "            lambda x: self.remove_all_words_which_contains_number(\n",
    "                x['name_norm'], x['product_norm'], x['brand_norm']\n",
    "            ), axis=1\n",
    "        )\n",
    "        self.df[['name_norm', 'product_norm', 'brand_norm']] = self.df.apply(\n",
    "            lambda x: self.remove_all_words_which_contains_slash(\n",
    "                x['name_norm'], x['product_norm'], x['brand_norm']\n",
    "            ), axis=1\n",
    "        )\n",
    "        self.df[['name_norm', 'product_norm', 'brand_norm']] = self.df.apply(\n",
    "            lambda x: self.remove_punctuation_symbols(\n",
    "                x['name_norm'], x['product_norm'], x['brand_norm']\n",
    "            ), axis=1\n",
    "        )\n",
    "        self.df[['name_norm', 'product_norm', 'brand_norm']] = self.df.apply(\n",
    "            lambda x: self.find_brands(\n",
    "                x['name_norm'], x['product_norm'], x['brand_norm']\n",
    "            ), axis=1\n",
    "        )\n",
    "        self.df['name_norm'] = self.df['name_norm'].apply(self.remove_one_and_two_chars)\n",
    "        self.df['name_norm'] = self.df['name_norm'].apply(self.remove_words_in_blacklist)\n",
    "        self.df['name_norm'] = self.df['name_norm'].apply(self.replace_with_product_dict)\n",
    "        self.df[['name_norm', 'product_norm', 'brand_norm']] = self.df.apply(\n",
    "            lambda x: self.find_scratch_card(\n",
    "                x['name_norm'], x['product_norm'], x['brand_norm']\n",
    "            ), axis=1\n",
    "        )\n",
    "        self.df[['name_norm', 'brand_norm']] = self.df.apply(\n",
    "            lambda x: self.find_and_remove_all_english_words(x['name_norm'], x['brand_norm']), axis=1\n",
    "        )\n",
    "        return self.df"
   ]
  },
  {
   "cell_type": "code",
   "execution_count": 17,
   "metadata": {},
   "outputs": [
    {
     "name": "stdout",
     "output_type": "stream",
     "text": [
      "CPU times: user 52.8 s, sys: 46.9 ms, total: 52.8 s\n",
      "Wall time: 53.3 s\n"
     ]
    }
   ],
   "source": [
    "%%time\n",
    "n = NormalizeNames(real['name'])\n",
    "tmp = n.normalize()\n",
    "# Wall time: 2min 18s"
   ]
  },
  {
   "cell_type": "code",
   "execution_count": 18,
   "metadata": {},
   "outputs": [],
   "source": [
    "df = pd.concat([real, tmp], axis=1)[['shop_name', 'name', 'name_norm', 'product_norm', 'brand_norm']]"
   ]
  },
  {
   "cell_type": "code",
   "execution_count": 19,
   "metadata": {},
   "outputs": [
    {
     "data": {
      "text/plain": [
       "(11344,)"
      ]
     },
     "execution_count": 19,
     "metadata": {},
     "output_type": "execute_result"
    }
   ],
   "source": [
    "df.brand_norm.dropna().shape # 13020 -> 13719 -> 13726 -> 13778 -> 11344 (без русских брендов)"
   ]
  },
  {
   "cell_type": "code",
   "execution_count": 20,
   "metadata": {},
   "outputs": [
    {
     "data": {
      "text/plain": [
       "(350,)"
      ]
     },
     "execution_count": 20,
     "metadata": {},
     "output_type": "execute_result"
    }
   ],
   "source": [
    "df.product_norm.dropna().shape # 350 -> 350"
   ]
  },
  {
   "cell_type": "code",
   "execution_count": null,
   "metadata": {},
   "outputs": [],
   "source": []
  },
  {
   "cell_type": "code",
   "execution_count": null,
   "metadata": {},
   "outputs": [],
   "source": []
  },
  {
   "cell_type": "code",
   "execution_count": 24,
   "metadata": {},
   "outputs": [],
   "source": [
    "from typing import Optional, NoReturn, List, Union\n",
    "from itertools import combinations\n",
    "from pymystem3 import Mystem\n",
    "\n",
    "\n",
    "class Finder:\n",
    "    \"\"\"\n",
    "    Searche and recognize the name, category and brand of a product\n",
    "    from its description.\n",
    "    Search is carried out in the collected datasets: `rus_brands.csv`,\n",
    "    `products.csv`, `all_clean.csv`.\n",
    "    \n",
    "    Parameters\n",
    "    ----------\n",
    "    data_to_parse: Union[pd.DataFrame, str],\n",
    "        Data in which product information will be recognized.\n",
    "        If data is a pd.DataFrane, it must contain the following columns:\n",
    "        ['name_norm', 'product_norm', 'brand_norm'].\n",
    "        If the data is a string, it should be normalized:\n",
    "        service characters removed, lowercase letters, etc.\n",
    "    path_to_brands : str\n",
    "        Path to the dataset where brand information is collected.\n",
    "    path_to_products : str\n",
    "        Path to the dataset, which collects information about\n",
    "        the product name and their categories.\n",
    "    path_to_product_db : str\n",
    "        The path to the dataset, which collects scrapied\n",
    "        information about products from chain stores.\n",
    "        \n",
    "    Attributes\n",
    "    ----------\n",
    "    mystem : class\n",
    "        A Python wrapper of the Yandex Mystem 3.1 morphological\n",
    "        analyzer (http://api.yandex.ru/mystem).\n",
    "        See aslo `https://github.com/nlpub/pymystem3`.\n",
    "    rus_brands : np.ndarray\n",
    "        List of Russian brands.\n",
    "    products : pd.DataFrame\n",
    "        DataFrame of product names and categories.\n",
    "    df : pd.DataFrame\n",
    "        The copy of `data_to_parse`.\n",
    "\n",
    "    Examples\n",
    "    --------\n",
    "    TODO\n",
    "    \"\"\" # TODO: Add Examples в доку\n",
    "    \n",
    "    def __init__(self, data_to_parse: Union[pd.DataFrame, str], path_to_brands: str = 'clean_data/brands_ru.csv',\n",
    "                 path_to_products: str = 'clean_data/products.csv', path_to_product_db='clean_data/all_clean.csv'):\n",
    "        self.mystem = Mystem()\n",
    "        \n",
    "        # DataFrames:\n",
    "        self.rus_brands = pd.read_csv(path_to_brands)['brand'].values\n",
    "        self.products = pd.read_csv(path_to_products)\n",
    "        self.product_db = pd.read_csv(path_to_product_db)\n",
    "        \n",
    "        columns = ['name_norm', 'product_norm', 'brand_norm']\n",
    "        if isinstance(data_to_parse, pd.DataFrame):\n",
    "            self.data = data_to_parse[columns].copy()\n",
    "        else:\n",
    "            self.data = pd.DataFrame([[data_to_parse, None, None]], columns=columns)\n",
    "        self.data['cat_norm'] = None  # Add new column\n",
    "        \n",
    "    def find_brands(self, name: str, brand: Optional[str] = None) -> pd.Series:\n",
    "        \"\"\"\n",
    "        Find Russian brands using the dataset `rus_brands.csv`.\n",
    "        For more accurate recognition, a combination of words in a\n",
    "        different order is used.\n",
    "\n",
    "        Parameters\n",
    "        ----------\n",
    "        name : str\n",
    "            Product name.\n",
    "        brand : str, optional (default=None)\n",
    "            Product category.\n",
    "\n",
    "        Returns\n",
    "        -------\n",
    "        pd.Series\n",
    "           pd.Series([name, brand])\n",
    "        \"\"\"\n",
    "\n",
    "        if name and not brand:\n",
    "            names = set([f'{comb[0]} {comb[1]}' for comb in combinations(name.split(), 2)] + name.split())\n",
    "            for rus_brand in self.rus_brands:\n",
    "                if rus_brand in names:\n",
    "                    name = name.replace(rus_brand, '').replace('  ', ' ').strip()\n",
    "                    return pd.Series([name, rus_brand])\n",
    "        return pd.Series([name, brand])\n",
    "\n",
    "    @staticmethod\n",
    "    def _remove_duplicate_word(arr: List[str]) -> List[str]:\n",
    "        \"\"\"\n",
    "        Remove duplicates in words when one name is a  continuation\n",
    "        of another: ['вода', 'вода питьевая'] --> ['вода питьевая'].\n",
    "        \n",
    "        Parameters\n",
    "        ----------\n",
    "        arr : List[str]\n",
    "            List description of products in different variants.\n",
    "        \n",
    "        Returns\n",
    "        -------\n",
    "        arr : List[str]\n",
    "            List description of products without duplicates.\n",
    "        \"\"\"\n",
    "\n",
    "        if max([len(x.split()) for x in arr]) > 1:\n",
    "            arr = sorted(arr, key=lambda x: len(x.split()))\n",
    "            one_words = []\n",
    "            for product in arr.copy():\n",
    "                if len(product.split()) == 1:\n",
    "                    one_words.append(product)\n",
    "                else:\n",
    "                    for word in one_words:\n",
    "                        if word in product:\n",
    "                            arr.remove(word)\n",
    "        return arr\n",
    "\n",
    "    def find_product(self, name: str, product: str, category: Optional[str]=None) -> pd.Series:\n",
    "        \"\"\"\n",
    "        Find products name using the dataset `products.csv`.\n",
    "        For more accurate recognition, a combination of words in a\n",
    "        different order is used.\n",
    "\n",
    "        Parameters\n",
    "        ----------\n",
    "        name : str\n",
    "            Product name.\n",
    "        product : str\n",
    "            Product description.\n",
    "        category : str, optional (default=None)\n",
    "            Product category.\n",
    "\n",
    "        Returns\n",
    "        -------\n",
    "        pd.Series\n",
    "           pd.Series([name, product, category]) \n",
    "        \"\"\"\n",
    "\n",
    "        if name and not product:\n",
    "            names = pd.DataFrame(set([f'{comb[0]} {comb[1]}' for comb in combinations(name.split(), 2)] + name.split()), columns=['Продукт'])\n",
    "            merge = self.products.merge(names)\n",
    "            if len(merge):\n",
    "                product = ', '.join(self._remove_duplicate_word(merge['Продукт'].values))\n",
    "                category = merge['Категория'].value_counts().index[0]\n",
    "        return pd.Series([name, product, category])\n",
    "    \n",
    "    @staticmethod\n",
    "    def remove_dash(name: str, product: str) -> str:\n",
    "        \"\"\"\n",
    "        Remove dash from product description.\n",
    "\n",
    "        Parameters\n",
    "        ----------\n",
    "        name : str\n",
    "            Product name.\n",
    "        product : str\n",
    "            Product description.\n",
    "\n",
    "        Returns\n",
    "        -------\n",
    "        str\n",
    "           Product name without dashs.\n",
    "        \"\"\"\n",
    "\n",
    "        if name and not product:\n",
    "            name = name.replace('-', ' ')\n",
    "        return name\n",
    "    \n",
    "    def use_mystem(self, name: str, product: str) -> str:\n",
    "        \"\"\"\n",
    "        Use Yandex pymystem3 library to lemmatize words in product descriptions.\n",
    "        I tried to use pymorphy, but the recognition quality got worse.\n",
    "\n",
    "        Parameters\n",
    "        ----------\n",
    "        name : str\n",
    "            Product name.\n",
    "        product : str\n",
    "            Product description.\n",
    "            \n",
    "        Returns\n",
    "        -------\n",
    "        str\n",
    "            Product description after lemmatization.\n",
    "        \"\"\"\n",
    "\n",
    "        if name and not product:\n",
    "            name = ''.join(self.mystem.lemmatize(name)[:-1])\n",
    "        return name\n",
    "    \n",
    "    def find_category(self, product: str, category: str) -> pd.Series:\n",
    "        \"\"\"\n",
    "        Find a product category using the dataset `products.csv`.\n",
    "\n",
    "        Parameters\n",
    "        ----------\n",
    "        product : str\n",
    "            Product description.\n",
    "        category : str\n",
    "            Product category.\n",
    "\n",
    "        Returns\n",
    "        -------\n",
    "        pd.Series\n",
    "           pd.Series([product, category]) \n",
    "        \"\"\"\n",
    "\n",
    "        if product and not category:\n",
    "            tmp = self.products[self.products['Продукт'] == product]\n",
    "            if len(tmp):\n",
    "                category = tmp['Категория'].values[0]\n",
    "\n",
    "        return pd.Series([product, category])\n",
    "\n",
    "\n",
    "    def find_product_by_brand(self, product: str, brand: str, category: str) -> pd.Series:\n",
    "        \"\"\"\n",
    "        If we were able to recognize the product brand,\n",
    "        but could not recongize the product name,\n",
    "        we can assign the most common product name for this brand.\n",
    "\n",
    "        Parameters\n",
    "        ----------\n",
    "        product : str\n",
    "            Product description.\n",
    "        brand : str\n",
    "            Product brand.\n",
    "        category : str\n",
    "            Product category.\n",
    "\n",
    "        Returns\n",
    "        -------\n",
    "        pd.Series\n",
    "           pd.Series([product, brand, category]) \n",
    "        \"\"\"\n",
    "\n",
    "        if brand and not product:\n",
    "            single_brand_goods = self.product_db[self.product_db['Бренд'] == brand]\n",
    "            if len(single_brand_goods):\n",
    "                product = single_brand_goods['Продукт'].value_counts().index[0]\n",
    "                category = single_brand_goods['Категория'].value_counts().index[0]\n",
    "\n",
    "        return pd.Series([product, brand, category])\n",
    "    \n",
    "    \n",
    "    def print_logs(self) -> None:\n",
    "        \"\"\"\n",
    "        Print the number of recognized brands,\n",
    "        categories and names of goods.\n",
    "        \"\"\"\n",
    "        \n",
    "        _len = len(self.data)\n",
    "        print(\n",
    "            \"Recognized brands: \"\n",
    "            f\"{len(self.data['brand_norm'].dropna())}/{_len}, \"\n",
    "            f\"products: {len(self.data['product_norm'].dropna())}/{_len}, \"\n",
    "            f\"categories: {len(self.data['cat_norm'].dropna())}/{_len}\",\n",
    "            '-'*60, sep='\\n', end='\\n\\n'\n",
    "        )\n",
    "    \n",
    "    def find_all(self):\n",
    "        \n",
    "        print('Before:')\n",
    "        self.print_logs()\n",
    "        \n",
    "        # Find brand:\n",
    "        print('Find brands...')\n",
    "        self.data[['name_norm', 'brand_norm']] = self.data.apply(lambda x: self.find_brands(x['name_norm'], x['brand_norm']), axis=1)\n",
    "        self.print_logs()\n",
    "        \n",
    "        # Find product and category:\n",
    "        print('Find product...')\n",
    "        self.data[['name_norm', 'product_norm', 'cat_norm']] = self.data.apply(lambda x: self.find_product(x['name_norm'], x['product_norm']), axis=1)\n",
    "        self.print_logs()\n",
    "        \n",
    "        # Remove `-` and the second attempt to find a product:\n",
    "        print('Remove `-`...')\n",
    "        self.data['name_norm'] = self.data.apply(lambda x: self.remove_dash(x['name_norm'], x['product_norm']), axis=1)\n",
    "        self.data[['name_norm', 'product_norm', 'cat_norm']] = self.data.apply(lambda x: self.find_product(x['name_norm'], x['product_norm'], x['cat_norm']), axis=1)\n",
    "        self.print_logs()\n",
    "        \n",
    "        # Use Mystem for lemmatization and the third attempt to find a product:\n",
    "        print('Lemmatization...')\n",
    "        self.data['name_norm'] = self.data.apply(lambda x: self.use_mystem(x['name_norm'], x['product_norm']), axis=1)\n",
    "        self.data[['name_norm', 'product_norm', 'cat_norm']] = self.data.apply(lambda x: self.find_product(x['name_norm'], x['product_norm'], x['cat_norm']), axis=1)\n",
    "        self.print_logs()\n",
    "        \n",
    "        # Find category:\n",
    "        print('Find category...')\n",
    "        self.data[['product_norm', 'cat_norm']] = self.data.apply(lambda x: self.find_category(x['product_norm'], x['cat_norm']), axis=1)\n",
    "        self.print_logs()\n",
    "        \n",
    "        # Find product by brand:\n",
    "        print('Find product by brand...')\n",
    "        self.data[['product_norm', 'brand_norm', 'cat_norm']] = self.data.apply(lambda x: self.find_product_by_brand(x['product_norm'], x['brand_norm'], x['cat_norm']), axis=1)\n",
    "        self.print_logs()\n",
    "        return self.data"
   ]
  },
  {
   "cell_type": "code",
   "execution_count": 25,
   "metadata": {},
   "outputs": [
    {
     "name": "stdout",
     "output_type": "stream",
     "text": [
      "Before:\n",
      "Recognized brands: 11344/32091, products: 350/32091, categories: 0/32091\n",
      "------------------------------------------------------------\n",
      "\n",
      "Find brands...\n",
      "Recognized brands: 17390/32091, products: 350/32091, categories: 0/32091\n",
      "------------------------------------------------------------\n",
      "\n",
      "Find product...\n",
      "Recognized brands: 17390/32091, products: 29457/32091, categories: 29107/32091\n",
      "------------------------------------------------------------\n",
      "\n",
      "Remove `-`...\n",
      "Recognized brands: 17390/32091, products: 29555/32091, categories: 29205/32091\n",
      "------------------------------------------------------------\n",
      "\n",
      "Lemmatization...\n",
      "Recognized brands: 17390/32091, products: 29909/32091, categories: 29559/32091\n",
      "------------------------------------------------------------\n",
      "\n",
      "Find category...\n",
      "Recognized brands: 17390/32091, products: 29909/32091, categories: 29897/32091\n",
      "------------------------------------------------------------\n",
      "\n",
      "Find product by brand...\n",
      "Recognized brands: 17390/32091, products: 30493/32091, categories: 30481/32091\n",
      "------------------------------------------------------------\n",
      "\n",
      "CPU times: user 2min 35s, sys: 219 ms, total: 2min 35s\n",
      "Wall time: 2min 37s\n"
     ]
    }
   ],
   "source": [
    "%%time\n",
    "finder = Finder(df)\n",
    "res = finder.find_all()\n",
    "res = pd.concat([df['name'], res], axis=1)\n",
    "# Recognized brands: 13726/32091, products: 350/32091, categories: 0/32091\n",
    "# ------------------------------------------------------------\n",
    "\n",
    "# Find brands...\n",
    "# Recognized brands: 17535/32091, products: 350/32091, categories: 0/32091\n",
    "# ------------------------------------------------------------\n",
    "\n",
    "# Find product...\n",
    "# Recognized brands: 17535/32091, products: 29459/32091, categories: 29109/32091\n",
    "# ------------------------------------------------------------\n",
    "\n",
    "# Remove `-`...\n",
    "# Recognized brands: 17535/32091, products: 29558/32091, categories: 29208/32091\n",
    "# ------------------------------------------------------------\n",
    "\n",
    "# Lemmatization...\n",
    "# Recognized brands: 17535/32091, products: 29924/32091, categories: 29574/32091\n",
    "\n",
    "# Wall time: 3min 19s"
   ]
  },
  {
   "cell_type": "code",
   "execution_count": null,
   "metadata": {},
   "outputs": [],
   "source": []
  },
  {
   "cell_type": "markdown",
   "metadata": {},
   "source": [
    "### TODO:\n",
    "\n",
    "1. Вынести все собранные словари в отдельные классы\n",
    "2. Подумать насчёт того, чтобы совместить мой список со списком брендов\n",
    "3. Переводить всё в .py файлы\n",
    "4. Настроить красивые логи\n",
    "5. Добавить скетч карту в общие данные\n"
   ]
  },
  {
   "cell_type": "code",
   "execution_count": 39,
   "metadata": {},
   "outputs": [
    {
     "data": {
      "text/plain": [
       "'ког.я выр.'"
      ]
     },
     "execution_count": 39,
     "metadata": {},
     "output_type": "execute_result"
    }
   ],
   "source": [
    "'КОГ.Я ВЫР.'.lower()"
   ]
  },
  {
   "cell_type": "code",
   "execution_count": 40,
   "metadata": {},
   "outputs": [
    {
     "data": {
      "text/html": [
       "<div>\n",
       "<style scoped>\n",
       "    .dataframe tbody tr th:only-of-type {\n",
       "        vertical-align: middle;\n",
       "    }\n",
       "\n",
       "    .dataframe tbody tr th {\n",
       "        vertical-align: top;\n",
       "    }\n",
       "\n",
       "    .dataframe thead th {\n",
       "        text-align: right;\n",
       "    }\n",
       "</style>\n",
       "<table border=\"1\" class=\"dataframe\">\n",
       "  <thead>\n",
       "    <tr style=\"text-align: right;\">\n",
       "      <th></th>\n",
       "      <th>name</th>\n",
       "      <th>name_norm</th>\n",
       "      <th>product_norm</th>\n",
       "      <th>brand_norm</th>\n",
       "      <th>cat_norm</th>\n",
       "    </tr>\n",
       "  </thead>\n",
       "  <tbody>\n",
       "    <tr>\n",
       "      <th>33176</th>\n",
       "      <td>3672843 Томаты черри ПРЕМИУМ крас.250г</td>\n",
       "      <td>томаты черри</td>\n",
       "      <td>томаты</td>\n",
       "      <td>None</td>\n",
       "      <td>Овощи, фрукты, ягоды</td>\n",
       "    </tr>\n",
       "    <tr>\n",
       "      <th>1863</th>\n",
       "      <td>ЛАЙМ УПАК.3ШТ</td>\n",
       "      <td>лайм</td>\n",
       "      <td>лайм</td>\n",
       "      <td>None</td>\n",
       "      <td>Овощи, фрукты, ягоды</td>\n",
       "    </tr>\n",
       "    <tr>\n",
       "      <th>37580</th>\n",
       "      <td>3469420 ХЛ.Д.Пряники КЛАССИЧЕСКИЕ 500г</td>\n",
       "      <td>пряники классические</td>\n",
       "      <td>пряники</td>\n",
       "      <td>None</td>\n",
       "      <td>Хлеб, сладости, снеки</td>\n",
       "    </tr>\n",
       "    <tr>\n",
       "      <th>15077</th>\n",
       "      <td>12:3368252 Лук ЯЛТИНСКИЙ 1кг</td>\n",
       "      <td>лук ялтинский</td>\n",
       "      <td>лук</td>\n",
       "      <td>None</td>\n",
       "      <td>Овощи, фрукты, ягоды</td>\n",
       "    </tr>\n",
       "    <tr>\n",
       "      <th>46196</th>\n",
       "      <td>З/П КОМПЛ/ОТБ 100МЛ</td>\n",
       "      <td>компл</td>\n",
       "      <td>зубная паста</td>\n",
       "      <td>None</td>\n",
       "      <td>Красота, гигиена, бытовая химия</td>\n",
       "    </tr>\n",
       "    <tr>\n",
       "      <th>306</th>\n",
       "      <td>ХЛЕБ КЕЛЬН МНОГОЗЕРНОВОЙ 400Г</td>\n",
       "      <td>хлеб кельн многозерновой</td>\n",
       "      <td>хлеб</td>\n",
       "      <td>None</td>\n",
       "      <td>Хлеб, сладости, снеки</td>\n",
       "    </tr>\n",
       "    <tr>\n",
       "      <th>45051</th>\n",
       "      <td>КОФЕ МОЛОТЫЙ 250Г</td>\n",
       "      <td>кофе молотый</td>\n",
       "      <td>кофе молотый</td>\n",
       "      <td>None</td>\n",
       "      <td>Чай, кофе, сахар</td>\n",
       "    </tr>\n",
       "    <tr>\n",
       "      <th>11958</th>\n",
       "      <td>23*4022853 Томаты Черри КОНФЕТТО 250г</td>\n",
       "      <td>томаты черри конфетто</td>\n",
       "      <td>томаты</td>\n",
       "      <td>None</td>\n",
       "      <td>Овощи, фрукты, ягоды</td>\n",
       "    </tr>\n",
       "    <tr>\n",
       "      <th>14379</th>\n",
       "      <td>10:1536 Лимоны 1кг</td>\n",
       "      <td>лимоны</td>\n",
       "      <td>лимоны</td>\n",
       "      <td>None</td>\n",
       "      <td>Овощи, фрукты, ягоды</td>\n",
       "    </tr>\n",
       "    <tr>\n",
       "      <th>11599</th>\n",
       "      <td>37:17662 Чеснок 1шт</td>\n",
       "      <td>чеснок</td>\n",
       "      <td>чеснок</td>\n",
       "      <td>None</td>\n",
       "      <td>Соусы, орехи, консервы</td>\n",
       "    </tr>\n",
       "  </tbody>\n",
       "</table>\n",
       "</div>"
      ],
      "text/plain": [
       "                                         name                 name_norm  \\\n",
       "33176  3672843 Томаты черри ПРЕМИУМ крас.250г              томаты черри   \n",
       "1863                            ЛАЙМ УПАК.3ШТ                      лайм   \n",
       "37580  3469420 ХЛ.Д.Пряники КЛАССИЧЕСКИЕ 500г      пряники классические   \n",
       "15077            12:3368252 Лук ЯЛТИНСКИЙ 1кг             лук ялтинский   \n",
       "46196                     З/П КОМПЛ/ОТБ 100МЛ                     компл   \n",
       "306            ХЛЕБ КЕЛЬН МНОГОЗЕРНОВОЙ 400Г   хлеб кельн многозерновой   \n",
       "45051                       КОФЕ МОЛОТЫЙ 250Г              кофе молотый   \n",
       "11958   23*4022853 Томаты Черри КОНФЕТТО 250г     томаты черри конфетто   \n",
       "14379                      10:1536 Лимоны 1кг                    лимоны   \n",
       "11599                     37:17662 Чеснок 1шт                    чеснок   \n",
       "\n",
       "       product_norm brand_norm                         cat_norm  \n",
       "33176        томаты       None             Овощи, фрукты, ягоды  \n",
       "1863           лайм       None             Овощи, фрукты, ягоды  \n",
       "37580       пряники       None            Хлеб, сладости, снеки  \n",
       "15077           лук       None             Овощи, фрукты, ягоды  \n",
       "46196  зубная паста       None  Красота, гигиена, бытовая химия  \n",
       "306            хлеб       None            Хлеб, сладости, снеки  \n",
       "45051  кофе молотый       None                 Чай, кофе, сахар  \n",
       "11958        томаты       None             Овощи, фрукты, ягоды  \n",
       "14379        лимоны       None             Овощи, фрукты, ягоды  \n",
       "11599        чеснок       None           Соусы, орехи, консервы  "
      ]
     },
     "execution_count": 40,
     "metadata": {},
     "output_type": "execute_result"
    }
   ],
   "source": [
    "res[res['brand_norm'].apply(lambda x: not bool(x))].sample(10)"
   ]
  },
  {
   "cell_type": "code",
   "execution_count": 29,
   "metadata": {},
   "outputs": [
    {
     "data": {
      "text/plain": [
       "array(['Красота, гигиена, бытовая химия', 'Хлеб, сладости, снеки',\n",
       "       'Молоко, сыр, яйца', 'Соусы, орехи, консервы',\n",
       "       'Макароны, крупы, специи', 'Другое', 'Воды, соки, напитки',\n",
       "       'Рыба, икра', 'Чай, кофе, сахар', 'Замороженные продукты',\n",
       "       'Птица, мясо, деликатесы', 'Посуда', 'Овощи, фрукты, ягоды',\n",
       "       'Товары для мам и детей', 'Товары для дома и дачи',\n",
       "       'Подборки и готовые блюда', 'Зоотовары', 'Бытовая техника',\n",
       "       'Алкоголь', 'Дача и гриль'], dtype=object)"
      ]
     },
     "execution_count": 29,
     "metadata": {},
     "output_type": "execute_result"
    }
   ],
   "source": [
    "q['Категория'].unique()"
   ]
  },
  {
   "cell_type": "code",
   "execution_count": 27,
   "metadata": {},
   "outputs": [],
   "source": [
    "q = pd.read_csv('clean_data/products.csv')"
   ]
  },
  {
   "cell_type": "code",
   "execution_count": 36,
   "metadata": {},
   "outputs": [
    {
     "data": {
      "text/html": [
       "<div>\n",
       "<style scoped>\n",
       "    .dataframe tbody tr th:only-of-type {\n",
       "        vertical-align: middle;\n",
       "    }\n",
       "\n",
       "    .dataframe tbody tr th {\n",
       "        vertical-align: top;\n",
       "    }\n",
       "\n",
       "    .dataframe thead th {\n",
       "        text-align: right;\n",
       "    }\n",
       "</style>\n",
       "<table border=\"1\" class=\"dataframe\">\n",
       "  <thead>\n",
       "    <tr style=\"text-align: right;\">\n",
       "      <th></th>\n",
       "      <th>Продукт</th>\n",
       "      <th>Категория</th>\n",
       "    </tr>\n",
       "  </thead>\n",
       "  <tbody>\n",
       "    <tr>\n",
       "      <th>291</th>\n",
       "      <td>сардельки</td>\n",
       "      <td>Птица, мясо, деликатесы</td>\n",
       "    </tr>\n",
       "  </tbody>\n",
       "</table>\n",
       "</div>"
      ],
      "text/plain": [
       "       Продукт                Категория\n",
       "291  сардельки  Птица, мясо, деликатесы"
      ]
     },
     "execution_count": 36,
     "metadata": {},
     "output_type": "execute_result"
    }
   ],
   "source": [
    "q[q['Продукт'] == 'сардельки']"
   ]
  },
  {
   "cell_type": "code",
   "execution_count": 151,
   "metadata": {},
   "outputs": [],
   "source": [
    "q.drop(index=461).to_csv('clean_data/products.csv', index=False)"
   ]
  },
  {
   "cell_type": "code",
   "execution_count": 30,
   "metadata": {},
   "outputs": [],
   "source": [
    "q.loc[638]['Категория'] = 'Молоко, сыр, яйца'"
   ]
  },
  {
   "cell_type": "code",
   "execution_count": 32,
   "metadata": {},
   "outputs": [
    {
     "data": {
      "text/plain": [
       "Продукт              халат махровый\n",
       "Категория    Товары для дома и дачи\n",
       "Name: 950, dtype: object"
      ]
     },
     "execution_count": 32,
     "metadata": {},
     "output_type": "execute_result"
    }
   ],
   "source": [
    "q.loc[950]"
   ]
  },
  {
   "cell_type": "code",
   "execution_count": 115,
   "metadata": {},
   "outputs": [],
   "source": [
    "q.to_csv('clean_data/products.csv', index=False)"
   ]
  },
  {
   "cell_type": "code",
   "execution_count": 284,
   "metadata": {},
   "outputs": [
    {
     "data": {
      "text/plain": [
       "True"
      ]
     },
     "execution_count": 284,
     "metadata": {},
     "output_type": "execute_result"
    }
   ],
   "source": [
    "'макароны' in q['Продукт'].values"
   ]
  },
  {
   "cell_type": "code",
   "execution_count": 60,
   "metadata": {},
   "outputs": [],
   "source": [
    "l = ['сгущенка', 'открытка', 'поджарка', 'белок', 'плитка', 'окорочка', 'гвоздика', 'горошек', 'редька', 'рассол', 'пасха', 'кислота лимонная']"
   ]
  },
  {
   "cell_type": "code",
   "execution_count": 38,
   "metadata": {},
   "outputs": [
    {
     "data": {
      "text/plain": [
       "array(['Красота, гигиена, бытовая химия', 'Хлеб, сладости, снеки',\n",
       "       'Молоко, сыр, яйца', 'Соусы, орехи, консервы',\n",
       "       'Макароны, крупы, специи', 'Другое', 'Воды, соки, напитки',\n",
       "       'Рыба, икра', 'Чай, кофе, сахар', 'Замороженные продукты',\n",
       "       'Птица, мясо, деликатесы', 'Посуда', 'Овощи, фрукты, ягоды',\n",
       "       'Товары для мам и детей', 'Товары для дома и дачи',\n",
       "       'Подборки и готовые блюда', 'Зоотовары', 'Бытовая техника',\n",
       "       'Алкоголь', 'Дача и гриль'], dtype=object)"
      ]
     },
     "execution_count": 38,
     "metadata": {},
     "output_type": "execute_result"
    }
   ],
   "source": [
    "q['Категория'].unique()"
   ]
  },
  {
   "cell_type": "code",
   "execution_count": 78,
   "metadata": {},
   "outputs": [],
   "source": [
    "tmp = pd.DataFrame.from_dict(white_list, orient='index').reset_index().rename(columns={'index': 'Продукт', 0: 'Категория'})"
   ]
  },
  {
   "cell_type": "code",
   "execution_count": 125,
   "metadata": {},
   "outputs": [],
   "source": [
    "l = ['яблоко', 'долма', 'разрыхлитель', 'бумага', 'кукуруза']"
   ]
  },
  {
   "cell_type": "code",
   "execution_count": 21,
   "metadata": {},
   "outputs": [
    {
     "name": "stdout",
     "output_type": "stream",
     "text": [
      "тулетная бумага\n",
      "шариковая ручка\n",
      "пучок\n"
     ]
    }
   ],
   "source": [
    "for i in df.product_norm.dropna().drop_duplicates().values:\n",
    "    if i not in q['Продукт'].values:\n",
    "        print(i)"
   ]
  },
  {
   "cell_type": "code",
   "execution_count": null,
   "metadata": {},
   "outputs": [],
   "source": []
  },
  {
   "cell_type": "code",
   "execution_count": null,
   "metadata": {},
   "outputs": [],
   "source": []
  },
  {
   "cell_type": "code",
   "execution_count": 22,
   "metadata": {},
   "outputs": [],
   "source": [
    "tmp = pd.DataFrame(\n",
    "    [\n",
    "        ['тулетная бумага', 'Красота, гигиена, бытовая химия'],\n",
    "        ['шариковая ручка', 'Другое'],\n",
    "        ['пучок', 'Овощи, фрукты, ягоды'],\n",
    "    ], columns=['Продукт', 'Категория']\n",
    ")"
   ]
  },
  {
   "cell_type": "code",
   "execution_count": 23,
   "metadata": {},
   "outputs": [],
   "source": [
    "pd.concat([q, tmp]).to_csv('clean_data/products.csv', index=False)"
   ]
  },
  {
   "cell_type": "code",
   "execution_count": 85,
   "metadata": {},
   "outputs": [
    {
     "data": {
      "text/plain": [
       "(1265, 2)"
      ]
     },
     "execution_count": 85,
     "metadata": {},
     "output_type": "execute_result"
    }
   ],
   "source": [
    "q.shape"
   ]
  },
  {
   "cell_type": "code",
   "execution_count": 88,
   "metadata": {},
   "outputs": [],
   "source": [
    "q.drop_duplicates(subset='Продукт').to_csv('clean_data/products.csv', index=False)"
   ]
  },
  {
   "cell_type": "code",
   "execution_count": null,
   "metadata": {},
   "outputs": [],
   "source": []
  },
  {
   "cell_type": "code",
   "execution_count": 279,
   "metadata": {},
   "outputs": [],
   "source": [
    "from collections import Counter\n",
    "\n",
    "C = Counter()\n",
    "def lol(name):\n",
    "    global C\n",
    "    for i in name.split():\n",
    "        C[i]+=1\n",
    "\n"
   ]
  },
  {
   "cell_type": "code",
   "execution_count": 280,
   "metadata": {},
   "outputs": [],
   "source": [
    "res[res['product_norm'].apply(lambda x: not bool(x))]['name_norm'].apply(lol);"
   ]
  },
  {
   "cell_type": "code",
   "execution_count": null,
   "metadata": {},
   "outputs": [],
   "source": []
  }
 ],
 "metadata": {
  "kernelspec": {
   "display_name": "Python 3",
   "language": "python",
   "name": "python3"
  },
  "language_info": {
   "codemirror_mode": {
    "name": "ipython",
    "version": 3
   },
   "file_extension": ".py",
   "mimetype": "text/x-python",
   "name": "python",
   "nbconvert_exporter": "python",
   "pygments_lexer": "ipython3",
   "version": "3.6.9"
  }
 },
 "nbformat": 4,
 "nbformat_minor": 4
}
