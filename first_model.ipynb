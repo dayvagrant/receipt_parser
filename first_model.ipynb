{
 "cells": [
  {
   "cell_type": "code",
   "execution_count": null,
   "metadata": {},
   "outputs": [],
   "source": [
    "# !python3 -m spacy download xx_ent_wiki_sm"
   ]
  },
  {
   "cell_type": "code",
   "execution_count": 1,
   "metadata": {},
   "outputs": [],
   "source": [
    "import pandas as pd\n",
    "import numpy as np\n",
    "import re"
   ]
  },
  {
   "cell_type": "code",
   "execution_count": 2,
   "metadata": {},
   "outputs": [
    {
     "data": {
      "text/html": [
       "<div>\n",
       "<style scoped>\n",
       "    .dataframe tbody tr th:only-of-type {\n",
       "        vertical-align: middle;\n",
       "    }\n",
       "\n",
       "    .dataframe tbody tr th {\n",
       "        vertical-align: top;\n",
       "    }\n",
       "\n",
       "    .dataframe thead th {\n",
       "        text-align: right;\n",
       "    }\n",
       "</style>\n",
       "<table border=\"1\" class=\"dataframe\">\n",
       "  <thead>\n",
       "    <tr style=\"text-align: right;\">\n",
       "      <th></th>\n",
       "      <th>shop_name</th>\n",
       "      <th>name</th>\n",
       "      <th>quantity</th>\n",
       "      <th>price</th>\n",
       "      <th>sum</th>\n",
       "    </tr>\n",
       "  </thead>\n",
       "  <tbody>\n",
       "    <tr>\n",
       "      <th>22843</th>\n",
       "      <td>ПЕРЕКРЕСТОК</td>\n",
       "      <td>3277287 DAN.Йог.ДАН.ФАН.хр.шар.6,9%105г</td>\n",
       "      <td>1.0</td>\n",
       "      <td>51.99</td>\n",
       "      <td>51.99</td>\n",
       "    </tr>\n",
       "    <tr>\n",
       "      <th>41416</th>\n",
       "      <td>АТАК</td>\n",
       "      <td>МИНИ-БАГЕТ 120Г</td>\n",
       "      <td>2.0</td>\n",
       "      <td>12.50</td>\n",
       "      <td>25.00</td>\n",
       "    </tr>\n",
       "  </tbody>\n",
       "</table>\n",
       "</div>"
      ],
      "text/plain": [
       "         shop_name                                     name  quantity  price  \\\n",
       "22843  ПЕРЕКРЕСТОК  3277287 DAN.Йог.ДАН.ФАН.хр.шар.6,9%105г       1.0  51.99   \n",
       "41416         АТАК                          МИНИ-БАГЕТ 120Г       2.0  12.50   \n",
       "\n",
       "         sum  \n",
       "22843  51.99  \n",
       "41416  25.00  "
      ]
     },
     "execution_count": 2,
     "metadata": {},
     "output_type": "execute_result"
    }
   ],
   "source": [
    "real = pd.read_excel('data/data.xlsx')\n",
    "# Меняем названия на более приемлемые:\n",
    "\n",
    "target_shops = [\n",
    "    'АО \"ТОРГОВЫЙ ДОМ \"ПЕРЕКРЕСТОК\"', 'ООО \"АГРОТОРГ\"', 'ООО \"ЛЕНТА\"',\n",
    "   'АО \"ДИКСИ ЮГ\"', 'ООО \"АШАН\"', 'АО \"ТАНДЕР\"', 'ООО \"БИЛЛА\"', 'ООО \"О`КЕЙ\"',\n",
    "    'ООО \"АГРОАСПЕКТ\"', 'ООО \"АТАК\"'\n",
    "]\n",
    "\n",
    "shops_rename = {\n",
    "    'АО \"ТОРГОВЫЙ ДОМ \"ПЕРЕКРЕСТОК\"': 'ПЕРЕКРЕСТОК',\n",
    "    'ООО \"АГРОТОРГ\"': 'ПЯТЕРОЧКА',\n",
    "    'ООО \"ЛЕНТА\"': 'ЛЕНТА',\n",
    "    'АО \"ДИКСИ ЮГ\"': 'ДИКСИ',\n",
    "    'ООО \"АШАН\"': 'АШАН',\n",
    "    'АО \"ТАНДЕР\"': 'МАГНИТ',\n",
    "    'ООО \"БИЛЛА\"': 'БИЛЛА',\n",
    "    'ООО \"О`КЕЙ\"': 'О`КЕЙ',\n",
    "    'ООО \"АГРОАСПЕКТ\"': 'ПЯТЕРОЧКА',\n",
    "    'ООО \"АТАК\"': 'АТАК'\n",
    "}\n",
    "\n",
    "real = real[real['shop_name'].isin(target_shops)].copy()\n",
    "real['shop_name'] = real['shop_name'].apply(lambda x: shops_rename[x])\n",
    "real = real.drop_duplicates(subset=['name'])\n",
    "real.sample(2)"
   ]
  },
  {
   "cell_type": "code",
   "execution_count": 3,
   "metadata": {},
   "outputs": [
    {
     "data": {
      "text/html": [
       "<div>\n",
       "<style scoped>\n",
       "    .dataframe tbody tr th:only-of-type {\n",
       "        vertical-align: middle;\n",
       "    }\n",
       "\n",
       "    .dataframe tbody tr th {\n",
       "        vertical-align: top;\n",
       "    }\n",
       "\n",
       "    .dataframe thead th {\n",
       "        text-align: right;\n",
       "    }\n",
       "</style>\n",
       "<table border=\"1\" class=\"dataframe\">\n",
       "  <thead>\n",
       "    <tr style=\"text-align: right;\">\n",
       "      <th></th>\n",
       "      <th>shop_name</th>\n",
       "      <th>name</th>\n",
       "      <th>quantity</th>\n",
       "      <th>price</th>\n",
       "      <th>sum</th>\n",
       "    </tr>\n",
       "  </thead>\n",
       "  <tbody>\n",
       "    <tr>\n",
       "      <th>19</th>\n",
       "      <td>ДИКСИ</td>\n",
       "      <td>МИНТАЙ ФИЛЕ Б/К СВ/МОР П/ПАК 8</td>\n",
       "      <td>1.0</td>\n",
       "      <td>199.90</td>\n",
       "      <td>199.90</td>\n",
       "    </tr>\n",
       "    <tr>\n",
       "      <th>20</th>\n",
       "      <td>ДИКСИ</td>\n",
       "      <td>БЗМЖ МОЛОКО СТРАНА ВАСИЛЬКИ У/</td>\n",
       "      <td>1.0</td>\n",
       "      <td>49.99</td>\n",
       "      <td>49.99</td>\n",
       "    </tr>\n",
       "    <tr>\n",
       "      <th>21</th>\n",
       "      <td>ДИКСИ</td>\n",
       "      <td>СУШКИ ТАРАЛЛИНИ С ЧЕСНОКОМ 180</td>\n",
       "      <td>1.0</td>\n",
       "      <td>29.99</td>\n",
       "      <td>29.99</td>\n",
       "    </tr>\n",
       "    <tr>\n",
       "      <th>22</th>\n",
       "      <td>ДИКСИ</td>\n",
       "      <td>ЯЙЦО КУРИНОЕ СТОЛОВОЕ 1КАТЕГОР</td>\n",
       "      <td>1.0</td>\n",
       "      <td>63.99</td>\n",
       "      <td>63.99</td>\n",
       "    </tr>\n",
       "    <tr>\n",
       "      <th>23</th>\n",
       "      <td>ДИКСИ</td>\n",
       "      <td>ПЕЧЕНЬЕ ЮБИЛЕЙНОЕ ВИТАМИНИЗИРО</td>\n",
       "      <td>2.0</td>\n",
       "      <td>29.99</td>\n",
       "      <td>59.98</td>\n",
       "    </tr>\n",
       "  </tbody>\n",
       "</table>\n",
       "</div>"
      ],
      "text/plain": [
       "   shop_name                            name  quantity   price     sum\n",
       "19     ДИКСИ  МИНТАЙ ФИЛЕ Б/К СВ/МОР П/ПАК 8       1.0  199.90  199.90\n",
       "20     ДИКСИ  БЗМЖ МОЛОКО СТРАНА ВАСИЛЬКИ У/       1.0   49.99   49.99\n",
       "21     ДИКСИ  СУШКИ ТАРАЛЛИНИ С ЧЕСНОКОМ 180       1.0   29.99   29.99\n",
       "22     ДИКСИ  ЯЙЦО КУРИНОЕ СТОЛОВОЕ 1КАТЕГОР       1.0   63.99   63.99\n",
       "23     ДИКСИ  ПЕЧЕНЬЕ ЮБИЛЕЙНОЕ ВИТАМИНИЗИРО       2.0   29.99   59.98"
      ]
     },
     "execution_count": 3,
     "metadata": {},
     "output_type": "execute_result"
    }
   ],
   "source": [
    "real.head()"
   ]
  },
  {
   "cell_type": "code",
   "execution_count": 4,
   "metadata": {},
   "outputs": [],
   "source": [
    "clean = pd.read_csv('clean_data/all_clean.csv')"
   ]
  },
  {
   "cell_type": "code",
   "execution_count": 5,
   "metadata": {},
   "outputs": [],
   "source": [
    "tmp = pd.read_csv('benchmarks/standard.csv')"
   ]
  },
  {
   "cell_type": "code",
   "execution_count": 6,
   "metadata": {},
   "outputs": [],
   "source": [
    "def find_weight_or_volume(name: str)-> str:\n",
    "    \"\"\"Находит вес или объём товара.\"\"\"\n",
    "\n",
    "    pattern1 = r'\\d+((\\.|\\,|x|X|х|Х)?)\\d*([а-я]|[А-Я])*$' # ищет вес в конце\n",
    "    pattern2 = r'\\d+\\w+' #  ищет вес в середине\n",
    "    pattern3 = r'(\\d+ кг)|(\\d+ г)'  # находит `1 кг` или `1 г`\n",
    "    result = re.search(pattern1, name)\n",
    "    if result:\n",
    "        return result.group(0)\n",
    "    result = re.search(pattern2, name)\n",
    "    if result:\n",
    "        return result.group(0)\n",
    "    result = re.search(pattern3, name)\n",
    "    return result.group(0) if result else ''"
   ]
  },
  {
   "cell_type": "code",
   "execution_count": 7,
   "metadata": {},
   "outputs": [],
   "source": [
    "# tmp['Название'].apply(find_weight_or_volume)"
   ]
  },
  {
   "cell_type": "code",
   "execution_count": 8,
   "metadata": {},
   "outputs": [],
   "source": [
    "tmp['Название'] = tmp['Название'].str.lower()"
   ]
  },
  {
   "cell_type": "code",
   "execution_count": 26,
   "metadata": {},
   "outputs": [],
   "source": [
    "from dicts import PRODUCTS, BRANDS\n",
    "\n",
    "class NormalizeNames:\n",
    "    def __init__(self, name: pd.Series):\n",
    "        self.df = pd.DataFrame(name.copy()).rename(columns={'name': 'name_norm'})\n",
    "        self.df['product_norm'] = None\n",
    "        self.df['brand_norm'] = None\n",
    "        \n",
    "        self.blacklist = pd.read_csv('data/blacklist.csv')['0'].values\n",
    "        self.slash_brands = {\n",
    "            'кп/': 'красная птица',\n",
    "            'кд/': 'каждый день',\n",
    "            'lay`s/': 'lays',\n",
    "            'кр/цена': 'красня цена',\n",
    "            'д/ваня': 'дядя ваня',\n",
    "            'дом.в/дер.': 'домик в деревне',\n",
    "        }\n",
    "\n",
    "        self.slash_product = {\n",
    "            'б/йог': 'биойогурт',\n",
    "            'сух/завтрак': 'сухой завтрак',\n",
    "            'з/щ': 'зубная щётка',\n",
    "            'йогурт/смусси': 'йогурт',\n",
    "            'т/бумага': 'туалетная бумага',\n",
    "            'укроп/петрушк': 'зелень',\n",
    "            'б/полотенца': 'бумажные полотенца',\n",
    "            'з/паста': 'зубная паста',\n",
    "            'т/мыло': 'мыло',\n",
    "            'ж/мыло': 'жидкое мыло',\n",
    "            'бум/салф': 'бумажные полотенца',\n",
    "            'з/п': 'зубная паста',\n",
    "            'шамп/бал': 'шампунь',\n",
    "            'с/порошок': 'порошок',\n",
    "            'ш/р': 'шариковая ручка',\n",
    "            'т/бум': 'тулетная бумага',\n",
    "            \n",
    "        }\n",
    "        self.brands = [\n",
    "            'тараллини', 'каприз', 'president', 'золотой ларец', 'heineken', 'посиделкино', 'cricket', 'кузмино', 'праздничная',\n",
    "            'золотой стандарт', 'hochland', 'шишкин лес', 'красная цена', 'bio balance', 'провансаль', 'карусель', 'волковская пивоварня',\n",
    "            'rich', 'ролтон', 'окей', 'сиббиттер', 'славянка', 'моя цена', 'mars', 'чистая линия', 'озорная пчелка', 'я самая',\n",
    "            'варвара краса', 'оral-b', 'figaro', 'брест-литовский', 'billa', 'верховье', 'nescafe', 'маракас', 'хлебцы-молодцы',\n",
    "            'aura family', 'орловский', 'danone', 'рот-фронт', 'bonduelle', 'залесский фермер', 'от ильиной', 'роллтон', 'baisad',\n",
    "            'агро-альянс', 'стародворские', 'miller genuine', 'рублевский', 'круглый год', 'chupa chups', 'золотой ярлык', 'даниссимо',\n",
    "            'lays', 'российский', 'мираторг', 'б.ю.александров', 'LD', 'senator', 'рязаночка', 'любодарово', 'море рядом', 'родные просторы',\n",
    "            'черноголовка', 'geese', 'коммунарка', 'наше солнышко', 'здоровое меню', 'mr. proper', 'maggi', 'индана', 'орион', 'просто',\n",
    "            'extreme', 'milka', 'хлебный спас', 'felix', 'русский холод', 'мягкий знак', 'свитлогорье', 'доброфлот', 'purina', 'viola',\n",
    "            'рестория', 'село зеленое', 'winston', 'contex', 'dirol', 'малиновка', 'овощная семейка', 'сибирская коллекция', 'granola',\n",
    "            'ява', 'maxibon', 'щелковский', 'маркет перекресток', 'пятерочка', 'mersi', 'palmolive', 'nemoloko', 'маруся', 'philip morris',\n",
    "            'бабаевский', 'барни', 'miller', 'иммунеле', 'esse', 'из углича', 'mccormick', 'henkel', 'heinz', 'велком', 'простоквашино',\n",
    "            'kitekat', 'топ шеф', 'яков давыдов', 'zatecky gus', 'tolli', 'бифилайф', 'ростагроэкспорт', 'три корочки', 'восточный гость',\n",
    "            'gourmet gold', 'волоконовское', 'первым делом', 'хлебозавод', 'фрекен бок', 'саф-момент', 'предгорье кавказа', 'кириешки',\n",
    "            'националь', 'colgate', 'с. пудовъ', 'дикси', 'петр I', 'первак', 'завтрак+', 'мясной дом бородина', 'цукерман', 'тульский',\n",
    "            'ritter sport', 'растишка', 'мера вкуса', 'landliebe', 'степановна', 'юбилейное', 'dr. korner', 'ля фам', 'виола виттрока',\n",
    "            'рогачевъ', 'кока кола', 'марьин', 'вкусвилл', 'страна васильки', 'rothmans', 'foxlite', 'бархатные ручки', 'как раньше',\n",
    "            'astoria', 'юрма', 'белая долина', 'gosser', 'ярославский бройлер', 'савушкин хуторок', 'kamis', 'm&ms', 'marlboro',\n",
    "            'eco-botanica', 'always', 'pepsi', 'dr. oetker', 'воронцовские сухарики', 'мистраль', 'асеньевская ферма', 'советские традиции',\n",
    "            'deluxe', 'kotex', 'коптильный двор', 'клинский', 'гиагинский', 'перекресток', 'фрутоняня', 'лента', 'золотая симфония',\n",
    "            'bond', 'краски лета', 'mr. ricco', 'любимый', 'chocopie', 'кремлевский', 'молти', 'velle', 'фруто-няня', 'особый',\n",
    "            'воронцовские', 'oreo', 'приосколье', 'nestle', 'вдохновение', 'б.ю. александров', 'activia', 'orbit', 'alpen gold',\n",
    "            'lorenz naturals', 'отличная цена', 'сады придонья', 'домашняя кухня', 'добрый', 'агуша', 'варенька', 'океан', 'barilla',\n",
    "            'мясной дом', 'almette', 'greenfield', 'дмитровский', 'красна ягода', 'Violette', 'кузя', 'global village', 'азовская кф',\n",
    "            'принцесса ява', 'ecomilk', 'сладкая слобода', 'natural', 'крестьянское', 'белевская пастила', 'ашан', 'turbo diesel',\n",
    "            'московский картофель', 'oral-b', 'ротфронт', 'царский вкус', 'овсяная изюминка', 'доширак', 'большая кружка', 'зеленая линия',\n",
    "            'донской табак', 'актвия', 'huggies', 'mamba', 'томмолоко', 'coca-cola', 'домик в деревне', 'lukoil', 'шарлиз', 'первая свежесть',\n",
    "            'му-у', 'grand duet', 'zewa', 'hoegaarden', 'семейка озби', 'terre allegre', 'mentos', 'золотая бочка', 'магнит'\n",
    "        ]\n",
    "        \n",
    "    @staticmethod\n",
    "    def remove_all_words_which_contains_number(name, product, brand):\n",
    "        # Todo: Создать словарь с брендами, у которых есть цифры, например, 365 ДНЕЙ, 7 DAYS\n",
    "        brands_with_numeric = [\n",
    "            '365 дней', '7 days', '6 соток', '5 морей', '4 сезона', '7up', '3 glocken', '1toy', '48 копеек',\n",
    "            'j7', 'got2b', 'хлебозавод 28', '4life','4 life' '36 копеек', 'байкал', '101 зерно', '5 океанов', 'j-7',\n",
    "            '48коп', 'петр I', '7days', '7 злаков', '7злаков'\n",
    "        ]\n",
    "        \n",
    "        for br in brands_with_numeric:\n",
    "            if br in name:\n",
    "                brand = br\n",
    "                if brand == '48коп':\n",
    "                    brand = '48 копеек'\n",
    "                name = name.replace(br, '')\n",
    "                break\n",
    "        name = ' '.join(re.sub(r'\\w*\\d\\w*', '', word).strip() for word in name.split())\n",
    "        return pd.Series([name, product, brand])\n",
    "    \n",
    "    def remove_all_words_which_contains_slash(self, name, product, brand):\n",
    "        for key, value in self.slash_brands.items():\n",
    "            if key in name:\n",
    "                brand = value\n",
    "                name = name.replace(key, ' ')\n",
    "                break\n",
    "        \n",
    "        for key, value in self.slash_product.items():\n",
    "            if key in name:\n",
    "                product = value\n",
    "                name = name.replace(key, ' ')\n",
    "                break\n",
    "        name = name.replace('/', ' ')\n",
    "#         name = ' '.join(re.sub(r'\\w*/\\w*', ' ', word).strip() for word in name.split())\n",
    "        return pd.Series([name, product, brand])\n",
    "    \n",
    "    def remove_punctuation_symbols(self, name, product, brand):\n",
    "        for key, value in BRANDS.items():\n",
    "            if key in name:\n",
    "                brand = value\n",
    "                name = name.replace(key, '')\n",
    "                break\n",
    "        \n",
    "        tmp = [re.sub(r'([.,!?%:№*\\(|\\)])', ' ', word).strip() for word in name.split()]\n",
    "        name = ' '.join(word[:-1] if word.endswith('-') else word for word in tmp)\n",
    "        return pd.Series([name, product, brand])\n",
    "    \n",
    "    @staticmethod\n",
    "    def remove_one_and_two_chars(name: str):\n",
    "#         whitelist = ['с', 'в', 'и', 'из']\n",
    "        whitelist = ['fa']\n",
    "        return ' '.join(x.strip() for x in name.split() if len(x) > 2 or x in whitelist)\n",
    "#         return ' '.join(re.sub(r'\\b\\w{,2}\\b', ' ', word).strip() for word in name.split())\n",
    "    \n",
    "    \n",
    "    def find_brands(self, name, product, brand):\n",
    "        for br in self.brands:\n",
    "            if br in name:\n",
    "                brand = br\n",
    "                name = name.replace(br, '')\n",
    "                break\n",
    "    \n",
    "        return pd.Series([name, product, brand])\n",
    "    \n",
    "    def remove_words_in_blacklist(self, name: str):\n",
    "        return ' '.join(word for word in name.split() if word.strip() not in self.blacklist)\n",
    "    \n",
    "    @staticmethod\n",
    "    def replace_with_product_dict(name: str):\n",
    "        return ' '.join(PRODUCTS.get(word.strip(), word) for word in name.split())\n",
    "        \n",
    "    def find_scratch_card(self, name, product, brand):\n",
    "        if 'скретч-карта' in name:\n",
    "            return pd.Series(['', 'скретч-карта', 'перекресток'])\n",
    "        return pd.Series([name, product, brand])\n",
    "    \n",
    "    @staticmethod\n",
    "    def find_product(name, product):\n",
    "        if not product:\n",
    "            if len(name.split()) == 1:\n",
    "                if name == 'мол':\n",
    "                    return pd.Series(['', 'молоко'])\n",
    "                product = name\n",
    "                return pd.Series(['', product])\n",
    "            return pd.Series([name, None]) \n",
    "        return pd.Series([name, product])\n",
    "\n",
    "    @staticmethod\n",
    "    def find_and_remove_all_english_words(name, brand):\n",
    "        eng_brands = re.findall(r'\\b([a-z]+)\\b', name)\n",
    "        if eng_brands and not brand:\n",
    "            result = []\n",
    "            for word in eng_brands:\n",
    "                name = name.replace(word, '').replace('  ', ' ').strip()\n",
    "                result.append(word)\n",
    "\n",
    "            brand = ' '.join(result)\n",
    "            if 'epica' in brand:\n",
    "                brand = 'epica'\n",
    "            return pd.Series([name, brand])\n",
    "\n",
    "        # If we have brand, we should delete english words in product name\n",
    "        name = re.sub(r'\\b([a-z]+)\\b', '', name).replace('  ', ' ').strip()\n",
    "        return pd.Series([name, brand])\n",
    "    \n",
    "    def normalize(self):\n",
    "        self.df['name_norm'] = self.df['name_norm'].str.lower()\n",
    "        self.df[['name_norm', 'product_norm', 'brand_norm']] = self.df.apply(\n",
    "            lambda x: self.remove_all_words_which_contains_number(\n",
    "                x['name_norm'], x['product_norm'], x['brand_norm']\n",
    "            ), axis=1\n",
    "        )\n",
    "        self.df[['name_norm', 'product_norm', 'brand_norm']] = self.df.apply(\n",
    "            lambda x: self.remove_all_words_which_contains_slash(\n",
    "                x['name_norm'], x['product_norm'], x['brand_norm']\n",
    "            ), axis=1\n",
    "        )\n",
    "        self.df[['name_norm', 'product_norm', 'brand_norm']] = self.df.apply(\n",
    "            lambda x: self.remove_punctuation_symbols(\n",
    "                x['name_norm'], x['product_norm'], x['brand_norm']\n",
    "            ), axis=1\n",
    "        )\n",
    "        self.df[['name_norm', 'product_norm', 'brand_norm']] = self.df.apply(\n",
    "            lambda x: self.find_brands(\n",
    "                x['name_norm'], x['product_norm'], x['brand_norm']\n",
    "            ), axis=1\n",
    "        )\n",
    "        self.df['name_norm'] = self.df['name_norm'].apply(self.remove_one_and_two_chars)\n",
    "        self.df['name_norm'] = self.df['name_norm'].apply(self.remove_words_in_blacklist)\n",
    "        self.df['name_norm'] = self.df['name_norm'].apply(self.replace_with_product_dict)\n",
    "        self.df[['name_norm', 'product_norm', 'brand_norm']] = self.df.apply(\n",
    "            lambda x: self.find_scratch_card(\n",
    "                x['name_norm'], x['product_norm'], x['brand_norm']\n",
    "            ), axis=1\n",
    "        )\n",
    "        self.df[['name_norm', 'brand_norm']] = self.df.apply(\n",
    "            lambda x: self.find_and_remove_all_english_words(x['name_norm'], x['brand_norm']), axis=1\n",
    "        )\n",
    "#         self.df[['name_norm', 'product_norm']] = self.df.apply(\n",
    "#             lambda x: self.find_product(x['name_norm'], x['product_norm']), axis=1\n",
    "#         )\n",
    "        return self.df"
   ]
  },
  {
   "cell_type": "code",
   "execution_count": 27,
   "metadata": {},
   "outputs": [
    {
     "name": "stdout",
     "output_type": "stream",
     "text": [
      "CPU times: user 2min 5s, sys: 10 s, total: 2min 15s\n",
      "Wall time: 2min 17s\n"
     ]
    }
   ],
   "source": [
    "%%time\n",
    "n = NormalizeNames(real['name'])\n",
    "tmp = n.normalize()\n",
    "# Wall time: 2min 18s"
   ]
  },
  {
   "cell_type": "code",
   "execution_count": 28,
   "metadata": {},
   "outputs": [],
   "source": [
    "df = pd.concat([real, tmp], axis=1)[['shop_name', 'name', 'name_norm', 'product_norm', 'brand_norm']]"
   ]
  },
  {
   "cell_type": "code",
   "execution_count": 29,
   "metadata": {},
   "outputs": [
    {
     "data": {
      "text/plain": [
       "(13756,)"
      ]
     },
     "execution_count": 29,
     "metadata": {},
     "output_type": "execute_result"
    }
   ],
   "source": [
    "df.brand_norm.dropna().shape # 13020 -> 13719 -> 13726"
   ]
  },
  {
   "cell_type": "code",
   "execution_count": 30,
   "metadata": {},
   "outputs": [
    {
     "data": {
      "text/plain": [
       "(350,)"
      ]
     },
     "execution_count": 30,
     "metadata": {},
     "output_type": "execute_result"
    }
   ],
   "source": [
    "df.product_norm.dropna().shape # 350 -> 350"
   ]
  },
  {
   "cell_type": "code",
   "execution_count": null,
   "metadata": {},
   "outputs": [],
   "source": []
  },
  {
   "cell_type": "code",
   "execution_count": null,
   "metadata": {},
   "outputs": [],
   "source": []
  },
  {
   "cell_type": "code",
   "execution_count": 19,
   "metadata": {},
   "outputs": [],
   "source": [
    "from typing import Optional, NoReturn, List, Union\n",
    "from itertools import combinations\n",
    "from pymystem3 import Mystem\n",
    "\n",
    "\n",
    "class Finder:\n",
    "    \"\"\"\n",
    "    Searche and recognize the name, category and brand of a product\n",
    "    from its description.\n",
    "    Search is carried out in the collected datasets: `rus_brands.csv`,\n",
    "    `products.csv`, `all_clean.csv`.\n",
    "    \n",
    "    Parameters\n",
    "    ----------\n",
    "    data_to_parse: Union[pd.DataFrame, str],\n",
    "        Data in which product information will be recognized.\n",
    "        If data is a pd.DataFrane, it must contain the following columns:\n",
    "        ['name_norm', 'product_norm', 'brand_norm'].\n",
    "        If the data is a string, it should be normalized:\n",
    "        service characters removed, lowercase letters, etc.\n",
    "    path_to_brands : str\n",
    "        Path to the dataset where brand information is collected.\n",
    "    path_to_products : str\n",
    "        Path to the dataset, which collects information about\n",
    "        the product name and their categories.\n",
    "    path_to_product_db : str\n",
    "        The path to the dataset, which collects scrapied\n",
    "        information about products from chain stores.\n",
    "        \n",
    "    Attributes\n",
    "    ----------\n",
    "    mystem : class\n",
    "        A Python wrapper of the Yandex Mystem 3.1 morphological\n",
    "        analyzer (http://api.yandex.ru/mystem).\n",
    "        See aslo `https://github.com/nlpub/pymystem3`.\n",
    "    rus_brands : np.ndarray\n",
    "        List of Russian brands.\n",
    "    products : pd.DataFrame\n",
    "        DataFrame of product names and categories.\n",
    "    df : pd.DataFrame\n",
    "        The copy of `data_to_parse`.\n",
    "\n",
    "    Examples\n",
    "    --------\n",
    "    TODO\n",
    "    \"\"\" # TODO: Add Examples в доку\n",
    "    \n",
    "    def __init__(self, data_to_parse: Union[pd.DataFrame, str], path_to_brands: str = 'clean_data/rus_brands.csv',\n",
    "                 path_to_products: str = 'clean_data/products.csv', path_to_product_db='clean_data/all_clean.csv'):\n",
    "        self.mystem = Mystem()\n",
    "        \n",
    "        # DataFrames:\n",
    "        self.rus_brands = pd.read_csv(path_to_brands)['Бренд'].values\n",
    "        self.products = pd.read_csv(path_to_products)\n",
    "        self.product_db = pd.read_csv(path_to_product_db)\n",
    "        \n",
    "        columns = ['name_norm', 'product_norm', 'brand_norm']\n",
    "        if isinstance(data_to_parse, pd.DataFrame):\n",
    "            self.data = data_to_parse[columns].copy()\n",
    "        else:\n",
    "            self.data = pd.DataFrame([[data_to_parse, None, None]], columns=columns)\n",
    "        self.data['cat_norm'] = None  # Add new column\n",
    "        \n",
    "    def find_brands(self, name: str, brand: Optional[str] = None) -> pd.Series:\n",
    "        \"\"\"\n",
    "        Find Russian brands using the dataset `rus_brands.csv`.\n",
    "        For more accurate recognition, a combination of words in a\n",
    "        different order is used.\n",
    "\n",
    "        Parameters\n",
    "        ----------\n",
    "        name : str\n",
    "            Product name.\n",
    "        brand : str, optional (default=None)\n",
    "            Product category.\n",
    "\n",
    "        Returns\n",
    "        -------\n",
    "        pd.Series\n",
    "           pd.Series([name, brand])\n",
    "        \"\"\"\n",
    "\n",
    "        if name and not brand:\n",
    "            names = set([f'{comb[0]} {comb[1]}' for comb in combinations(name.split(), 2)] + name.split())\n",
    "            for rus_brand in self.rus_brands:\n",
    "                if rus_brand in names:\n",
    "                    name = name.replace(rus_brand, '').replace('  ', ' ').strip()\n",
    "                    return pd.Series([name, rus_brand])\n",
    "        return pd.Series([name, brand])\n",
    "\n",
    "    @staticmethod\n",
    "    def _remove_duplicate_word(arr: List[str]) -> List[str]:\n",
    "        \"\"\"\n",
    "        Remove duplicates in words when one name is a  continuation\n",
    "        of another: ['вода', 'вода питьевая'] --> ['вода питьевая'].\n",
    "        \n",
    "        Parameters\n",
    "        ----------\n",
    "        arr : List[str]\n",
    "            List description of products in different variants.\n",
    "        \n",
    "        Returns\n",
    "        -------\n",
    "        arr : List[str]\n",
    "            List description of products without duplicates.\n",
    "        \"\"\"\n",
    "\n",
    "        if max([len(x.split()) for x in arr]) > 1:\n",
    "            arr = sorted(arr, key=lambda x: len(x.split()))\n",
    "            one_words = []\n",
    "            for product in arr.copy():\n",
    "                if len(product.split()) == 1:\n",
    "                    one_words.append(product)\n",
    "                else:\n",
    "                    for word in one_words:\n",
    "                        if word in product:\n",
    "                            arr.remove(word)\n",
    "        return arr\n",
    "\n",
    "    def find_product(self, name: str, product: str, category: Optional[str]=None) -> pd.Series:\n",
    "        \"\"\"\n",
    "        Find products name using the dataset `products.csv`.\n",
    "        For more accurate recognition, a combination of words in a\n",
    "        different order is used.\n",
    "\n",
    "        Parameters\n",
    "        ----------\n",
    "        name : str\n",
    "            Product name.\n",
    "        product : str\n",
    "            Product description.\n",
    "        category : str, optional (default=None)\n",
    "            Product category.\n",
    "\n",
    "        Returns\n",
    "        -------\n",
    "        pd.Series\n",
    "           pd.Series([name, product, category]) \n",
    "        \"\"\"\n",
    "\n",
    "        if name and not product:\n",
    "            names = pd.DataFrame(set([f'{comb[0]} {comb[1]}' for comb in combinations(name.split(), 2)] + name.split()), columns=['Продукт'])\n",
    "            merge = self.products.merge(names)\n",
    "            if len(merge):\n",
    "                product = ', '.join(self._remove_duplicate_word(merge['Продукт'].values))\n",
    "                category = merge['Категория'].value_counts().index[0]\n",
    "        return pd.Series([name, product, category])\n",
    "    \n",
    "    @staticmethod\n",
    "    def remove_dash(name: str, product: str) -> str:\n",
    "        \"\"\"\n",
    "        Remove dash from product description.\n",
    "\n",
    "        Parameters\n",
    "        ----------\n",
    "        name : str\n",
    "            Product name.\n",
    "        product : str\n",
    "            Product description.\n",
    "\n",
    "        Returns\n",
    "        -------\n",
    "        str\n",
    "           Product name without dashs.\n",
    "        \"\"\"\n",
    "\n",
    "        if name and not product:\n",
    "            name = name.replace('-', ' ')\n",
    "        return name\n",
    "    \n",
    "    def use_mystem(self, name: str, product: str) -> str:\n",
    "        \"\"\"\n",
    "        Use Yandex pymystem3 library to lemmatize words in product descriptions.\n",
    "        I tried to use pymorphy, but the recognition quality got worse.\n",
    "\n",
    "        Parameters\n",
    "        ----------\n",
    "        name : str\n",
    "            Product name.\n",
    "        product : str\n",
    "            Product description.\n",
    "            \n",
    "        Returns\n",
    "        -------\n",
    "        str\n",
    "            Product description after lemmatization.\n",
    "        \"\"\"\n",
    "\n",
    "        if name and not product:\n",
    "            name = ''.join(self.mystem.lemmatize(name)[:-1])\n",
    "        return name\n",
    "    \n",
    "    def find_category(self, product: str, category: str) -> pd.Series:\n",
    "        \"\"\"\n",
    "        Find a product category using the dataset `products.csv`.\n",
    "\n",
    "        Parameters\n",
    "        ----------\n",
    "        product : str\n",
    "            Product description.\n",
    "        category : str\n",
    "            Product category.\n",
    "\n",
    "        Returns\n",
    "        -------\n",
    "        pd.Series\n",
    "           pd.Series([product, category]) \n",
    "        \"\"\"\n",
    "        if product and not cat:\n",
    "            tmp = self.products[self.products['Продукт'] == product]\n",
    "            if len(tmp):\n",
    "                category = tmp['Категория'].values[0]\n",
    "\n",
    "        return pd.Series([product, category])\n",
    "\n",
    "\n",
    "    def find_product_by_brand(self, product: str, brand: str, category: str) -> pd.Series:\n",
    "        \"\"\"\n",
    "        If we were able to recognize the product brand,\n",
    "        but could not recongize the product name,\n",
    "        we can assign the most common product name for this brand.\n",
    "\n",
    "        Parameters\n",
    "        ----------\n",
    "        product : str\n",
    "            Product description.\n",
    "        brand : str\n",
    "            Product brand.\n",
    "        category : str\n",
    "            Product category.\n",
    "\n",
    "        Returns\n",
    "        -------\n",
    "        pd.Series\n",
    "           pd.Series([product, brand, category]) \n",
    "        \"\"\"\n",
    "\n",
    "        if brand and not product:\n",
    "            single_brand_goods = self.product_db[self.product_db['Бренд'] == brand]\n",
    "            if len(single_brand_goods):\n",
    "                product = single_brand_goods['Продукт'].value_counts().index[0]\n",
    "                category = single_brand_goods['Категория'].value_counts().index[0]\n",
    "\n",
    "        return pd.Series([product, brand, category])\n",
    "    \n",
    "    \n",
    "    def print_logs(self) -> None:\n",
    "        \"\"\"\n",
    "        Print the number of recognized brands,\n",
    "        categories and names of goods.\n",
    "        \"\"\"\n",
    "        \n",
    "        _len = len(self.data)\n",
    "        print(\n",
    "            \"Recognized brands: \"\n",
    "            f\"{len(self.data['brand_norm'].dropna())}/{_len}, \"\n",
    "            f\"products: {len(self.data['product_norm'].dropna())}/{_len}, \"\n",
    "            f\"categories: {len(self.data['cat_norm'].dropna())}/{_len}\",\n",
    "            '-'*60, sep='\\n', end='\\n\\n'\n",
    "        )\n",
    "    \n",
    "    def find_all(self):\n",
    "        \n",
    "        print('Before:')\n",
    "        self.print_logs()\n",
    "        \n",
    "        # Find brand:\n",
    "        print('Find brands...')\n",
    "        self.data[['name_norm', 'brand_norm']] = self.data.apply(lambda x: self.find_brands(x['name_norm'], x['brand_norm']), axis=1)\n",
    "        self.print_logs()\n",
    "        \n",
    "        # Find product and category:\n",
    "        print('Find product...')\n",
    "        self.data[['name_norm', 'product_norm', 'cat_norm']] = self.data.apply(lambda x: self.find_product(x['name_norm'], x['product_norm']), axis=1)\n",
    "        self.print_logs()\n",
    "        \n",
    "        # Remove `-` and the second attempt to find a product:\n",
    "        print('Remove `-`...')\n",
    "        self.data['name_norm'] = self.data.apply(lambda x: self.remove_dash(x['name_norm'], x['product_norm']), axis=1)\n",
    "        self.data[['name_norm', 'product_norm', 'cat_norm']] = self.data.apply(lambda x: self.find_product(x['name_norm'], x['product_norm'], x['cat_norm']), axis=1)\n",
    "        self.print_logs()\n",
    "        \n",
    "        # Use Mystem for lemmatization and the third attempt to find a product:\n",
    "        print('Lemmatization...')\n",
    "        self.data['name_norm'] = self.data.apply(lambda x: self.use_mystem(x['name_norm'], x['product_norm']), axis=1)\n",
    "        self.data[['name_norm', 'product_norm', 'cat_norm']] = self.data.apply(lambda x: self.find_product(x['name_norm'], x['product_norm'], x['cat_norm']), axis=1)\n",
    "        self.print_logs()\n",
    "        \n",
    "        # Find category:\n",
    "        print('Find category...')\n",
    "        self.data[['product_norm', 'cat_norm']] = self.data.apply(lambda x: self.find_category(x['product_norm'], x['cat_norm']), axis=1)\n",
    "        self.print_logs()\n",
    "        \n",
    "        # Find product by brand:\n",
    "        print('Find product by brand...')\n",
    "        self.data[['product_norm', 'brand_norm', 'cat_norm']] = self.data.apply(lambda x: self.find_product_by_brand(x['product_norm'], x['brand_norm'], x['cat_norm']), axis=1)\n",
    "        self.print_logs()\n",
    "        return self.data"
   ]
  },
  {
   "cell_type": "code",
   "execution_count": 20,
   "metadata": {},
   "outputs": [
    {
     "name": "stdout",
     "output_type": "stream",
     "text": [
      "Before:\n",
      "Recognized brands: 13726/32091, products: 350/32091, categories: 0/32091\n",
      "------------------------------------------------------------\n",
      "\n",
      "Find brands...\n",
      "Recognized brands: 17535/32091, products: 350/32091, categories: 0/32091\n",
      "------------------------------------------------------------\n",
      "\n",
      "Find product...\n",
      "Recognized brands: 17535/32091, products: 29459/32091, categories: 29109/32091\n",
      "------------------------------------------------------------\n",
      "\n",
      "Remove `-`...\n",
      "Recognized brands: 17535/32091, products: 29558/32091, categories: 29208/32091\n",
      "------------------------------------------------------------\n",
      "\n",
      "Lemmatization...\n",
      "Recognized brands: 17535/32091, products: 29924/32091, categories: 29574/32091\n",
      "------------------------------------------------------------\n",
      "\n",
      "Find category...\n"
     ]
    },
    {
     "ename": "NameError",
     "evalue": "name 'cat' is not defined",
     "output_type": "error",
     "traceback": [
      "\u001b[0;31m---------------------------------------------------------------------------\u001b[0m",
      "\u001b[0;31mNameError\u001b[0m                                 Traceback (most recent call last)",
      "\u001b[0;32m<timed exec>\u001b[0m in \u001b[0;36m<module>\u001b[0;34m\u001b[0m\n",
      "\u001b[0;32m<ipython-input-19-72c6a4917426>\u001b[0m in \u001b[0;36mfind_all\u001b[0;34m(self)\u001b[0m\n\u001b[1;32m    289\u001b[0m         \u001b[0;31m# Find category:\u001b[0m\u001b[0;34m\u001b[0m\u001b[0;34m\u001b[0m\u001b[0;34m\u001b[0m\u001b[0m\n\u001b[1;32m    290\u001b[0m         \u001b[0mprint\u001b[0m\u001b[0;34m(\u001b[0m\u001b[0;34m'Find category...'\u001b[0m\u001b[0;34m)\u001b[0m\u001b[0;34m\u001b[0m\u001b[0;34m\u001b[0m\u001b[0m\n\u001b[0;32m--> 291\u001b[0;31m         \u001b[0mself\u001b[0m\u001b[0;34m.\u001b[0m\u001b[0mdata\u001b[0m\u001b[0;34m[\u001b[0m\u001b[0;34m[\u001b[0m\u001b[0;34m'product_norm'\u001b[0m\u001b[0;34m,\u001b[0m \u001b[0;34m'cat_norm'\u001b[0m\u001b[0;34m]\u001b[0m\u001b[0;34m]\u001b[0m \u001b[0;34m=\u001b[0m \u001b[0mself\u001b[0m\u001b[0;34m.\u001b[0m\u001b[0mdata\u001b[0m\u001b[0;34m.\u001b[0m\u001b[0mapply\u001b[0m\u001b[0;34m(\u001b[0m\u001b[0;32mlambda\u001b[0m \u001b[0mx\u001b[0m\u001b[0;34m:\u001b[0m \u001b[0mself\u001b[0m\u001b[0;34m.\u001b[0m\u001b[0mfind_category\u001b[0m\u001b[0;34m(\u001b[0m\u001b[0mx\u001b[0m\u001b[0;34m[\u001b[0m\u001b[0;34m'product_norm'\u001b[0m\u001b[0;34m]\u001b[0m\u001b[0;34m,\u001b[0m \u001b[0mx\u001b[0m\u001b[0;34m[\u001b[0m\u001b[0;34m'cat_norm'\u001b[0m\u001b[0;34m]\u001b[0m\u001b[0;34m)\u001b[0m\u001b[0;34m,\u001b[0m \u001b[0maxis\u001b[0m\u001b[0;34m=\u001b[0m\u001b[0;36m1\u001b[0m\u001b[0;34m)\u001b[0m\u001b[0;34m\u001b[0m\u001b[0;34m\u001b[0m\u001b[0m\n\u001b[0m\u001b[1;32m    292\u001b[0m         \u001b[0mself\u001b[0m\u001b[0;34m.\u001b[0m\u001b[0mprint_logs\u001b[0m\u001b[0;34m(\u001b[0m\u001b[0;34m)\u001b[0m\u001b[0;34m\u001b[0m\u001b[0;34m\u001b[0m\u001b[0m\n\u001b[1;32m    293\u001b[0m \u001b[0;34m\u001b[0m\u001b[0m\n",
      "\u001b[0;32m~/.local/lib/python3.6/site-packages/pandas/core/frame.py\u001b[0m in \u001b[0;36mapply\u001b[0;34m(self, func, axis, raw, result_type, args, **kwds)\u001b[0m\n\u001b[1;32m   6876\u001b[0m             \u001b[0mkwds\u001b[0m\u001b[0;34m=\u001b[0m\u001b[0mkwds\u001b[0m\u001b[0;34m,\u001b[0m\u001b[0;34m\u001b[0m\u001b[0;34m\u001b[0m\u001b[0m\n\u001b[1;32m   6877\u001b[0m         )\n\u001b[0;32m-> 6878\u001b[0;31m         \u001b[0;32mreturn\u001b[0m \u001b[0mop\u001b[0m\u001b[0;34m.\u001b[0m\u001b[0mget_result\u001b[0m\u001b[0;34m(\u001b[0m\u001b[0;34m)\u001b[0m\u001b[0;34m\u001b[0m\u001b[0;34m\u001b[0m\u001b[0m\n\u001b[0m\u001b[1;32m   6879\u001b[0m \u001b[0;34m\u001b[0m\u001b[0m\n\u001b[1;32m   6880\u001b[0m     \u001b[0;32mdef\u001b[0m \u001b[0mapplymap\u001b[0m\u001b[0;34m(\u001b[0m\u001b[0mself\u001b[0m\u001b[0;34m,\u001b[0m \u001b[0mfunc\u001b[0m\u001b[0;34m)\u001b[0m \u001b[0;34m->\u001b[0m \u001b[0;34m\"DataFrame\"\u001b[0m\u001b[0;34m:\u001b[0m\u001b[0;34m\u001b[0m\u001b[0;34m\u001b[0m\u001b[0m\n",
      "\u001b[0;32m~/.local/lib/python3.6/site-packages/pandas/core/apply.py\u001b[0m in \u001b[0;36mget_result\u001b[0;34m(self)\u001b[0m\n\u001b[1;32m    184\u001b[0m             \u001b[0;32mreturn\u001b[0m \u001b[0mself\u001b[0m\u001b[0;34m.\u001b[0m\u001b[0mapply_raw\u001b[0m\u001b[0;34m(\u001b[0m\u001b[0;34m)\u001b[0m\u001b[0;34m\u001b[0m\u001b[0;34m\u001b[0m\u001b[0m\n\u001b[1;32m    185\u001b[0m \u001b[0;34m\u001b[0m\u001b[0m\n\u001b[0;32m--> 186\u001b[0;31m         \u001b[0;32mreturn\u001b[0m \u001b[0mself\u001b[0m\u001b[0;34m.\u001b[0m\u001b[0mapply_standard\u001b[0m\u001b[0;34m(\u001b[0m\u001b[0;34m)\u001b[0m\u001b[0;34m\u001b[0m\u001b[0;34m\u001b[0m\u001b[0m\n\u001b[0m\u001b[1;32m    187\u001b[0m \u001b[0;34m\u001b[0m\u001b[0m\n\u001b[1;32m    188\u001b[0m     \u001b[0;32mdef\u001b[0m \u001b[0mapply_empty_result\u001b[0m\u001b[0;34m(\u001b[0m\u001b[0mself\u001b[0m\u001b[0;34m)\u001b[0m\u001b[0;34m:\u001b[0m\u001b[0;34m\u001b[0m\u001b[0;34m\u001b[0m\u001b[0m\n",
      "\u001b[0;32m~/.local/lib/python3.6/site-packages/pandas/core/apply.py\u001b[0m in \u001b[0;36mapply_standard\u001b[0;34m(self)\u001b[0m\n\u001b[1;32m    294\u001b[0m             \u001b[0;32mtry\u001b[0m\u001b[0;34m:\u001b[0m\u001b[0;34m\u001b[0m\u001b[0;34m\u001b[0m\u001b[0m\n\u001b[1;32m    295\u001b[0m                 result = libreduction.compute_reduction(\n\u001b[0;32m--> 296\u001b[0;31m                     \u001b[0mvalues\u001b[0m\u001b[0;34m,\u001b[0m \u001b[0mself\u001b[0m\u001b[0;34m.\u001b[0m\u001b[0mf\u001b[0m\u001b[0;34m,\u001b[0m \u001b[0maxis\u001b[0m\u001b[0;34m=\u001b[0m\u001b[0mself\u001b[0m\u001b[0;34m.\u001b[0m\u001b[0maxis\u001b[0m\u001b[0;34m,\u001b[0m \u001b[0mdummy\u001b[0m\u001b[0;34m=\u001b[0m\u001b[0mdummy\u001b[0m\u001b[0;34m,\u001b[0m \u001b[0mlabels\u001b[0m\u001b[0;34m=\u001b[0m\u001b[0mlabels\u001b[0m\u001b[0;34m\u001b[0m\u001b[0;34m\u001b[0m\u001b[0m\n\u001b[0m\u001b[1;32m    297\u001b[0m                 )\n\u001b[1;32m    298\u001b[0m             \u001b[0;32mexcept\u001b[0m \u001b[0mValueError\u001b[0m \u001b[0;32mas\u001b[0m \u001b[0merr\u001b[0m\u001b[0;34m:\u001b[0m\u001b[0;34m\u001b[0m\u001b[0;34m\u001b[0m\u001b[0m\n",
      "\u001b[0;32mpandas/_libs/reduction.pyx\u001b[0m in \u001b[0;36mpandas._libs.reduction.compute_reduction\u001b[0;34m()\u001b[0m\n",
      "\u001b[0;32mpandas/_libs/reduction.pyx\u001b[0m in \u001b[0;36mpandas._libs.reduction.Reducer.get_result\u001b[0;34m()\u001b[0m\n",
      "\u001b[0;32m<ipython-input-19-72c6a4917426>\u001b[0m in \u001b[0;36m<lambda>\u001b[0;34m(x)\u001b[0m\n\u001b[1;32m    289\u001b[0m         \u001b[0;31m# Find category:\u001b[0m\u001b[0;34m\u001b[0m\u001b[0;34m\u001b[0m\u001b[0;34m\u001b[0m\u001b[0m\n\u001b[1;32m    290\u001b[0m         \u001b[0mprint\u001b[0m\u001b[0;34m(\u001b[0m\u001b[0;34m'Find category...'\u001b[0m\u001b[0;34m)\u001b[0m\u001b[0;34m\u001b[0m\u001b[0;34m\u001b[0m\u001b[0m\n\u001b[0;32m--> 291\u001b[0;31m         \u001b[0mself\u001b[0m\u001b[0;34m.\u001b[0m\u001b[0mdata\u001b[0m\u001b[0;34m[\u001b[0m\u001b[0;34m[\u001b[0m\u001b[0;34m'product_norm'\u001b[0m\u001b[0;34m,\u001b[0m \u001b[0;34m'cat_norm'\u001b[0m\u001b[0;34m]\u001b[0m\u001b[0;34m]\u001b[0m \u001b[0;34m=\u001b[0m \u001b[0mself\u001b[0m\u001b[0;34m.\u001b[0m\u001b[0mdata\u001b[0m\u001b[0;34m.\u001b[0m\u001b[0mapply\u001b[0m\u001b[0;34m(\u001b[0m\u001b[0;32mlambda\u001b[0m \u001b[0mx\u001b[0m\u001b[0;34m:\u001b[0m \u001b[0mself\u001b[0m\u001b[0;34m.\u001b[0m\u001b[0mfind_category\u001b[0m\u001b[0;34m(\u001b[0m\u001b[0mx\u001b[0m\u001b[0;34m[\u001b[0m\u001b[0;34m'product_norm'\u001b[0m\u001b[0;34m]\u001b[0m\u001b[0;34m,\u001b[0m \u001b[0mx\u001b[0m\u001b[0;34m[\u001b[0m\u001b[0;34m'cat_norm'\u001b[0m\u001b[0;34m]\u001b[0m\u001b[0;34m)\u001b[0m\u001b[0;34m,\u001b[0m \u001b[0maxis\u001b[0m\u001b[0;34m=\u001b[0m\u001b[0;36m1\u001b[0m\u001b[0;34m)\u001b[0m\u001b[0;34m\u001b[0m\u001b[0;34m\u001b[0m\u001b[0m\n\u001b[0m\u001b[1;32m    292\u001b[0m         \u001b[0mself\u001b[0m\u001b[0;34m.\u001b[0m\u001b[0mprint_logs\u001b[0m\u001b[0;34m(\u001b[0m\u001b[0;34m)\u001b[0m\u001b[0;34m\u001b[0m\u001b[0;34m\u001b[0m\u001b[0m\n\u001b[1;32m    293\u001b[0m \u001b[0;34m\u001b[0m\u001b[0m\n",
      "\u001b[0;32m<ipython-input-19-72c6a4917426>\u001b[0m in \u001b[0;36mfind_category\u001b[0;34m(self, product, category)\u001b[0m\n\u001b[1;32m    207\u001b[0m            \u001b[0mpd\u001b[0m\u001b[0;34m.\u001b[0m\u001b[0mSeries\u001b[0m\u001b[0;34m(\u001b[0m\u001b[0;34m[\u001b[0m\u001b[0mproduct\u001b[0m\u001b[0;34m,\u001b[0m \u001b[0mcategory\u001b[0m\u001b[0;34m]\u001b[0m\u001b[0;34m)\u001b[0m\u001b[0;34m\u001b[0m\u001b[0;34m\u001b[0m\u001b[0m\n\u001b[1;32m    208\u001b[0m         \"\"\"\n\u001b[0;32m--> 209\u001b[0;31m         \u001b[0;32mif\u001b[0m \u001b[0mproduct\u001b[0m \u001b[0;32mand\u001b[0m \u001b[0;32mnot\u001b[0m \u001b[0mcat\u001b[0m\u001b[0;34m:\u001b[0m\u001b[0;34m\u001b[0m\u001b[0;34m\u001b[0m\u001b[0m\n\u001b[0m\u001b[1;32m    210\u001b[0m             \u001b[0mtmp\u001b[0m \u001b[0;34m=\u001b[0m \u001b[0mself\u001b[0m\u001b[0;34m.\u001b[0m\u001b[0mproducts\u001b[0m\u001b[0;34m[\u001b[0m\u001b[0mself\u001b[0m\u001b[0;34m.\u001b[0m\u001b[0mproducts\u001b[0m\u001b[0;34m[\u001b[0m\u001b[0;34m'Продукт'\u001b[0m\u001b[0;34m]\u001b[0m \u001b[0;34m==\u001b[0m \u001b[0mproduct\u001b[0m\u001b[0;34m]\u001b[0m\u001b[0;34m\u001b[0m\u001b[0;34m\u001b[0m\u001b[0m\n\u001b[1;32m    211\u001b[0m             \u001b[0;32mif\u001b[0m \u001b[0mlen\u001b[0m\u001b[0;34m(\u001b[0m\u001b[0mtmp\u001b[0m\u001b[0;34m)\u001b[0m\u001b[0;34m:\u001b[0m\u001b[0;34m\u001b[0m\u001b[0;34m\u001b[0m\u001b[0m\n",
      "\u001b[0;31mNameError\u001b[0m: name 'cat' is not defined"
     ]
    }
   ],
   "source": [
    "%%time\n",
    "finder = Finder(df)\n",
    "res = finder.find_all()\n",
    "res = pd.concat([df['name'], res], axis=1)\n",
    "# Recognized brands: 17178, products: 30343, categories: 30343\n",
    "\n",
    "# Recognized brands: 17358, products: 30499, categories: 30499 --> split by '/'\n",
    "\n",
    "# Recognized brands: 17366, products: 30497, categories: 30497\n",
    "\n",
    "# Recognized brands: 17528, products: 30495, categories: 30495 # Add new brands\n",
    "\n",
    "# Wall time: 3min 19s"
   ]
  },
  {
   "cell_type": "code",
   "execution_count": null,
   "metadata": {},
   "outputs": [],
   "source": []
  },
  {
   "cell_type": "markdown",
   "metadata": {},
   "source": [
    "### TODO:\n",
    "\n",
    "1. Вынести все собранные словари в отдельные классы\n",
    "2. Подумать насчёт того, чтобы совместить мой список со списком брендов\n",
    "3. Переводить всё в .py файлы\n",
    "4. Настроить красивые логи\n"
   ]
  },
  {
   "cell_type": "code",
   "execution_count": null,
   "metadata": {},
   "outputs": [],
   "source": []
  },
  {
   "cell_type": "code",
   "execution_count": null,
   "metadata": {},
   "outputs": [],
   "source": []
  },
  {
   "cell_type": "code",
   "execution_count": 219,
   "metadata": {},
   "outputs": [],
   "source": []
  },
  {
   "cell_type": "code",
   "execution_count": 24,
   "metadata": {},
   "outputs": [],
   "source": [
    "q = pd.read_csv('clean_data/products.csv')"
   ]
  },
  {
   "cell_type": "code",
   "execution_count": 40,
   "metadata": {},
   "outputs": [
    {
     "data": {
      "text/html": [
       "<div>\n",
       "<style scoped>\n",
       "    .dataframe tbody tr th:only-of-type {\n",
       "        vertical-align: middle;\n",
       "    }\n",
       "\n",
       "    .dataframe tbody tr th {\n",
       "        vertical-align: top;\n",
       "    }\n",
       "\n",
       "    .dataframe thead th {\n",
       "        text-align: right;\n",
       "    }\n",
       "</style>\n",
       "<table border=\"1\" class=\"dataframe\">\n",
       "  <thead>\n",
       "    <tr style=\"text-align: right;\">\n",
       "      <th></th>\n",
       "      <th>Продукт</th>\n",
       "      <th>Категория</th>\n",
       "    </tr>\n",
       "  </thead>\n",
       "  <tbody>\n",
       "  </tbody>\n",
       "</table>\n",
       "</div>"
      ],
      "text/plain": [
       "Empty DataFrame\n",
       "Columns: [Продукт, Категория]\n",
       "Index: []"
      ]
     },
     "execution_count": 40,
     "metadata": {},
     "output_type": "execute_result"
    }
   ],
   "source": [
    "q[q['Продукт'] == 'дыня']"
   ]
  },
  {
   "cell_type": "code",
   "execution_count": 151,
   "metadata": {},
   "outputs": [],
   "source": [
    "q.drop(index=461).to_csv('clean_data/products.csv', index=False)"
   ]
  },
  {
   "cell_type": "code",
   "execution_count": 112,
   "metadata": {},
   "outputs": [],
   "source": [
    "q.loc[446]['Категория'] = 'Овощи, фрукты, ягоды'"
   ]
  },
  {
   "cell_type": "code",
   "execution_count": 137,
   "metadata": {},
   "outputs": [
    {
     "data": {
      "text/plain": [
       "Продукт        изд \"мозаика-синтез\"\n",
       "Категория    Товары для мам и детей\n",
       "Name: 950, dtype: object"
      ]
     },
     "execution_count": 137,
     "metadata": {},
     "output_type": "execute_result"
    }
   ],
   "source": [
    "q.loc[950]"
   ]
  },
  {
   "cell_type": "code",
   "execution_count": 115,
   "metadata": {},
   "outputs": [],
   "source": [
    "q.to_csv('clean_data/products.csv', index=False)"
   ]
  },
  {
   "cell_type": "code",
   "execution_count": 284,
   "metadata": {},
   "outputs": [
    {
     "data": {
      "text/plain": [
       "True"
      ]
     },
     "execution_count": 284,
     "metadata": {},
     "output_type": "execute_result"
    }
   ],
   "source": [
    "'макароны' in q['Продукт'].values"
   ]
  },
  {
   "cell_type": "code",
   "execution_count": 60,
   "metadata": {},
   "outputs": [],
   "source": [
    "l = ['сгущенка', 'открытка', 'поджарка', 'белок', 'плитка', 'окорочка', 'гвоздика', 'горошек', 'редька', 'рассол', 'пасха', 'кислота лимонная']"
   ]
  },
  {
   "cell_type": "code",
   "execution_count": 38,
   "metadata": {},
   "outputs": [
    {
     "data": {
      "text/plain": [
       "array(['Красота, гигиена, бытовая химия', 'Хлеб, сладости, снеки',\n",
       "       'Молоко, сыр, яйца', 'Соусы, орехи, консервы',\n",
       "       'Макароны, крупы, специи', 'Другое', 'Воды, соки, напитки',\n",
       "       'Рыба, икра', 'Чай, кофе, сахар', 'Замороженные продукты',\n",
       "       'Птица, мясо, деликатесы', 'Посуда', 'Овощи, фрукты, ягоды',\n",
       "       'Товары для мам и детей', 'Товары для дома и дачи',\n",
       "       'Подборки и готовые блюда', 'Зоотовары', 'Бытовая техника',\n",
       "       'Алкоголь', 'Дача и гриль'], dtype=object)"
      ]
     },
     "execution_count": 38,
     "metadata": {},
     "output_type": "execute_result"
    }
   ],
   "source": [
    "q['Категория'].unique()"
   ]
  },
  {
   "cell_type": "code",
   "execution_count": 78,
   "metadata": {},
   "outputs": [],
   "source": [
    "tmp = pd.DataFrame.from_dict(white_list, orient='index').reset_index().rename(columns={'index': 'Продукт', 0: 'Категория'})"
   ]
  },
  {
   "cell_type": "code",
   "execution_count": 125,
   "metadata": {},
   "outputs": [],
   "source": [
    "l = ['яблоко', 'долма', 'разрыхлитель', 'бумага', 'кукуруза']"
   ]
  },
  {
   "cell_type": "code",
   "execution_count": 21,
   "metadata": {},
   "outputs": [
    {
     "name": "stdout",
     "output_type": "stream",
     "text": [
      "тулетная бумага\n",
      "шариковая ручка\n",
      "пучок\n"
     ]
    }
   ],
   "source": [
    "for i in df.product_norm.dropna().drop_duplicates().values:\n",
    "    if i not in q['Продукт'].values:\n",
    "        print(i)"
   ]
  },
  {
   "cell_type": "code",
   "execution_count": null,
   "metadata": {},
   "outputs": [],
   "source": []
  },
  {
   "cell_type": "code",
   "execution_count": null,
   "metadata": {},
   "outputs": [],
   "source": []
  },
  {
   "cell_type": "code",
   "execution_count": 22,
   "metadata": {},
   "outputs": [],
   "source": [
    "tmp = pd.DataFrame(\n",
    "    [\n",
    "        ['тулетная бумага', 'Красота, гигиена, бытовая химия'],\n",
    "        ['шариковая ручка', 'Другое'],\n",
    "        ['пучок', 'Овощи, фрукты, ягоды'],\n",
    "    ], columns=['Продукт', 'Категория']\n",
    ")"
   ]
  },
  {
   "cell_type": "code",
   "execution_count": 23,
   "metadata": {},
   "outputs": [],
   "source": [
    "pd.concat([q, tmp]).to_csv('clean_data/products.csv', index=False)"
   ]
  },
  {
   "cell_type": "code",
   "execution_count": 85,
   "metadata": {},
   "outputs": [
    {
     "data": {
      "text/plain": [
       "(1265, 2)"
      ]
     },
     "execution_count": 85,
     "metadata": {},
     "output_type": "execute_result"
    }
   ],
   "source": [
    "q.shape"
   ]
  },
  {
   "cell_type": "code",
   "execution_count": 88,
   "metadata": {},
   "outputs": [],
   "source": [
    "q.drop_duplicates(subset='Продукт').to_csv('clean_data/products.csv', index=False)"
   ]
  },
  {
   "cell_type": "code",
   "execution_count": null,
   "metadata": {},
   "outputs": [],
   "source": []
  },
  {
   "cell_type": "code",
   "execution_count": 279,
   "metadata": {},
   "outputs": [],
   "source": [
    "from collections import Counter\n",
    "\n",
    "C = Counter()\n",
    "def lol(name):\n",
    "    global C\n",
    "    for i in name.split():\n",
    "        C[i]+=1\n",
    "\n"
   ]
  },
  {
   "cell_type": "code",
   "execution_count": 280,
   "metadata": {},
   "outputs": [],
   "source": [
    "res[res['product_norm'].apply(lambda x: not bool(x))]['name_norm'].apply(lol);"
   ]
  },
  {
   "cell_type": "code",
   "execution_count": null,
   "metadata": {},
   "outputs": [],
   "source": []
  }
 ],
 "metadata": {
  "kernelspec": {
   "display_name": "Python 3",
   "language": "python",
   "name": "python3"
  },
  "language_info": {
   "codemirror_mode": {
    "name": "ipython",
    "version": 3
   },
   "file_extension": ".py",
   "mimetype": "text/x-python",
   "name": "python",
   "nbconvert_exporter": "python",
   "pygments_lexer": "ipython3",
   "version": "3.6.9"
  }
 },
 "nbformat": 4,
 "nbformat_minor": 4
}
