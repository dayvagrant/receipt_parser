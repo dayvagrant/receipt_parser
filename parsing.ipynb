{
 "cells": [
  {
   "cell_type": "code",
   "execution_count": 96,
   "metadata": {},
   "outputs": [],
   "source": [
    "from bs4 import BeautifulSoup\n",
    "import requests as req\n",
    "import re\n",
    "import numpy as np\n",
    "import pandas as pd"
   ]
  },
  {
   "cell_type": "code",
   "execution_count": 51,
   "metadata": {},
   "outputs": [],
   "source": [
    "katalog = [\n",
    "    'bakaleya', 'bytovaya-himiya', 'zamorozhennye-produkty', 'kolbasa-kopchennosti-myasnye-delikatesy',\n",
    "    'konditerskie-izdeliya', 'chay-kofe-kakao', 'hlebobulochnye-izdeliya', 'tovary-dlya-zhivotnyh',\n",
    "    'tovary-dlya-detey', 'specialnoe-pitanie', 'sladosti-i-konfety', 'ryba-i-moreprodukty', 'napitki-soki-vody',\n",
    "    'myaso-i-ptica', 'kulinariya', 'kosmetika-i-lichnaya-gigiena'\n",
    "]"
   ]
  },
  {
   "cell_type": "code",
   "execution_count": 92,
   "metadata": {},
   "outputs": [
    {
     "name": "stdout",
     "output_type": "stream",
     "text": [
      "Больше нет страниц для bakaleya, максимальная длина: 6\n",
      "Больше нет страниц для bytovaya-himiya, максимальная длина: 3\n",
      "Больше нет страниц для zamorozhennye-produkty, максимальная длина: 3\n",
      "Больше нет страниц для kolbasa-kopchennosti-myasnye-delikatesy, максимальная длина: 3\n",
      "Больше нет страниц для konditerskie-izdeliya, максимальная длина: 2\n",
      "Больше нет страниц для chay-kofe-kakao, максимальная длина: 3\n",
      "Больше нет страниц для hlebobulochnye-izdeliya, максимальная длина: 2\n",
      "Больше нет страниц для tovary-dlya-zhivotnyh, максимальная длина: 3\n",
      "Больше нет страниц для tovary-dlya-detey, максимальная длина: 4\n",
      "Больше нет страниц для specialnoe-pitanie, максимальная длина: 2\n",
      "Больше нет страниц для sladosti-i-konfety, максимальная длина: 5\n",
      "Больше нет страниц для ryba-i-moreprodukty, максимальная длина: 3\n",
      "Больше нет страниц для napitki-soki-vody, максимальная длина: 5\n",
      "Больше нет страниц для myaso-i-ptica, максимальная длина: 2\n",
      "Больше нет страниц для kulinariya, максимальная длина: 2\n",
      "Больше нет страниц для kosmetika-i-lichnaya-gigiena, максимальная длина: 3\n"
     ]
    }
   ],
   "source": [
    "brands = []\n",
    "\n",
    "url = \"http://pyaterochkaakcii.ru/katalog/{katalog}?page={page}\"\n",
    "for category in katalog:\n",
    "    for page in range(20):\n",
    "        resp = req.get(url.format(katalog=category, page=page))\n",
    "        if resp.status_code != 200:\n",
    "            print('ОШИБКА СТАТУСА', page, category)\n",
    "            break\n",
    "\n",
    "        soup = BeautifulSoup(resp.text, 'lxml')\n",
    "        res = soup.find_all(class_='name')\n",
    "        if not res:\n",
    "            print(f'Больше нет страниц для {category}, максимальная длина: {page}')\n",
    "            break\n",
    "        for name in res:\n",
    "            pattern = r'\"(\\w{2,})\"'\n",
    "            brand = re.findall(pattern, name.text)\n",
    "            if brand:\n",
    "                brands.append(brand[0])"
   ]
  },
  {
   "cell_type": "code",
   "execution_count": 102,
   "metadata": {},
   "outputs": [
    {
     "data": {
      "text/plain": [
       "(384,)"
      ]
     },
     "execution_count": 102,
     "metadata": {},
     "output_type": "execute_result"
    }
   ],
   "source": [
    "np.unique(brands).shape"
   ]
  },
  {
   "cell_type": "code",
   "execution_count": 98,
   "metadata": {},
   "outputs": [],
   "source": [
    "pd.Series(np.unique(brands)).to_csv('data/brands_patorochka.csv', index=False)"
   ]
  }
 ],
 "metadata": {
  "kernelspec": {
   "display_name": "Python 3",
   "language": "python",
   "name": "python3"
  },
  "language_info": {
   "codemirror_mode": {
    "name": "ipython",
    "version": 3
   },
   "file_extension": ".py",
   "mimetype": "text/x-python",
   "name": "python",
   "nbconvert_exporter": "python",
   "pygments_lexer": "ipython3",
   "version": "3.6.9"
  }
 },
 "nbformat": 4,
 "nbformat_minor": 4
}
