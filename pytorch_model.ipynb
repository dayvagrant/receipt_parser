{
 "cells": [
  {
   "cell_type": "code",
   "execution_count": 114,
   "metadata": {},
   "outputs": [
    {
     "name": "stdout",
     "output_type": "stream",
     "text": [
      "The autoreload extension is already loaded. To reload it, use:\n",
      "  %reload_ext autoreload\n"
     ]
    }
   ],
   "source": [
    "import pandas as pd\n",
    "import re\n",
    "from typing import Optional, Union, Dict\n",
    "from receipt_parser import RuleBased\n",
    "import numpy as np\n",
    "import matplotlib.pyplot as plt\n",
    "from sklearn.preprocessing import LabelEncoder\n",
    "from typing import Tuple\n",
    "\n",
    "\n",
    "%matplotlib inline\n",
    "%load_ext autoreload\n",
    "%autoreload 2"
   ]
  },
  {
   "cell_type": "code",
   "execution_count": null,
   "metadata": {},
   "outputs": [],
   "source": [
    "SEED = 1234\n",
    "\n",
    "random.seed(SEED)\n",
    "torch.manual_seed(SEED)\n",
    "torch.backends.cudnn.deterministic = True"
   ]
  },
  {
   "cell_type": "code",
   "execution_count": null,
   "metadata": {},
   "outputs": [],
   "source": []
  },
  {
   "cell_type": "code",
   "execution_count": 44,
   "metadata": {},
   "outputs": [
    {
     "data": {
      "text/plain": [
       "(51238, 2)"
      ]
     },
     "execution_count": 44,
     "metadata": {},
     "output_type": "execute_result"
    }
   ],
   "source": [
    "df = pd.read_csv('train_cat.csv').drop_duplicates('name_norm').dropna()\n",
    "df.shape"
   ]
  },
  {
   "cell_type": "code",
   "execution_count": null,
   "metadata": {},
   "outputs": [],
   "source": [
    "unknown_subwords_in_test = sum(1 for text in test_token_ids for token_id in text if token_id == 1)\n",
    "unknown_subwords_in_val = sum(1 for text in val_token_ids for token_id in text if token_id == 1)\n",
    "print('Количество случаев с неизвестными n-граммами символов в валидационной выборке',\n",
    "      unknown_subwords_in_test)\n",
    "print('Количество случаев с неизвестными n-граммами символов в валидационной выборке',\n",
    "      unknown_subwords_in_val)"
   ]
  },
  {
   "cell_type": "markdown",
   "metadata": {},
   "source": [
    "# TODO:\n",
    "\n",
    "1. Мне нужно добавить PADинги\n",
    "2. Нужно добавлять до определённой длины (сейчас это где-то 50, нужно это вычислять автоматически)\n",
    "3. Добавить verbose (ячейка выше)\n",
    "4. Наверное, вытащить vectoriser в отдельный класс\n",
    "5."
   ]
  },
  {
   "cell_type": "code",
   "execution_count": null,
   "metadata": {},
   "outputs": [],
   "source": []
  },
  {
   "cell_type": "code",
   "execution_count": null,
   "metadata": {},
   "outputs": [],
   "source": []
  },
  {
   "cell_type": "code",
   "execution_count": null,
   "metadata": {},
   "outputs": [],
   "source": []
  },
  {
   "cell_type": "code",
   "execution_count": 180,
   "metadata": {},
   "outputs": [],
   "source": [
    "class CategoryDataset(Dataset):\n",
    "    def __init__(self, cat_df: pd.DataFrame, vocab_size: int = 500, chunk_length=50, verbose: bool = False, pad_idx: int = 0):\n",
    "        # Prepare DataFrame\n",
    "        self.le = LabelEncoder()\n",
    "        self.cat_df = self.__transfrom_df(cat_df)\n",
    "        self.train, self.val, self.test = self.split_df(self.cat_df)\n",
    "        self._lookup_dict = {'train': self.train,\n",
    "                             'val': self.val,\n",
    "                             'test': self.test}\n",
    "        \n",
    "        # Train BPE model:\n",
    "        self.pad_idx = pad_idx\n",
    "        self.vocab_size = vocab_size\n",
    "        self.path_to_bpe = 'data_cat/train_bpe_model.yttm'\n",
    "        self.path_to_train = 'data_cat/train.txt'\n",
    "        self.save_texts_to_file(self.train['name_norm'], self.path_to_train)\n",
    "        self.tokenizer = self.build_bpe_model()\n",
    "        \n",
    "        self.set_split('train')\n",
    "    \n",
    "    def set_split(self, split=\"train\"):\n",
    "        \"\"\"\n",
    "        Selects the splits in the dataset.\n",
    "        split (str): one of \"train\", \"val\", or \"test\"\n",
    "        \"\"\"\n",
    "\n",
    "        self._target_df = self._lookup_dict[split]\n",
    "    \n",
    "    def build_bpe_model(self) -> yttm.BPE:\n",
    "        yttm.BPE.train(\n",
    "            data=self.path_to_train,\n",
    "            vocab_size=self.vocab_size,\n",
    "            model=self.path_to_bpe,\n",
    "            pad_id=self.pad_idx\n",
    "        )\n",
    "        return yttm.BPE(self.path_to_bpe)\n",
    "        \n",
    "    def __transfrom_df(self, df: pd.DataFrame) -> pd.DataFrame:\n",
    "        df = df.drop_duplicates('name_norm').dropna()\n",
    "        df = df.rename(columns = {'Категория': 'catergory'})\n",
    "        df['target'] = self.le.fit_transform(df['catergory'])\n",
    "        return df\n",
    "\n",
    "    @staticmethod\n",
    "    def save_texts_to_file(texts: pd.Series, out_file: str) -> None:\n",
    "        with open(out_file, 'w') as outf:\n",
    "            outf.write('\\n'.join(texts))\n",
    "    \n",
    "    @staticmethod\n",
    "    def split_df(df: pd.DataFrame) -> Tuple[pd.DataFrame, pd.DataFrame, pd.DataFrame]:\n",
    "        \"\"\"\n",
    "        60% - train set,\n",
    "        20% - validation set,\n",
    "        20% - test set\n",
    "        \n",
    "        Return train, validation, test.\n",
    "        \"\"\"\n",
    "\n",
    "        return np.split(df.sample(frac=1), [int(.6*len(df)), int(.8*len(df))])\n",
    "    \n",
    "    def decode_target(self, target: int) -> str:\n",
    "        return self.le.inverse_transform([target])[0]\n",
    "    \n",
    "    def __len__(self):\n",
    "        return len(self._target_df)\n",
    "\n",
    "    def __getitem__(self, index):\n",
    "        row = self._target_df.iloc[index]\n",
    "        cat_vector = self.tokenizer.encode(row.name_norm)\n",
    "        target = row.target\n",
    "        \n",
    "        return {'x_data': cat_vector,\n",
    "                'y_target': target}\n",
    "    "
   ]
  },
  {
   "cell_type": "code",
   "execution_count": 181,
   "metadata": {},
   "outputs": [],
   "source": [
    "CD = CategoryDataset(df)"
   ]
  },
  {
   "cell_type": "code",
   "execution_count": 183,
   "metadata": {},
   "outputs": [
    {
     "data": {
      "text/plain": [
       "{'x_data': [456, 462, 278, 15, 272, 134, 28, 92, 170, 7, 444], 'y_target': 18}"
      ]
     },
     "execution_count": 183,
     "metadata": {},
     "output_type": "execute_result"
    }
   ],
   "source": [
    "CD[3]"
   ]
  },
  {
   "cell_type": "code",
   "execution_count": null,
   "metadata": {},
   "outputs": [],
   "source": []
  },
  {
   "cell_type": "code",
   "execution_count": null,
   "metadata": {},
   "outputs": [],
   "source": [
    "ensure length"
   ]
  },
  {
   "cell_type": "code",
   "execution_count": null,
   "metadata": {},
   "outputs": [],
   "source": []
  },
  {
   "cell_type": "code",
   "execution_count": null,
   "metadata": {},
   "outputs": [],
   "source": []
  },
  {
   "cell_type": "code",
   "execution_count": 165,
   "metadata": {},
   "outputs": [],
   "source": [
    "def generate_batch(batch):\n",
    "    print(batch)\n",
    "    \n",
    "    label = torch.tensor([entry['y_target'] for entry in batch])\n",
    "    text = [entry['x_data'] for entry in batch]\n",
    "    # torch.Tensor.cumsum returns the cumulative sum\n",
    "    # of elements in the dimension dim.\n",
    "    # torch.Tensor([1.0, 2.0, 3.0]).cumsum(dim=0)\n",
    "\n",
    "    offsets = torch.tensor(offsets[:-1]).cumsum(dim=0)\n",
    "    text = torch.cat(text)\n",
    "    return text, offsets, label"
   ]
  },
  {
   "cell_type": "code",
   "execution_count": null,
   "metadata": {},
   "outputs": [],
   "source": []
  },
  {
   "cell_type": "code",
   "execution_count": null,
   "metadata": {},
   "outputs": [],
   "source": []
  },
  {
   "cell_type": "code",
   "execution_count": null,
   "metadata": {},
   "outputs": [],
   "source": []
  },
  {
   "cell_type": "code",
   "execution_count": 166,
   "metadata": {},
   "outputs": [],
   "source": [
    "from torch.utils.data import DataLoader\n",
    "\n",
    "BATCH_SIZE = 16\n",
    "data = DataLoader(CD, batch_size=BATCH_SIZE, shuffle=True,\n",
    "                      collate_fn=generate_batch)"
   ]
  },
  {
   "cell_type": "code",
   "execution_count": 169,
   "metadata": {},
   "outputs": [
    {
     "name": "stdout",
     "output_type": "stream",
     "text": [
      "[{'x_data': [118, 19, 80, 262, 261, 97, 4, 303, 23, 130, 78, 112, 34, 147, 13, 110, 17, 12, 183, 418, 85, 87], 'y_target': 15}, {'x_data': [89, 372, 253, 123, 298, 100, 101, 6, 375, 100], 'y_target': 2}, {'x_data': [235, 472, 290, 14, 379, 210, 172, 184, 116, 22, 95, 94, 103, 8, 22, 150], 'y_target': 7}, {'x_data': [208, 10, 286, 87, 377, 139, 85, 423, 166, 381], 'y_target': 7}, {'x_data': [75, 244, 10, 341, 161, 17, 253, 84, 98, 11, 25, 147, 312], 'y_target': 14}, {'x_data': [111, 6, 263, 193, 9, 85, 405, 128, 113, 458, 26, 183, 232, 290, 83, 122], 'y_target': 18}, {'x_data': [462, 179, 74, 150, 25, 320, 16, 253, 27, 412], 'y_target': 4}, {'x_data': [491, 8, 131, 450, 212, 102, 21, 75, 215, 25, 122, 110], 'y_target': 8}, {'x_data': [235, 289, 10, 376, 106, 8, 180, 16, 95, 192, 371, 296, 470], 'y_target': 7}, {'x_data': [202, 202, 202, 334, 109, 102, 8, 81, 102, 338, 224], 'y_target': 20}, {'x_data': [363, 109, 126, 221, 80, 182, 23, 80, 318], 'y_target': 14}, {'x_data': [472, 172, 76, 96, 110, 77, 139, 85, 423, 247, 8, 22], 'y_target': 7}, {'x_data': [235, 274, 409, 163, 114, 237], 'y_target': 7}, {'x_data': [221, 198, 76, 110, 26, 82], 'y_target': 19}, {'x_data': [109, 84, 141, 253, 10, 87, 115, 137, 184, 113, 455, 187, 7, 76, 149, 91, 26, 131, 75, 34, 11, 19, 104, 27, 158], 'y_target': 19}, {'x_data': [402, 381, 12, 165, 344, 101, 7, 97, 164], 'y_target': 7}]\n"
     ]
    },
    {
     "ename": "ValueError",
     "evalue": "",
     "output_type": "error",
     "traceback": [
      "\u001b[0;31m---------------------------------------------------------------------------\u001b[0m",
      "\u001b[0;31mValueError\u001b[0m                                Traceback (most recent call last)",
      "\u001b[0;32m<ipython-input-169-ba87b00795d3>\u001b[0m in \u001b[0;36m<module>\u001b[0;34m\u001b[0m\n\u001b[0;32m----> 1\u001b[0;31m \u001b[0;32mfor\u001b[0m \u001b[0mi\u001b[0m \u001b[0;32min\u001b[0m \u001b[0mdata\u001b[0m\u001b[0;34m:\u001b[0m\u001b[0;34m\u001b[0m\u001b[0;34m\u001b[0m\u001b[0m\n\u001b[0m\u001b[1;32m      2\u001b[0m     \u001b[0;32mpass\u001b[0m\u001b[0;34m\u001b[0m\u001b[0;34m\u001b[0m\u001b[0m\n",
      "\u001b[0;32m~/.local/lib/python3.7/site-packages/torch/utils/data/dataloader.py\u001b[0m in \u001b[0;36m__next__\u001b[0;34m(self)\u001b[0m\n\u001b[1;32m    343\u001b[0m \u001b[0;34m\u001b[0m\u001b[0m\n\u001b[1;32m    344\u001b[0m     \u001b[0;32mdef\u001b[0m \u001b[0m__next__\u001b[0m\u001b[0;34m(\u001b[0m\u001b[0mself\u001b[0m\u001b[0;34m)\u001b[0m\u001b[0;34m:\u001b[0m\u001b[0;34m\u001b[0m\u001b[0;34m\u001b[0m\u001b[0m\n\u001b[0;32m--> 345\u001b[0;31m         \u001b[0mdata\u001b[0m \u001b[0;34m=\u001b[0m \u001b[0mself\u001b[0m\u001b[0;34m.\u001b[0m\u001b[0m_next_data\u001b[0m\u001b[0;34m(\u001b[0m\u001b[0;34m)\u001b[0m\u001b[0;34m\u001b[0m\u001b[0;34m\u001b[0m\u001b[0m\n\u001b[0m\u001b[1;32m    346\u001b[0m         \u001b[0mself\u001b[0m\u001b[0;34m.\u001b[0m\u001b[0m_num_yielded\u001b[0m \u001b[0;34m+=\u001b[0m \u001b[0;36m1\u001b[0m\u001b[0;34m\u001b[0m\u001b[0;34m\u001b[0m\u001b[0m\n\u001b[1;32m    347\u001b[0m         \u001b[0;32mif\u001b[0m \u001b[0mself\u001b[0m\u001b[0;34m.\u001b[0m\u001b[0m_dataset_kind\u001b[0m \u001b[0;34m==\u001b[0m \u001b[0m_DatasetKind\u001b[0m\u001b[0;34m.\u001b[0m\u001b[0mIterable\u001b[0m \u001b[0;32mand\u001b[0m\u001b[0;31m \u001b[0m\u001b[0;31m\\\u001b[0m\u001b[0;34m\u001b[0m\u001b[0;34m\u001b[0m\u001b[0m\n",
      "\u001b[0;32m~/.local/lib/python3.7/site-packages/torch/utils/data/dataloader.py\u001b[0m in \u001b[0;36m_next_data\u001b[0;34m(self)\u001b[0m\n\u001b[1;32m    383\u001b[0m     \u001b[0;32mdef\u001b[0m \u001b[0m_next_data\u001b[0m\u001b[0;34m(\u001b[0m\u001b[0mself\u001b[0m\u001b[0;34m)\u001b[0m\u001b[0;34m:\u001b[0m\u001b[0;34m\u001b[0m\u001b[0;34m\u001b[0m\u001b[0m\n\u001b[1;32m    384\u001b[0m         \u001b[0mindex\u001b[0m \u001b[0;34m=\u001b[0m \u001b[0mself\u001b[0m\u001b[0;34m.\u001b[0m\u001b[0m_next_index\u001b[0m\u001b[0;34m(\u001b[0m\u001b[0;34m)\u001b[0m  \u001b[0;31m# may raise StopIteration\u001b[0m\u001b[0;34m\u001b[0m\u001b[0;34m\u001b[0m\u001b[0m\n\u001b[0;32m--> 385\u001b[0;31m         \u001b[0mdata\u001b[0m \u001b[0;34m=\u001b[0m \u001b[0mself\u001b[0m\u001b[0;34m.\u001b[0m\u001b[0m_dataset_fetcher\u001b[0m\u001b[0;34m.\u001b[0m\u001b[0mfetch\u001b[0m\u001b[0;34m(\u001b[0m\u001b[0mindex\u001b[0m\u001b[0;34m)\u001b[0m  \u001b[0;31m# may raise StopIteration\u001b[0m\u001b[0;34m\u001b[0m\u001b[0;34m\u001b[0m\u001b[0m\n\u001b[0m\u001b[1;32m    386\u001b[0m         \u001b[0;32mif\u001b[0m \u001b[0mself\u001b[0m\u001b[0;34m.\u001b[0m\u001b[0m_pin_memory\u001b[0m\u001b[0;34m:\u001b[0m\u001b[0;34m\u001b[0m\u001b[0;34m\u001b[0m\u001b[0m\n\u001b[1;32m    387\u001b[0m             \u001b[0mdata\u001b[0m \u001b[0;34m=\u001b[0m \u001b[0m_utils\u001b[0m\u001b[0;34m.\u001b[0m\u001b[0mpin_memory\u001b[0m\u001b[0;34m.\u001b[0m\u001b[0mpin_memory\u001b[0m\u001b[0;34m(\u001b[0m\u001b[0mdata\u001b[0m\u001b[0;34m)\u001b[0m\u001b[0;34m\u001b[0m\u001b[0;34m\u001b[0m\u001b[0m\n",
      "\u001b[0;32m~/.local/lib/python3.7/site-packages/torch/utils/data/_utils/fetch.py\u001b[0m in \u001b[0;36mfetch\u001b[0;34m(self, possibly_batched_index)\u001b[0m\n\u001b[1;32m     45\u001b[0m         \u001b[0;32melse\u001b[0m\u001b[0;34m:\u001b[0m\u001b[0;34m\u001b[0m\u001b[0;34m\u001b[0m\u001b[0m\n\u001b[1;32m     46\u001b[0m             \u001b[0mdata\u001b[0m \u001b[0;34m=\u001b[0m \u001b[0mself\u001b[0m\u001b[0;34m.\u001b[0m\u001b[0mdataset\u001b[0m\u001b[0;34m[\u001b[0m\u001b[0mpossibly_batched_index\u001b[0m\u001b[0;34m]\u001b[0m\u001b[0;34m\u001b[0m\u001b[0;34m\u001b[0m\u001b[0m\n\u001b[0;32m---> 47\u001b[0;31m         \u001b[0;32mreturn\u001b[0m \u001b[0mself\u001b[0m\u001b[0;34m.\u001b[0m\u001b[0mcollate_fn\u001b[0m\u001b[0;34m(\u001b[0m\u001b[0mdata\u001b[0m\u001b[0;34m)\u001b[0m\u001b[0;34m\u001b[0m\u001b[0;34m\u001b[0m\u001b[0m\n\u001b[0m",
      "\u001b[0;32m<ipython-input-165-243265b06189>\u001b[0m in \u001b[0;36mgenerate_batch\u001b[0;34m(batch)\u001b[0m\n\u001b[1;32m      1\u001b[0m \u001b[0;32mdef\u001b[0m \u001b[0mgenerate_batch\u001b[0m\u001b[0;34m(\u001b[0m\u001b[0mbatch\u001b[0m\u001b[0;34m)\u001b[0m\u001b[0;34m:\u001b[0m\u001b[0;34m\u001b[0m\u001b[0;34m\u001b[0m\u001b[0m\n\u001b[1;32m      2\u001b[0m     \u001b[0mprint\u001b[0m\u001b[0;34m(\u001b[0m\u001b[0mbatch\u001b[0m\u001b[0;34m)\u001b[0m\u001b[0;34m\u001b[0m\u001b[0;34m\u001b[0m\u001b[0m\n\u001b[0;32m----> 3\u001b[0;31m     \u001b[0;32mraise\u001b[0m \u001b[0mValueError\u001b[0m\u001b[0;34m\u001b[0m\u001b[0;34m\u001b[0m\u001b[0m\n\u001b[0m\u001b[1;32m      4\u001b[0m \u001b[0;34m\u001b[0m\u001b[0m\n\u001b[1;32m      5\u001b[0m     \u001b[0mlabel\u001b[0m \u001b[0;34m=\u001b[0m \u001b[0mtorch\u001b[0m\u001b[0;34m.\u001b[0m\u001b[0mtensor\u001b[0m\u001b[0;34m(\u001b[0m\u001b[0;34m[\u001b[0m\u001b[0mentry\u001b[0m\u001b[0;34m[\u001b[0m\u001b[0;34m'y_target'\u001b[0m\u001b[0;34m]\u001b[0m \u001b[0;32mfor\u001b[0m \u001b[0mentry\u001b[0m \u001b[0;32min\u001b[0m \u001b[0mbatch\u001b[0m\u001b[0;34m]\u001b[0m\u001b[0;34m)\u001b[0m\u001b[0;34m\u001b[0m\u001b[0;34m\u001b[0m\u001b[0m\n",
      "\u001b[0;31mValueError\u001b[0m: "
     ]
    }
   ],
   "source": [
    "for i in data:\n",
    "    pass"
   ]
  },
  {
   "cell_type": "code",
   "execution_count": 161,
   "metadata": {},
   "outputs": [
    {
     "data": {
      "text/html": [
       "<div>\n",
       "<style scoped>\n",
       "    .dataframe tbody tr th:only-of-type {\n",
       "        vertical-align: middle;\n",
       "    }\n",
       "\n",
       "    .dataframe tbody tr th {\n",
       "        vertical-align: top;\n",
       "    }\n",
       "\n",
       "    .dataframe thead th {\n",
       "        text-align: right;\n",
       "    }\n",
       "</style>\n",
       "<table border=\"1\" class=\"dataframe\">\n",
       "  <thead>\n",
       "    <tr style=\"text-align: right;\">\n",
       "      <th></th>\n",
       "      <th>name_norm</th>\n",
       "      <th>catergory</th>\n",
       "      <th>target</th>\n",
       "    </tr>\n",
       "  </thead>\n",
       "  <tbody>\n",
       "    <tr>\n",
       "      <th>26833</th>\n",
       "      <td>кондиционер белья    эфирным маслом эвкалипта</td>\n",
       "      <td>Красота, гигиена, бытовая химия</td>\n",
       "      <td>7</td>\n",
       "    </tr>\n",
       "    <tr>\n",
       "      <th>33275</th>\n",
       "      <td>туалетная бумага   слоя рулонов</td>\n",
       "      <td>Красота, гигиена, бытовая химия</td>\n",
       "      <td>7</td>\n",
       "    </tr>\n",
       "    <tr>\n",
       "      <th>5726</th>\n",
       "      <td>пена  бритья мужская чувствительной кожи</td>\n",
       "      <td>Красота, гигиена, бытовая химия</td>\n",
       "      <td>7</td>\n",
       "    </tr>\n",
       "    <tr>\n",
       "      <th>9207</th>\n",
       "      <td>огурчики малосольные бочковые по деревенски</td>\n",
       "      <td>Соусы, орехи, консервы</td>\n",
       "      <td>16</td>\n",
       "    </tr>\n",
       "    <tr>\n",
       "      <th>5012</th>\n",
       "      <td>герметик гермент реставратор швов</td>\n",
       "      <td>Товары для дома и дачи</td>\n",
       "      <td>17</td>\n",
       "    </tr>\n",
       "    <tr>\n",
       "      <th>...</th>\n",
       "      <td>...</td>\n",
       "      <td>...</td>\n",
       "      <td>...</td>\n",
       "    </tr>\n",
       "    <tr>\n",
       "      <th>42627</th>\n",
       "      <td>ополаскиватель</td>\n",
       "      <td>Красота, гигиена, бытовая химия</td>\n",
       "      <td>7</td>\n",
       "    </tr>\n",
       "    <tr>\n",
       "      <th>26691</th>\n",
       "      <td>фрикадельки говядины бульоне</td>\n",
       "      <td>Товары для мам и детей</td>\n",
       "      <td>18</td>\n",
       "    </tr>\n",
       "    <tr>\n",
       "      <th>17015</th>\n",
       "      <td>шампунь бальзам   всех типов волос белая птица</td>\n",
       "      <td>Красота, гигиена, бытовая химия</td>\n",
       "      <td>7</td>\n",
       "    </tr>\n",
       "    <tr>\n",
       "      <th>10894</th>\n",
       "      <td>смесь  малоежка молочная клубника месяцев</td>\n",
       "      <td>Товары для мам и детей</td>\n",
       "      <td>18</td>\n",
       "    </tr>\n",
       "    <tr>\n",
       "      <th>7155</th>\n",
       "      <td>ветчина курицы халяль</td>\n",
       "      <td>Птица, мясо, деликатесы</td>\n",
       "      <td>14</td>\n",
       "    </tr>\n",
       "  </tbody>\n",
       "</table>\n",
       "<p>30742 rows × 3 columns</p>\n",
       "</div>"
      ],
      "text/plain": [
       "                                            name_norm  \\\n",
       "26833   кондиционер белья    эфирным маслом эвкалипта   \n",
       "33275                 туалетная бумага   слоя рулонов   \n",
       "5726         пена  бритья мужская чувствительной кожи   \n",
       "9207      огурчики малосольные бочковые по деревенски   \n",
       "5012                герметик гермент реставратор швов   \n",
       "...                                               ...   \n",
       "42627                               ополаскиватель      \n",
       "26691                    фрикадельки говядины бульоне   \n",
       "17015  шампунь бальзам   всех типов волос белая птица   \n",
       "10894       смесь  малоежка молочная клубника месяцев   \n",
       "7155                            ветчина курицы халяль   \n",
       "\n",
       "                             catergory  target  \n",
       "26833  Красота, гигиена, бытовая химия       7  \n",
       "33275  Красота, гигиена, бытовая химия       7  \n",
       "5726   Красота, гигиена, бытовая химия       7  \n",
       "9207            Соусы, орехи, консервы      16  \n",
       "5012            Товары для дома и дачи      17  \n",
       "...                                ...     ...  \n",
       "42627  Красота, гигиена, бытовая химия       7  \n",
       "26691           Товары для мам и детей      18  \n",
       "17015  Красота, гигиена, бытовая химия       7  \n",
       "10894           Товары для мам и детей      18  \n",
       "7155           Птица, мясо, деликатесы      14  \n",
       "\n",
       "[30742 rows x 3 columns]"
      ]
     },
     "execution_count": 161,
     "metadata": {},
     "output_type": "execute_result"
    }
   ],
   "source": [
    "CD.train"
   ]
  },
  {
   "cell_type": "code",
   "execution_count": 162,
   "metadata": {},
   "outputs": [
    {
     "data": {
      "text/plain": [
       "'Красота, гигиена, бытовая химия'"
      ]
     },
     "execution_count": 162,
     "metadata": {},
     "output_type": "execute_result"
    }
   ],
   "source": [
    "CD.decode_target(7)"
   ]
  },
  {
   "cell_type": "code",
   "execution_count": 171,
   "metadata": {},
   "outputs": [
    {
     "data": {
      "text/plain": [
       "18"
      ]
     },
     "execution_count": 171,
     "metadata": {},
     "output_type": "execute_result"
    }
   ],
   "source": [
    "len(CD[0]['x_data'])"
   ]
  },
  {
   "cell_type": "code",
   "execution_count": null,
   "metadata": {},
   "outputs": [],
   "source": []
  },
  {
   "cell_type": "code",
   "execution_count": 47,
   "metadata": {},
   "outputs": [],
   "source": [
    "def save_texts_to_file(texts, out_file):\n",
    "    with open(out_file, 'w') as outf:\n",
    "        outf.write('\\n'.join(texts))"
   ]
  },
  {
   "cell_type": "code",
   "execution_count": 48,
   "metadata": {},
   "outputs": [],
   "source": [
    "train, validate, test = split_and_save_df(df.copy())"
   ]
  },
  {
   "cell_type": "code",
   "execution_count": 50,
   "metadata": {},
   "outputs": [],
   "source": [
    "PATH_TO_TRAIN_TXT = 'data_cat/train.txt'\n",
    "save_texts_to_file(train['name_norm'], PATH_TO_TRAIN_TXT)"
   ]
  },
  {
   "cell_type": "code",
   "execution_count": 51,
   "metadata": {},
   "outputs": [],
   "source": [
    "import youtokentome as yttm"
   ]
  },
  {
   "cell_type": "code",
   "execution_count": 87,
   "metadata": {},
   "outputs": [],
   "source": [
    "BPE_MODEL_FILENAME = 'data_cat/train_bpe_model.yttm'\n",
    "yttm.BPE.train(data=PATH_TO_TRAIN_TXT, vocab_size=500, model=BPE_MODEL_FILENAME);"
   ]
  },
  {
   "cell_type": "code",
   "execution_count": 88,
   "metadata": {},
   "outputs": [],
   "source": [
    "tokenizer = yttm.BPE(BPE_MODEL_FILENAME)"
   ]
  },
  {
   "cell_type": "code",
   "execution_count": 89,
   "metadata": {},
   "outputs": [
    {
     "name": "stdout",
     "output_type": "stream",
     "text": [
      "<PAD> <UNK> <BOS> <EOS> ▁ о а е н и к р с л т м в й у п ы я д б ь г ч з ш ж \" х ц ф ю щ э ' & ё ъ e a s r c m t o i l n h f k d b u ` y … p » « x g z v \\ ’ – ­ q ß w j ▁к ▁с ▁п на ▁м ны но ро ка ол ра ль ст ко ки ▁в ер ни ▁ко ▁б ре ный ла ет ва ли ная ▁т ▁г ло ри ▁о ен во ▁д ▁\" ле то ▁ч ель ру оло ▁ма ▁а ▁ш ти ес ▁з ▁на та ор од ей ми ок ные ма не ное ▁ка вы ▁и ▁у ▁ф ски ус ам ной ▁со же ба ▁ба ▁па ек ин уб ола го рм ска оро це ▁я ит ом ван са вый ▁воло ▁су ▁волос ов ез пи ди ▁чер ▁корм гу олад ▁ли ем околад он ▁кон ▁шоколад ша га ▁х кой ста жи ▁са си ▁ча ▁ку ▁э щи ▁сы ▁моло ▁кре чи ца ве бор ун ▁по ▁ц па ▁чай да ком ▁пи ▁про ха вет ния ье ой ▁ла ци ▁см вой ▁мес ▁набор ▁ва рт вая ▁ви цев ▁мя еч ви ние рован шек ▁за кт ▁меся ▁крем оль ▁месяцев со ран ▁пер лаж бло ред ня ля ных лет ский ▁не ▁кошек ство ▁под за огу ▁шам ▁ябло ▁кол ья зи ду ▁дет ▁ми ▁шамп ▁мас ▁сред кто фет огурт ▁гель ый унь ▁шампунь жа ▁ро шка ▁ра оч ном ская ▁чи лад ▁ру ▁зуб ▁ст ▁кра ▁при де ▁й ▁во чес ток че тель мо сть ▁кл би кус ков раль ▁соус ▁колба ▁пю чный ▁сыр ▁пюре ▁зубная ▁но питок ▁напиток ▁кури ника ▁об ры енный ▁средство ▁фи ▁йогурт щий ▁вкус ▁иг сти ▁мы ▁бе нти ▁соба лы ▁без ▁молоч ▁же ▁то ше ▁печ ▁сух ▁черный те рант ▁ре ▁си ▁ле зо ту ▁собак ▁эк ▁смес ▁ло зам ща овя ▁говя ного вер ▁ду ▁цвет ще ▁смесь ку ▁яблоко ▁жи ▁паста ▁фру ▁колбаса ▁клуб рома ▁масло ▁печен су кая ▁конфет ▁ри ным фе пер ▁би лю ода ками жен ▁сти ▁ин ▁от ▁арома итель кий ▁анти ющий кое оли ▁ос ▁детей ▁те до ги рованный ▁му кра вое ке стра ▁вкусом воро ты ▁баль ▁\"\" ери ▁ту ▁бу ▁ме ▁душа ▁говяди ник лен фи ▁бальзам пче ▁сли ▁кру ▁яг ▁сыро нов ▁сухой ватель ▁све том цион цы ся ря хо ▁лица ▁моро ши ды сто ские ▁печенье вые ▁конфеты орт ▁кар стя рава леб ▁фрукто ▁нату ▁щ ▁' рей ▁кофе ▁пит ▁экстра ▁ки ▁питье тья кс ▁мыло ▁из ▁сп ▁гла хлаж ▁мор ▁каша ▁охлаж ден ▁хлеб тив ▁сок ▁гру ▁свеже ▁мака ▁игру ▁поро шки ▁кни ▁ап ▁ово ▁та одо ▁мо ▁пак ▁ша ▁натураль ▁дез рам ▁до ▁ком ▁тома тар ▁кус ▁краска тра ▁кожи ели дицион ▁мали ▁дезодо рки ▁ов ▁уни сс\n"
     ]
    }
   ],
   "source": [
    "print(' '.join(tokenizer.vocab()))"
   ]
  },
  {
   "cell_type": "code",
   "execution_count": 90,
   "metadata": {},
   "outputs": [
    {
     "name": "stdout",
     "output_type": "stream",
     "text": [
      "пирожное  эклеры крем брюле замороженное\n",
      "[207, 83, 29, 134, 343, 13, 92, 20, 234, 95, 11, 34, 112, 123, 142, 156, 377, 134]\n"
     ]
    }
   ],
   "source": [
    "print(train['name_norm'].values[1])\n",
    "print(tokenizer.encode(train['name_norm'].values[1]))"
   ]
  },
  {
   "cell_type": "code",
   "execution_count": 141,
   "metadata": {},
   "outputs": [
    {
     "data": {
      "text/plain": [
       "7"
      ]
     },
     "execution_count": 141,
     "metadata": {},
     "output_type": "execute_result"
    }
   ],
   "source": [
    "df.iloc[2].target"
   ]
  },
  {
   "cell_type": "code",
   "execution_count": 138,
   "metadata": {},
   "outputs": [],
   "source": [
    "q = train.iloc[3]"
   ]
  },
  {
   "cell_type": "code",
   "execution_count": 139,
   "metadata": {},
   "outputs": [
    {
     "data": {
      "text/plain": [
       "[268, 408, 494, 79, 207, 178, 4, 377, 247, 353, 276, 370, 381, 423]"
      ]
     },
     "execution_count": 139,
     "metadata": {},
     "output_type": "execute_result"
    }
   ],
   "source": [
    "tokenizer.encode(q.name_norm)"
   ]
  },
  {
   "cell_type": "code",
   "execution_count": 172,
   "metadata": {},
   "outputs": [],
   "source": [
    "train_token_ids = tokenizer.encode(train['name_norm'].to_list())\n",
    "test_token_ids = tokenizer.encode(test['name_norm'].to_list())\n",
    "val_token_ids = tokenizer.encode(validate['name_norm'].to_list(), bos=True, eos=True)"
   ]
  },
  {
   "cell_type": "code",
   "execution_count": 179,
   "metadata": {},
   "outputs": [
    {
     "data": {
      "text/plain": [
       "52"
      ]
     },
     "execution_count": 179,
     "metadata": {},
     "output_type": "execute_result"
    }
   ],
   "source": [
    "max([len(x) for x in val_token_ids])"
   ]
  },
  {
   "cell_type": "code",
   "execution_count": null,
   "metadata": {},
   "outputs": [],
   "source": []
  },
  {
   "cell_type": "code",
   "execution_count": null,
   "metadata": {},
   "outputs": [],
   "source": []
  },
  {
   "cell_type": "code",
   "execution_count": 92,
   "metadata": {},
   "outputs": [
    {
     "data": {
      "image/png": "[encoded data removed]",
      "text/plain": [
       "<Figure size 432x288 with 1 Axes>"
      ]
     },
     "metadata": {
      "needs_background": "light"
     },
     "output_type": "display_data"
    }
   ],
   "source": [
    "plt.hist([len(sent) for sent in train_token_ids], bins=30)\n",
    "plt.title('Распределение длин фрагментов в токенах')\n",
    "plt.yscale('log');"
   ]
  },
  {
   "cell_type": "code",
   "execution_count": 93,
   "metadata": {},
   "outputs": [
    {
     "data": {
      "image/png": "[encoded data removed]",
      "text/plain": [
       "<Figure size 432x288 with 1 Axes>"
      ]
     },
     "metadata": {
      "needs_background": "light"
     },
     "output_type": "display_data"
    }
   ],
   "source": [
    "token_counts = np.bincount([token_id for text in train_token_ids for token_id in text])\n",
    "plt.hist(token_counts, bins=50)\n",
    "plt.title('Распределение количества упоминаний токенов')\n",
    "plt.yscale('log');"
   ]
  },
  {
   "cell_type": "code",
   "execution_count": 96,
   "metadata": {},
   "outputs": [
    {
     "name": "stdout",
     "output_type": "stream",
     "text": [
      "Количество случаев с неизвестными n-граммами символов в валидационной выборке 0\n",
      "Количество случаев с неизвестными n-граммами символов в валидационной выборке 3\n"
     ]
    }
   ],
   "source": [
    "unknown_subwords_in_test = sum(1 for text in test_token_ids for token_id in text if token_id == 1)\n",
    "unknown_subwords_in_val = sum(1 for text in val_token_ids for token_id in text if token_id == 1)\n",
    "print('Количество случаев с неизвестными n-граммами символов в валидационной выборке',\n",
    "      unknown_subwords_in_test)\n",
    "print('Количество случаев с неизвестными n-граммами символов в валидационной выборке',\n",
    "      unknown_subwords_in_val)"
   ]
  },
  {
   "cell_type": "code",
   "execution_count": 97,
   "metadata": {},
   "outputs": [],
   "source": [
    "from torch.utils.data import Dataset"
   ]
  },
  {
   "cell_type": "code",
   "execution_count": 99,
   "metadata": {},
   "outputs": [
    {
     "data": {
      "text/plain": [
       "[2,\n",
       " 437,\n",
       " 328,\n",
       " 350,\n",
       " 180,\n",
       " 6,\n",
       " 103,\n",
       " 11,\n",
       " 34,\n",
       " 33,\n",
       " 115,\n",
       " 143,\n",
       " 124,\n",
       " 26,\n",
       " 150,\n",
       " 184,\n",
       " 399,\n",
       " 171,\n",
       " 93,\n",
       " 90,\n",
       " 3]"
      ]
     },
     "execution_count": 99,
     "metadata": {},
     "output_type": "execute_result"
    }
   ],
   "source": [
    "train_token_ids[2]"
   ]
  },
  {
   "cell_type": "code",
   "execution_count": 100,
   "metadata": {},
   "outputs": [],
   "source": [
    "import torch\n",
    "from torch import nn\n",
    "from torch.nn import functional as F"
   ]
  },
  {
   "cell_type": "code",
   "execution_count": 102,
   "metadata": {},
   "outputs": [
    {
     "data": {
      "text/plain": [
       "tensor([2])"
      ]
     },
     "execution_count": 102,
     "metadata": {},
     "output_type": "execute_result"
    }
   ],
   "source": [
    "torch.tensor([2])"
   ]
  },
  {
   "cell_type": "code",
   "execution_count": 105,
   "metadata": {},
   "outputs": [
    {
     "data": {
      "text/html": [
       "<div>\n",
       "<style scoped>\n",
       "    .dataframe tbody tr th:only-of-type {\n",
       "        vertical-align: middle;\n",
       "    }\n",
       "\n",
       "    .dataframe tbody tr th {\n",
       "        vertical-align: top;\n",
       "    }\n",
       "\n",
       "    .dataframe thead th {\n",
       "        text-align: right;\n",
       "    }\n",
       "</style>\n",
       "<table border=\"1\" class=\"dataframe\">\n",
       "  <thead>\n",
       "    <tr style=\"text-align: right;\">\n",
       "      <th></th>\n",
       "      <th>name_norm</th>\n",
       "      <th>Категория</th>\n",
       "    </tr>\n",
       "  </thead>\n",
       "  <tbody>\n",
       "    <tr>\n",
       "      <th>17365</th>\n",
       "      <td>соус барилла</td>\n",
       "      <td>Соусы, орехи, консервы</td>\n",
       "    </tr>\n",
       "    <tr>\n",
       "      <th>34637</th>\n",
       "      <td>пирожное  эклеры крем брюле замороженное</td>\n",
       "      <td>Замороженные продукты</td>\n",
       "    </tr>\n",
       "    <tr>\n",
       "      <th>44625</th>\n",
       "      <td>конфеты   молочного шоколада трюфельной начинк...</td>\n",
       "      <td>Хлеб, сладости, снеки</td>\n",
       "    </tr>\n",
       "    <tr>\n",
       "      <th>8452</th>\n",
       "      <td>гель душа   малина пион женский цветочным аром...</td>\n",
       "      <td>Красота, гигиена, бытовая химия</td>\n",
       "    </tr>\n",
       "    <tr>\n",
       "      <th>21918</th>\n",
       "      <td>лосьон после бритья   экстремальная свежесть</td>\n",
       "      <td>Красота, гигиена, бытовая химия</td>\n",
       "    </tr>\n",
       "    <tr>\n",
       "      <th>...</th>\n",
       "      <td>...</td>\n",
       "      <td>...</td>\n",
       "    </tr>\n",
       "    <tr>\n",
       "      <th>47301</th>\n",
       "      <td>смесь молочная сухая  гипоаллергенный \"\" питан...</td>\n",
       "      <td>Товары для мам и детей</td>\n",
       "    </tr>\n",
       "    <tr>\n",
       "      <th>46297</th>\n",
       "      <td>спрей  ванной комнаты</td>\n",
       "      <td>Красота, гигиена, бытовая химия</td>\n",
       "    </tr>\n",
       "    <tr>\n",
       "      <th>27282</th>\n",
       "      <td>шоколад клубника йогуртом</td>\n",
       "      <td>Хлеб, сладости, снеки</td>\n",
       "    </tr>\n",
       "    <tr>\n",
       "      <th>5538</th>\n",
       "      <td>сушки кроха цельнозерновые</td>\n",
       "      <td>Хлеб, сладости, снеки</td>\n",
       "    </tr>\n",
       "    <tr>\n",
       "      <th>50402</th>\n",
       "      <td>набор  канцелярский   звёздные войны</td>\n",
       "      <td>Товары для мам и детей</td>\n",
       "    </tr>\n",
       "  </tbody>\n",
       "</table>\n",
       "<p>30742 rows × 2 columns</p>\n",
       "</div>"
      ],
      "text/plain": [
       "                                               name_norm  \\\n",
       "17365                                     соус барилла     \n",
       "34637           пирожное  эклеры крем брюле замороженное   \n",
       "44625  конфеты   молочного шоколада трюфельной начинк...   \n",
       "8452   гель душа   малина пион женский цветочным аром...   \n",
       "21918       лосьон после бритья   экстремальная свежесть   \n",
       "...                                                  ...   \n",
       "47301  смесь молочная сухая  гипоаллергенный \"\" питан...   \n",
       "46297                              спрей  ванной комнаты   \n",
       "27282                          шоколад клубника йогуртом   \n",
       "5538                          сушки кроха цельнозерновые   \n",
       "50402               набор  канцелярский   звёздные войны   \n",
       "\n",
       "                             Категория  \n",
       "17365           Соусы, орехи, консервы  \n",
       "34637            Замороженные продукты  \n",
       "44625            Хлеб, сладости, снеки  \n",
       "8452   Красота, гигиена, бытовая химия  \n",
       "21918  Красота, гигиена, бытовая химия  \n",
       "...                                ...  \n",
       "47301           Товары для мам и детей  \n",
       "46297  Красота, гигиена, бытовая химия  \n",
       "27282            Хлеб, сладости, снеки  \n",
       "5538             Хлеб, сладости, снеки  \n",
       "50402           Товары для мам и детей  \n",
       "\n",
       "[30742 rows x 2 columns]"
      ]
     },
     "execution_count": 105,
     "metadata": {},
     "output_type": "execute_result"
    }
   ],
   "source": [
    "train['Категория']"
   ]
  },
  {
   "cell_type": "code",
   "execution_count": 101,
   "metadata": {},
   "outputs": [
    {
     "data": {
      "text/plain": [
       "tensor([  2, 437, 328, 350, 180,   6, 103,  11,  34,  33, 115, 143, 124,  26,\n",
       "        150, 184, 399, 171,  93,  90,   3])"
      ]
     },
     "execution_count": 101,
     "metadata": {},
     "output_type": "execute_result"
    }
   ],
   "source": [
    "torch.tensor(train_token_ids[2])"
   ]
  },
  {
   "cell_type": "code",
   "execution_count": null,
   "metadata": {},
   "outputs": [],
   "source": [
    "class CatDataset(Dataset):\n",
    "    def __init__(self, token_ids, labels):\n",
    "        self.token_ids = token_ids\n",
    "        self.labels = labels\n",
    "\n",
    "    def __len__(self):\n",
    "        return len(self.token_ids)\n",
    "\n",
    "    def __getitem__(self, item):\n",
    "        text = self.token_ids[item]\n",
    "        start_i = random.randint(0, max(0, len(text) - self.chunk_length - 1))\n",
    "        chunk = text[start_i : start_i + self.chunk_length + 1]\n",
    "\n",
    "        seed_part = chunk[:-1]\n",
    "        target_part = chunk[1:]\n",
    "\n",
    "        seed_part = ensure_length(seed_part, self.chunk_length, self.pad_value)\n",
    "        target_part = ensure_length(target_part, self.chunk_length, self.pad_value)\n",
    "\n",
    "        seed_part = np.array(seed_part)\n",
    "        target_part = np.array(target_part)\n",
    "\n",
    "        return seed_part, target_part"
   ]
  },
  {
   "cell_type": "code",
   "execution_count": null,
   "metadata": {},
   "outputs": [],
   "source": []
  },
  {
   "cell_type": "code",
   "execution_count": null,
   "metadata": {},
   "outputs": [],
   "source": []
  }
 ],
 "metadata": {
  "kernelspec": {
   "display_name": "Python 3",
   "language": "python",
   "name": "python3"
  },
  "language_info": {
   "codemirror_mode": {
    "name": "ipython",
    "version": 3
   },
   "file_extension": ".py",
   "mimetype": "text/x-python",
   "name": "python",
   "nbconvert_exporter": "python",
   "pygments_lexer": "ipython3",
   "version": "3.7.3"
  }
 },
 "nbformat": 4,
 "nbformat_minor": 4
}
