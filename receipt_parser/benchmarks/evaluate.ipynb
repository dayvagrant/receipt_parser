{
 "cells": [
  {
   "cell_type": "markdown",
   "metadata": {},
   "source": [
    "## Система оценки:\n",
    "Аналогично Accuracy\n",
    "\n",
    "Всего 3 категории (название, продукт, бренд)\n",
    "* за каждый верное угадывание 1 балл\n",
    "* за частично верное 0.5\n",
    "* за неверное 0\n",
    "\n",
    "Затем всё это переводится в проценты"
   ]
  },
  {
   "cell_type": "code",
   "execution_count": 1,
   "metadata": {},
   "outputs": [],
   "source": [
    "import pandas as pd\n",
    "import numpy as np\n",
    "from IPython.display import clear_output"
   ]
  },
  {
   "cell_type": "code",
   "execution_count": 23,
   "metadata": {},
   "outputs": [],
   "source": [
    "df = pd.read_csv('standard.csv')\n",
    "tin = pd.read_csv('tinkoff_test.csv')\n",
    "\n",
    "tin_df = pd.concat([df, tin], axis=1)"
   ]
  },
  {
   "cell_type": "code",
   "execution_count": 24,
   "metadata": {},
   "outputs": [
    {
     "data": {
      "text/html": [
       "<div>\n",
       "<style scoped>\n",
       "    .dataframe tbody tr th:only-of-type {\n",
       "        vertical-align: middle;\n",
       "    }\n",
       "\n",
       "    .dataframe tbody tr th {\n",
       "        vertical-align: top;\n",
       "    }\n",
       "\n",
       "    .dataframe thead th {\n",
       "        text-align: right;\n",
       "    }\n",
       "</style>\n",
       "<table border=\"1\" class=\"dataframe\">\n",
       "  <thead>\n",
       "    <tr style=\"text-align: right;\">\n",
       "      <th></th>\n",
       "      <th>shop_name</th>\n",
       "      <th>Название</th>\n",
       "      <th>product</th>\n",
       "      <th>brand</th>\n",
       "      <th>category</th>\n",
       "    </tr>\n",
       "  </thead>\n",
       "  <tbody>\n",
       "    <tr>\n",
       "      <th>0</th>\n",
       "      <td>АТАК</td>\n",
       "      <td>ЖЕЛУДКИ 500Г/ПОДЛ/ТР</td>\n",
       "      <td>желудки</td>\n",
       "      <td>троекурово</td>\n",
       "      <td>Птица, мясо, деликатесы</td>\n",
       "    </tr>\n",
       "    <tr>\n",
       "      <th>1</th>\n",
       "      <td>АТАК</td>\n",
       "      <td>СОК ЯБЛ/БАНАН 6М 0,2</td>\n",
       "      <td>сок</td>\n",
       "      <td>-</td>\n",
       "      <td>Воды, соки, напитки</td>\n",
       "    </tr>\n",
       "  </tbody>\n",
       "</table>\n",
       "</div>"
      ],
      "text/plain": [
       "  shop_name               Название  product       brand  \\\n",
       "0      АТАК   ЖЕЛУДКИ 500Г/ПОДЛ/ТР  желудки  троекурово   \n",
       "1      АТАК   СОК ЯБЛ/БАНАН 6М 0,2      сок           -   \n",
       "\n",
       "                  category  \n",
       "0  Птица, мясо, деликатесы  \n",
       "1      Воды, соки, напитки  "
      ]
     },
     "execution_count": 24,
     "metadata": {},
     "output_type": "execute_result"
    }
   ],
   "source": [
    "df.head(2)"
   ]
  },
  {
   "cell_type": "code",
   "execution_count": 19,
   "metadata": {},
   "outputs": [],
   "source": [
    "def quality_assessment(df: pd.DataFrame, type_: str):\n",
    "    if type_ == 'name':\n",
    "        columns = ['Название', 'Продукт']\n",
    "    elif type_ == 'brand':\n",
    "        columns = ['brand', 'Бренд']\n",
    "    elif type_ == 'category':\n",
    "        columns = ['category', 'Категория']\n",
    "    else:\n",
    "        raise ValueError('Тип может быть только `name`, `brand` или `category`.')\n",
    "        \n",
    "    assessment = 0\n",
    "    for test, pred in df[columns].values:\n",
    "        print(test, '---->', pred, sep='\\t')\n",
    "        assessment += float(input('Оценка: [1, 0.5, 0]'))\n",
    "        clear_output()\n",
    "        \n",
    "    final_score = assessment / len(df) * 100\n",
    "    print(f'Final score for type {type_} is', '{:.2f}%.'.format(final_score))\n",
    "    return final_score"
   ]
  },
  {
   "cell_type": "markdown",
   "metadata": {},
   "source": [
    "#### Оценка через Тинькофф:"
   ]
  },
  {
   "cell_type": "code",
   "execution_count": 43,
   "metadata": {},
   "outputs": [
    {
     "name": "stdout",
     "output_type": "stream",
     "text": [
      "Final score for type name is 85.56%.\n"
     ]
    },
    {
     "data": {
      "text/plain": [
       "85.55555555555556"
      ]
     },
     "execution_count": 43,
     "metadata": {},
     "output_type": "execute_result"
    }
   ],
   "source": [
    "quality_assessment(df, type_='name')"
   ]
  },
  {
   "cell_type": "code",
   "execution_count": 44,
   "metadata": {},
   "outputs": [
    {
     "name": "stdout",
     "output_type": "stream",
     "text": [
      "Final score for type brand is 66.67%.\n"
     ]
    },
    {
     "data": {
      "text/plain": [
       "66.66666666666666"
      ]
     },
     "execution_count": 44,
     "metadata": {},
     "output_type": "execute_result"
    }
   ],
   "source": [
    "quality_assessment(df, type_='brand')"
   ]
  },
  {
   "cell_type": "code",
   "execution_count": 46,
   "metadata": {},
   "outputs": [
    {
     "name": "stdout",
     "output_type": "stream",
     "text": [
      "Final score for type category is 75.56%.\n"
     ]
    },
    {
     "data": {
      "text/plain": [
       "75.55555555555556"
      ]
     },
     "execution_count": 46,
     "metadata": {},
     "output_type": "execute_result"
    }
   ],
   "source": [
    "quality_assessment(df, type_='category')"
   ]
  },
  {
   "cell_type": "markdown",
   "metadata": {},
   "source": [
    "#### Оценка через мою rule based model:"
   ]
  },
  {
   "cell_type": "code",
   "execution_count": 2,
   "metadata": {},
   "outputs": [],
   "source": [
    "import sys\n",
    "sys.path.append('../')\n",
    "from reciept_parser import RuleBased"
   ]
  },
  {
   "cell_type": "code",
   "execution_count": 3,
   "metadata": {},
   "outputs": [],
   "source": [
    "df = pd.read_csv('standard.csv')"
   ]
  },
  {
   "cell_type": "code",
   "execution_count": 17,
   "metadata": {},
   "outputs": [],
   "source": [
    "pathes = {\n",
    "    'rus_brands': '../data/cleaned/brands_ru.csv',\n",
    "    'products': '../data/cleaned/products.csv',\n",
    "    'product_db': '../data/cleaned/all_clean.csv',\n",
    "    'blacklist': '../data/blacklist.csv',\n",
    "    'brands': '../data/cleaned/brands_en.csv'\n",
    "}\n",
    "\n",
    "\n",
    "rb = RuleBased(pathes)\n",
    "rb_df = rb.parse(df[['Название']].rename(columns={'Название': 'name'}))\n",
    "rb_df = pd.concat([df, rb_df], axis=1).rename(columns={'product_norm': 'Продукт', 'brand_norm': 'Бренд', 'cat_norm': 'Категория'})"
   ]
  },
  {
   "cell_type": "code",
   "execution_count": 20,
   "metadata": {},
   "outputs": [
    {
     "name": "stdout",
     "output_type": "stream",
     "text": [
      "Final score for type name is 92.22%.\n"
     ]
    },
    {
     "data": {
      "text/plain": [
       "92.22222222222223"
      ]
     },
     "execution_count": 20,
     "metadata": {},
     "output_type": "execute_result"
    }
   ],
   "source": [
    "quality_assessment(rb_df, type_='name')"
   ]
  },
  {
   "cell_type": "code",
   "execution_count": 21,
   "metadata": {},
   "outputs": [
    {
     "name": "stdout",
     "output_type": "stream",
     "text": [
      "Final score for type brand is 84.44%.\n"
     ]
    },
    {
     "data": {
      "text/plain": [
       "84.44444444444444"
      ]
     },
     "execution_count": 21,
     "metadata": {},
     "output_type": "execute_result"
    }
   ],
   "source": [
    "quality_assessment(rb_df, type_='brand')"
   ]
  },
  {
   "cell_type": "code",
   "execution_count": 22,
   "metadata": {},
   "outputs": [
    {
     "name": "stdout",
     "output_type": "stream",
     "text": [
      "Final score for type category is 75.56%.\n"
     ]
    },
    {
     "data": {
      "text/plain": [
       "75.55555555555556"
      ]
     },
     "execution_count": 22,
     "metadata": {},
     "output_type": "execute_result"
    }
   ],
   "source": [
    "quality_assessment(rb_df, type_='category')"
   ]
  },
  {
   "cell_type": "code",
   "execution_count": null,
   "metadata": {},
   "outputs": [],
   "source": []
  }
 ],
 "metadata": {
  "kernelspec": {
   "display_name": "Python 3",
   "language": "python",
   "name": "python3"
  },
  "language_info": {
   "codemirror_mode": {
    "name": "ipython",
    "version": 3
   },
   "file_extension": ".py",
   "mimetype": "text/x-python",
   "name": "python",
   "nbconvert_exporter": "python",
   "pygments_lexer": "ipython3",
   "version": "3.6.9"
  }
 },
 "nbformat": 4,
 "nbformat_minor": 4
}
